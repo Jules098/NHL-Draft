{
 "cells": [
  {
   "cell_type": "code",
   "execution_count": 49,
   "id": "dc80b18d-81d0-4132-ac8d-4729cdb14d38",
   "metadata": {},
   "outputs": [],
   "source": [
    "import pandas as pd\n",
    "import numpy as np\n",
    "import matplotlib.pyplot as plt\n",
    "import seaborn as sns"
   ]
  },
  {
   "cell_type": "markdown",
   "id": "bfb35541-8183-4c85-bf28-e1b9e2ad27bf",
   "metadata": {},
   "source": [
    "### Load the new data"
   ]
  },
  {
   "cell_type": "code",
   "execution_count": 196,
   "id": "8cae809c-a50d-4ca4-8f28-94305a894371",
   "metadata": {},
   "outputs": [],
   "source": [
    "df_2007=pd.read_csv('~/Desktop/desktop-tutorial/Week_11/Draft_Data/2007_draft.csv', header=0)\n",
    "df_2008=pd.read_csv('~/Desktop/desktop-tutorial/Week_11/Draft_Data/2008_draft.csv', header=1)\n",
    "df_2009=pd.read_csv('~/Desktop/desktop-tutorial/Week_11/Draft_Data/2009_draft.csv', header=1)\n",
    "df_2010=pd.read_csv('~/Desktop/desktop-tutorial/Week_11/Draft_Data/2010_draft.csv', header=1)\n",
    "df_2011=pd.read_csv('~/Desktop/desktop-tutorial/Week_11/Draft_Data/2011_draft.csv', header=1)\n",
    "df_2012=pd.read_csv('~/Desktop/desktop-tutorial/Week_11/Draft_Data/2012_draft.csv', header=1)\n",
    "df_2013=pd.read_csv('~/Desktop/desktop-tutorial/Week_11/Draft_Data/2013_draft.csv', header=1)\n",
    "df_2014=pd.read_csv('~/Desktop/desktop-tutorial/Week_11/Draft_Data/2014_draft.csv', header=0)"
   ]
  },
  {
   "cell_type": "code",
   "execution_count": 197,
   "id": "0f69ad9f-7b93-4579-bcde-f092348127dc",
   "metadata": {},
   "outputs": [
    {
     "name": "stdout",
     "output_type": "stream",
     "text": [
      "(190, 32)\n"
     ]
    },
    {
     "data": {
      "text/html": [
       "<div>\n",
       "<style scoped>\n",
       "    .dataframe tbody tr th:only-of-type {\n",
       "        vertical-align: middle;\n",
       "    }\n",
       "\n",
       "    .dataframe tbody tr th {\n",
       "        vertical-align: top;\n",
       "    }\n",
       "\n",
       "    .dataframe thead th {\n",
       "        text-align: right;\n",
       "    }\n",
       "</style>\n",
       "<table border=\"1\" class=\"dataframe\">\n",
       "  <thead>\n",
       "    <tr style=\"text-align: right;\">\n",
       "      <th></th>\n",
       "      <th>Overall</th>\n",
       "      <th>Team</th>\n",
       "      <th>Player</th>\n",
       "      <th>Nat.</th>\n",
       "      <th>Pos</th>\n",
       "      <th>Age</th>\n",
       "      <th>To</th>\n",
       "      <th>Junior Team</th>\n",
       "      <th>League</th>\n",
       "      <th>GP</th>\n",
       "      <th>...</th>\n",
       "      <th>D-1_P/G</th>\n",
       "      <th>D-1_PIM</th>\n",
       "      <th>D-1_+/-</th>\n",
       "      <th>D0_GP</th>\n",
       "      <th>D0_G</th>\n",
       "      <th>D0_A</th>\n",
       "      <th>D0_TP</th>\n",
       "      <th>D0_P/G</th>\n",
       "      <th>D0_PIM</th>\n",
       "      <th>D0_+/-</th>\n",
       "    </tr>\n",
       "  </thead>\n",
       "  <tbody>\n",
       "    <tr>\n",
       "      <th>0</th>\n",
       "      <td>1</td>\n",
       "      <td>Chicago Blackhawks</td>\n",
       "      <td>Patrick Kane</td>\n",
       "      <td>US</td>\n",
       "      <td>RW</td>\n",
       "      <td>18</td>\n",
       "      <td>2023.0</td>\n",
       "      <td>London Knights</td>\n",
       "      <td>OHL</td>\n",
       "      <td>1126.0</td>\n",
       "      <td>...</td>\n",
       "      <td>1.58</td>\n",
       "      <td>10</td>\n",
       "      <td>0.0</td>\n",
       "      <td>NaN</td>\n",
       "      <td>NaN</td>\n",
       "      <td>NaN</td>\n",
       "      <td>NaN</td>\n",
       "      <td>NaN</td>\n",
       "      <td>NaN</td>\n",
       "      <td>NaN</td>\n",
       "    </tr>\n",
       "    <tr>\n",
       "      <th>1</th>\n",
       "      <td>2</td>\n",
       "      <td>Philadelphia Flyers</td>\n",
       "      <td>James van Riemsdyk</td>\n",
       "      <td>US</td>\n",
       "      <td>LW</td>\n",
       "      <td>18</td>\n",
       "      <td>2023.0</td>\n",
       "      <td>USA U-18 Development Team</td>\n",
       "      <td>USDP/NAHL</td>\n",
       "      <td>885.0</td>\n",
       "      <td>...</td>\n",
       "      <td>0.53</td>\n",
       "      <td>42</td>\n",
       "      <td>0.0</td>\n",
       "      <td>NaN</td>\n",
       "      <td>NaN</td>\n",
       "      <td>NaN</td>\n",
       "      <td>NaN</td>\n",
       "      <td>NaN</td>\n",
       "      <td>NaN</td>\n",
       "      <td>NaN</td>\n",
       "    </tr>\n",
       "    <tr>\n",
       "      <th>2</th>\n",
       "      <td>3</td>\n",
       "      <td>Phoenix Coyotes</td>\n",
       "      <td>Kyle Turris</td>\n",
       "      <td>CA</td>\n",
       "      <td>C</td>\n",
       "      <td>18</td>\n",
       "      <td>2022.0</td>\n",
       "      <td>Burnaby</td>\n",
       "      <td>BCHL</td>\n",
       "      <td>776.0</td>\n",
       "      <td>...</td>\n",
       "      <td>1.26</td>\n",
       "      <td>32</td>\n",
       "      <td>0.0</td>\n",
       "      <td>53.0</td>\n",
       "      <td>66.0</td>\n",
       "      <td>55.0</td>\n",
       "      <td>121.0</td>\n",
       "      <td>2.28</td>\n",
       "      <td>83.0</td>\n",
       "      <td>-</td>\n",
       "    </tr>\n",
       "    <tr>\n",
       "      <th>3</th>\n",
       "      <td>4</td>\n",
       "      <td>Los Angeles Kings</td>\n",
       "      <td>Thomas Hickey</td>\n",
       "      <td>CA</td>\n",
       "      <td>D</td>\n",
       "      <td>18</td>\n",
       "      <td>2022.0</td>\n",
       "      <td>Seattle Thunderbirds</td>\n",
       "      <td>WHL</td>\n",
       "      <td>456.0</td>\n",
       "      <td>...</td>\n",
       "      <td>0.41</td>\n",
       "      <td>53</td>\n",
       "      <td>2.0</td>\n",
       "      <td>NaN</td>\n",
       "      <td>NaN</td>\n",
       "      <td>NaN</td>\n",
       "      <td>NaN</td>\n",
       "      <td>NaN</td>\n",
       "      <td>NaN</td>\n",
       "      <td>NaN</td>\n",
       "    </tr>\n",
       "    <tr>\n",
       "      <th>4</th>\n",
       "      <td>5</td>\n",
       "      <td>Washington Capitals</td>\n",
       "      <td>Karl Alzner</td>\n",
       "      <td>CA</td>\n",
       "      <td>D</td>\n",
       "      <td>18</td>\n",
       "      <td>2020.0</td>\n",
       "      <td>Calgary Hitmen</td>\n",
       "      <td>WHL</td>\n",
       "      <td>686.0</td>\n",
       "      <td>...</td>\n",
       "      <td>0.34</td>\n",
       "      <td>28</td>\n",
       "      <td>14.0</td>\n",
       "      <td>NaN</td>\n",
       "      <td>NaN</td>\n",
       "      <td>NaN</td>\n",
       "      <td>NaN</td>\n",
       "      <td>NaN</td>\n",
       "      <td>NaN</td>\n",
       "      <td>NaN</td>\n",
       "    </tr>\n",
       "  </tbody>\n",
       "</table>\n",
       "<p>5 rows × 32 columns</p>\n",
       "</div>"
      ],
      "text/plain": [
       "   Overall                 Team              Player Nat. Pos  Age      To  \\\n",
       "0        1   Chicago Blackhawks        Patrick Kane   US  RW   18  2023.0   \n",
       "1        2  Philadelphia Flyers  James van Riemsdyk   US  LW   18  2023.0   \n",
       "2        3      Phoenix Coyotes         Kyle Turris   CA   C   18  2022.0   \n",
       "3        4    Los Angeles Kings       Thomas Hickey   CA   D   18  2022.0   \n",
       "4        5  Washington Capitals         Karl Alzner   CA   D   18  2020.0   \n",
       "\n",
       "                  Junior Team     League      GP  ...  D-1_P/G  D-1_PIM  \\\n",
       "0             London Knights         OHL  1126.0  ...     1.58       10   \n",
       "1  USA U-18 Development Team   USDP/NAHL   885.0  ...     0.53       42   \n",
       "2                    Burnaby        BCHL   776.0  ...     1.26       32   \n",
       "3       Seattle Thunderbirds         WHL   456.0  ...     0.41       53   \n",
       "4             Calgary Hitmen         WHL   686.0  ...     0.34       28   \n",
       "\n",
       "   D-1_+/-  D0_GP  D0_G  D0_A  D0_TP D0_P/G  D0_PIM  D0_+/-  \n",
       "0      0.0    NaN   NaN   NaN    NaN    NaN     NaN     NaN  \n",
       "1      0.0    NaN   NaN   NaN    NaN    NaN     NaN     NaN  \n",
       "2      0.0   53.0  66.0  55.0  121.0   2.28    83.0       -  \n",
       "3      2.0    NaN   NaN   NaN    NaN    NaN     NaN     NaN  \n",
       "4     14.0    NaN   NaN   NaN    NaN    NaN     NaN     NaN  \n",
       "\n",
       "[5 rows x 32 columns]"
      ]
     },
     "execution_count": 197,
     "metadata": {},
     "output_type": "execute_result"
    }
   ],
   "source": [
    "print(df_2007.shape)\n",
    "df_2007.head()"
   ]
  },
  {
   "cell_type": "code",
   "execution_count": 198,
   "id": "39a1241c-031f-47e4-a682-85d73d4aa9f8",
   "metadata": {},
   "outputs": [],
   "source": [
    "%store -r Point_df"
   ]
  },
  {
   "cell_type": "code",
   "execution_count": 199,
   "id": "e1bafca7-2d96-4eea-92a1-66e7d9529796",
   "metadata": {},
   "outputs": [],
   "source": [
    "Point_df.reset_index(inplace=True)"
   ]
  },
  {
   "cell_type": "code",
   "execution_count": 200,
   "id": "658bd3fc-4155-4ccb-b135-6986be1e61ef",
   "metadata": {},
   "outputs": [],
   "source": [
    "Point_df.drop(['index'], axis=1, inplace=True)"
   ]
  },
  {
   "cell_type": "code",
   "execution_count": 201,
   "id": "e121fa96-4a92-4621-b762-7bfb62491910",
   "metadata": {},
   "outputs": [],
   "source": [
    "df_2007[['D0_GP', 'D0_G', 'D0_A']] = Point_df[['D0_GP', 'D0_G', 'D0_A']]\n",
    "df_2007[['D0_TP', 'D0_P/G', 'D0_PIM','D0_+/-']] = Point_df[['D0_TP', 'D0_P/G', 'D0_PIM', 'D0_+/-']]"
   ]
  },
  {
   "cell_type": "code",
   "execution_count": 202,
   "id": "641513c9-70b4-428c-80d2-73554706acf4",
   "metadata": {},
   "outputs": [
    {
     "data": {
      "text/html": [
       "<div>\n",
       "<style scoped>\n",
       "    .dataframe tbody tr th:only-of-type {\n",
       "        vertical-align: middle;\n",
       "    }\n",
       "\n",
       "    .dataframe tbody tr th {\n",
       "        vertical-align: top;\n",
       "    }\n",
       "\n",
       "    .dataframe thead th {\n",
       "        text-align: right;\n",
       "    }\n",
       "</style>\n",
       "<table border=\"1\" class=\"dataframe\">\n",
       "  <thead>\n",
       "    <tr style=\"text-align: right;\">\n",
       "      <th></th>\n",
       "      <th>Overall</th>\n",
       "      <th>Team</th>\n",
       "      <th>Player</th>\n",
       "      <th>Nat.</th>\n",
       "      <th>Pos</th>\n",
       "      <th>Age</th>\n",
       "      <th>To</th>\n",
       "      <th>Junior Team</th>\n",
       "      <th>League</th>\n",
       "      <th>GP</th>\n",
       "      <th>...</th>\n",
       "      <th>D-1_P/G</th>\n",
       "      <th>D-1_PIM</th>\n",
       "      <th>D-1_+/-</th>\n",
       "      <th>D0_GP</th>\n",
       "      <th>D0_G</th>\n",
       "      <th>D0_A</th>\n",
       "      <th>D0_TP</th>\n",
       "      <th>D0_P/G</th>\n",
       "      <th>D0_PIM</th>\n",
       "      <th>D0_+/-</th>\n",
       "    </tr>\n",
       "  </thead>\n",
       "  <tbody>\n",
       "    <tr>\n",
       "      <th>0</th>\n",
       "      <td>1</td>\n",
       "      <td>Chicago Blackhawks</td>\n",
       "      <td>Patrick Kane</td>\n",
       "      <td>US</td>\n",
       "      <td>RW</td>\n",
       "      <td>18</td>\n",
       "      <td>2023.0</td>\n",
       "      <td>London Knights</td>\n",
       "      <td>OHL</td>\n",
       "      <td>1126.0</td>\n",
       "      <td>...</td>\n",
       "      <td>1.58</td>\n",
       "      <td>10</td>\n",
       "      <td>0.0</td>\n",
       "      <td>58</td>\n",
       "      <td>62</td>\n",
       "      <td>83</td>\n",
       "      <td>145</td>\n",
       "      <td>2.50</td>\n",
       "      <td>52</td>\n",
       "      <td>42</td>\n",
       "    </tr>\n",
       "    <tr>\n",
       "      <th>1</th>\n",
       "      <td>2</td>\n",
       "      <td>Philadelphia Flyers</td>\n",
       "      <td>James van Riemsdyk</td>\n",
       "      <td>US</td>\n",
       "      <td>LW</td>\n",
       "      <td>18</td>\n",
       "      <td>2023.0</td>\n",
       "      <td>USA U-18 Development Team</td>\n",
       "      <td>USDP/NAHL</td>\n",
       "      <td>885.0</td>\n",
       "      <td>...</td>\n",
       "      <td>0.53</td>\n",
       "      <td>42</td>\n",
       "      <td>0.0</td>\n",
       "      <td>30</td>\n",
       "      <td>20</td>\n",
       "      <td>18</td>\n",
       "      <td>38</td>\n",
       "      <td>1.27</td>\n",
       "      <td>44</td>\n",
       "      <td>-</td>\n",
       "    </tr>\n",
       "    <tr>\n",
       "      <th>2</th>\n",
       "      <td>3</td>\n",
       "      <td>Phoenix Coyotes</td>\n",
       "      <td>Kyle Turris</td>\n",
       "      <td>CA</td>\n",
       "      <td>C</td>\n",
       "      <td>18</td>\n",
       "      <td>2022.0</td>\n",
       "      <td>Burnaby</td>\n",
       "      <td>BCHL</td>\n",
       "      <td>776.0</td>\n",
       "      <td>...</td>\n",
       "      <td>1.26</td>\n",
       "      <td>32</td>\n",
       "      <td>0.0</td>\n",
       "      <td>53</td>\n",
       "      <td>66</td>\n",
       "      <td>55</td>\n",
       "      <td>121</td>\n",
       "      <td>2.28</td>\n",
       "      <td>83</td>\n",
       "      <td>-</td>\n",
       "    </tr>\n",
       "    <tr>\n",
       "      <th>3</th>\n",
       "      <td>4</td>\n",
       "      <td>Los Angeles Kings</td>\n",
       "      <td>Thomas Hickey</td>\n",
       "      <td>CA</td>\n",
       "      <td>D</td>\n",
       "      <td>18</td>\n",
       "      <td>2022.0</td>\n",
       "      <td>Seattle Thunderbirds</td>\n",
       "      <td>WHL</td>\n",
       "      <td>456.0</td>\n",
       "      <td>...</td>\n",
       "      <td>0.41</td>\n",
       "      <td>53</td>\n",
       "      <td>2.0</td>\n",
       "      <td>68</td>\n",
       "      <td>9</td>\n",
       "      <td>41</td>\n",
       "      <td>50</td>\n",
       "      <td>0.74</td>\n",
       "      <td>70</td>\n",
       "      <td>15</td>\n",
       "    </tr>\n",
       "    <tr>\n",
       "      <th>4</th>\n",
       "      <td>5</td>\n",
       "      <td>Washington Capitals</td>\n",
       "      <td>Karl Alzner</td>\n",
       "      <td>CA</td>\n",
       "      <td>D</td>\n",
       "      <td>18</td>\n",
       "      <td>2020.0</td>\n",
       "      <td>Calgary Hitmen</td>\n",
       "      <td>WHL</td>\n",
       "      <td>686.0</td>\n",
       "      <td>...</td>\n",
       "      <td>0.34</td>\n",
       "      <td>28</td>\n",
       "      <td>14.0</td>\n",
       "      <td>63</td>\n",
       "      <td>8</td>\n",
       "      <td>39</td>\n",
       "      <td>47</td>\n",
       "      <td>0.75</td>\n",
       "      <td>32</td>\n",
       "      <td>16</td>\n",
       "    </tr>\n",
       "  </tbody>\n",
       "</table>\n",
       "<p>5 rows × 32 columns</p>\n",
       "</div>"
      ],
      "text/plain": [
       "   Overall                 Team              Player Nat. Pos  Age      To  \\\n",
       "0        1   Chicago Blackhawks        Patrick Kane   US  RW   18  2023.0   \n",
       "1        2  Philadelphia Flyers  James van Riemsdyk   US  LW   18  2023.0   \n",
       "2        3      Phoenix Coyotes         Kyle Turris   CA   C   18  2022.0   \n",
       "3        4    Los Angeles Kings       Thomas Hickey   CA   D   18  2022.0   \n",
       "4        5  Washington Capitals         Karl Alzner   CA   D   18  2020.0   \n",
       "\n",
       "                  Junior Team     League      GP  ...  D-1_P/G  D-1_PIM  \\\n",
       "0             London Knights         OHL  1126.0  ...     1.58       10   \n",
       "1  USA U-18 Development Team   USDP/NAHL   885.0  ...     0.53       42   \n",
       "2                    Burnaby        BCHL   776.0  ...     1.26       32   \n",
       "3       Seattle Thunderbirds         WHL   456.0  ...     0.41       53   \n",
       "4             Calgary Hitmen         WHL   686.0  ...     0.34       28   \n",
       "\n",
       "   D-1_+/-  D0_GP  D0_G D0_A  D0_TP D0_P/G  D0_PIM  D0_+/-  \n",
       "0      0.0     58    62   83    145   2.50      52      42  \n",
       "1      0.0     30    20   18     38   1.27      44       -  \n",
       "2      0.0     53    66   55    121   2.28      83       -  \n",
       "3      2.0     68     9   41     50   0.74      70      15  \n",
       "4     14.0     63     8   39     47   0.75      32      16  \n",
       "\n",
       "[5 rows x 32 columns]"
      ]
     },
     "execution_count": 202,
     "metadata": {},
     "output_type": "execute_result"
    }
   ],
   "source": [
    "df_2007.head()"
   ]
  },
  {
   "cell_type": "markdown",
   "id": "5241f9a6-0103-42d4-a024-9b27ba148010",
   "metadata": {},
   "source": [
    "## Clean new Data and Combine it with previous version"
   ]
  },
  {
   "cell_type": "code",
   "execution_count": 203,
   "id": "5bfb1ae1-1655-4521-a710-69014bf9abfd",
   "metadata": {},
   "outputs": [
    {
     "name": "stdout",
     "output_type": "stream",
     "text": [
      "(190, 32)\n",
      "(188, 33)\n",
      "(189, 32)\n"
     ]
    }
   ],
   "source": [
    "print(df_2007.shape)\n",
    "print(df_2008.shape)\n",
    "print(df_2009.shape)"
   ]
  },
  {
   "cell_type": "code",
   "execution_count": 204,
   "id": "96c2f5b6-f8ec-4a2f-8c62-83ef6e0055bc",
   "metadata": {},
   "outputs": [
    {
     "data": {
      "text/plain": [
       "Overall          0\n",
       "Team             0\n",
       "Player           0\n",
       "Nat.             0\n",
       "Pos              0\n",
       "Age              0\n",
       "To             100\n",
       "Junior Team      0\n",
       "League           0\n",
       "GP             100\n",
       "G              100\n",
       "A              100\n",
       "PTS            100\n",
       "+/-            100\n",
       "PIM            100\n",
       "Height           0\n",
       "Weight           0\n",
       "D-1_League       0\n",
       "D-1_GP           0\n",
       "D-1_G            0\n",
       "D-1_A            0\n",
       "D-1_TP           0\n",
       "D-1_P/G          0\n",
       "D-1_PIM          0\n",
       "D-1_+/-          0\n",
       "D0_GP            0\n",
       "D0_G             0\n",
       "D0_A             0\n",
       "D0_TP            0\n",
       "D0_P/G           0\n",
       "D0_PIM           0\n",
       "D0_+/-           1\n",
       "dtype: int64"
      ]
     },
     "execution_count": 204,
     "metadata": {},
     "output_type": "execute_result"
    }
   ],
   "source": [
    "df_2014.isnull().sum()"
   ]
  },
  {
   "cell_type": "code",
   "execution_count": 208,
   "id": "e510bd17-e7aa-4832-9147-6a4333c6b65e",
   "metadata": {},
   "outputs": [],
   "source": [
    "df_2007.loc[189]=df_2007.loc[189].fillna(0)"
   ]
  },
  {
   "cell_type": "code",
   "execution_count": 209,
   "id": "3b124cfe-fdef-4cbe-b242-a2261772bce5",
   "metadata": {},
   "outputs": [],
   "source": [
    "forfeit=df_2011[df_2011['Nat.'].isnull()].index\n",
    "df_2011 = df_2011.drop(forfeit)"
   ]
  },
  {
   "cell_type": "code",
   "execution_count": 210,
   "id": "6943b791-4e60-4c46-b422-82a46669a5d0",
   "metadata": {},
   "outputs": [],
   "source": [
    "# Concatenate dataframes to order the D-1 years\n",
    "\n",
    "drafts = [df_2007, df_2008, df_2009,\n",
    "          df_2010, df_2011, df_2012,\n",
    "          df_2013, df_2014]\n",
    "\n",
    "pre_draft = pd.concat(drafts, axis=0)"
   ]
  },
  {
   "cell_type": "code",
   "execution_count": 211,
   "id": "1b025166-a837-456a-8e49-a5a52f320569",
   "metadata": {},
   "outputs": [
    {
     "data": {
      "text/html": [
       "<div>\n",
       "<style scoped>\n",
       "    .dataframe tbody tr th:only-of-type {\n",
       "        vertical-align: middle;\n",
       "    }\n",
       "\n",
       "    .dataframe tbody tr th {\n",
       "        vertical-align: top;\n",
       "    }\n",
       "\n",
       "    .dataframe thead th {\n",
       "        text-align: right;\n",
       "    }\n",
       "</style>\n",
       "<table border=\"1\" class=\"dataframe\">\n",
       "  <thead>\n",
       "    <tr style=\"text-align: right;\">\n",
       "      <th></th>\n",
       "      <th>Overall</th>\n",
       "      <th>Team</th>\n",
       "      <th>Player</th>\n",
       "      <th>Nat.</th>\n",
       "      <th>Pos</th>\n",
       "      <th>Age</th>\n",
       "      <th>To</th>\n",
       "      <th>Junior Team</th>\n",
       "      <th>League</th>\n",
       "      <th>GP</th>\n",
       "      <th>...</th>\n",
       "      <th>D-1_PIM</th>\n",
       "      <th>D-1_+/-</th>\n",
       "      <th>D0_GP</th>\n",
       "      <th>D0_G</th>\n",
       "      <th>D0_A</th>\n",
       "      <th>D0_TP</th>\n",
       "      <th>D0_P/G</th>\n",
       "      <th>D0_PIM</th>\n",
       "      <th>D0_+/-</th>\n",
       "      <th>NHLe</th>\n",
       "    </tr>\n",
       "  </thead>\n",
       "  <tbody>\n",
       "    <tr>\n",
       "      <th>0</th>\n",
       "      <td>1</td>\n",
       "      <td>Chicago Blackhawks</td>\n",
       "      <td>Patrick Kane</td>\n",
       "      <td>US</td>\n",
       "      <td>RW</td>\n",
       "      <td>18.0</td>\n",
       "      <td>2023.0</td>\n",
       "      <td>London Knights</td>\n",
       "      <td>OHL</td>\n",
       "      <td>1126.0</td>\n",
       "      <td>...</td>\n",
       "      <td>10.0</td>\n",
       "      <td>0.0</td>\n",
       "      <td>58.0</td>\n",
       "      <td>62.0</td>\n",
       "      <td>83.0</td>\n",
       "      <td>145.0</td>\n",
       "      <td>2.5</td>\n",
       "      <td>52</td>\n",
       "      <td>42</td>\n",
       "      <td>NaN</td>\n",
       "    </tr>\n",
       "    <tr>\n",
       "      <th>1</th>\n",
       "      <td>2</td>\n",
       "      <td>Philadelphia Flyers</td>\n",
       "      <td>James van Riemsdyk</td>\n",
       "      <td>US</td>\n",
       "      <td>LW</td>\n",
       "      <td>18.0</td>\n",
       "      <td>2023.0</td>\n",
       "      <td>USA U-18 Development Team</td>\n",
       "      <td>USDP/NAHL</td>\n",
       "      <td>885.0</td>\n",
       "      <td>...</td>\n",
       "      <td>42.0</td>\n",
       "      <td>0.0</td>\n",
       "      <td>30.0</td>\n",
       "      <td>20.0</td>\n",
       "      <td>18.0</td>\n",
       "      <td>38.0</td>\n",
       "      <td>1.27</td>\n",
       "      <td>44</td>\n",
       "      <td>-</td>\n",
       "      <td>NaN</td>\n",
       "    </tr>\n",
       "    <tr>\n",
       "      <th>2</th>\n",
       "      <td>3</td>\n",
       "      <td>Phoenix Coyotes</td>\n",
       "      <td>Kyle Turris</td>\n",
       "      <td>CA</td>\n",
       "      <td>C</td>\n",
       "      <td>18.0</td>\n",
       "      <td>2022.0</td>\n",
       "      <td>Burnaby</td>\n",
       "      <td>BCHL</td>\n",
       "      <td>776.0</td>\n",
       "      <td>...</td>\n",
       "      <td>32.0</td>\n",
       "      <td>0.0</td>\n",
       "      <td>53.0</td>\n",
       "      <td>66.0</td>\n",
       "      <td>55.0</td>\n",
       "      <td>121.0</td>\n",
       "      <td>2.28</td>\n",
       "      <td>83</td>\n",
       "      <td>-</td>\n",
       "      <td>NaN</td>\n",
       "    </tr>\n",
       "    <tr>\n",
       "      <th>3</th>\n",
       "      <td>4</td>\n",
       "      <td>Los Angeles Kings</td>\n",
       "      <td>Thomas Hickey</td>\n",
       "      <td>CA</td>\n",
       "      <td>D</td>\n",
       "      <td>18.0</td>\n",
       "      <td>2022.0</td>\n",
       "      <td>Seattle Thunderbirds</td>\n",
       "      <td>WHL</td>\n",
       "      <td>456.0</td>\n",
       "      <td>...</td>\n",
       "      <td>53.0</td>\n",
       "      <td>2.0</td>\n",
       "      <td>68.0</td>\n",
       "      <td>9.0</td>\n",
       "      <td>41.0</td>\n",
       "      <td>50.0</td>\n",
       "      <td>0.74</td>\n",
       "      <td>70</td>\n",
       "      <td>15</td>\n",
       "      <td>NaN</td>\n",
       "    </tr>\n",
       "    <tr>\n",
       "      <th>4</th>\n",
       "      <td>5</td>\n",
       "      <td>Washington Capitals</td>\n",
       "      <td>Karl Alzner</td>\n",
       "      <td>CA</td>\n",
       "      <td>D</td>\n",
       "      <td>18.0</td>\n",
       "      <td>2020.0</td>\n",
       "      <td>Calgary Hitmen</td>\n",
       "      <td>WHL</td>\n",
       "      <td>686.0</td>\n",
       "      <td>...</td>\n",
       "      <td>28.0</td>\n",
       "      <td>14.0</td>\n",
       "      <td>63.0</td>\n",
       "      <td>8.0</td>\n",
       "      <td>39.0</td>\n",
       "      <td>47.0</td>\n",
       "      <td>0.75</td>\n",
       "      <td>32</td>\n",
       "      <td>16</td>\n",
       "      <td>NaN</td>\n",
       "    </tr>\n",
       "  </tbody>\n",
       "</table>\n",
       "<p>5 rows × 33 columns</p>\n",
       "</div>"
      ],
      "text/plain": [
       "   Overall                 Team              Player Nat. Pos   Age      To  \\\n",
       "0        1   Chicago Blackhawks        Patrick Kane   US  RW  18.0  2023.0   \n",
       "1        2  Philadelphia Flyers  James van Riemsdyk   US  LW  18.0  2023.0   \n",
       "2        3      Phoenix Coyotes         Kyle Turris   CA   C  18.0  2022.0   \n",
       "3        4    Los Angeles Kings       Thomas Hickey   CA   D  18.0  2022.0   \n",
       "4        5  Washington Capitals         Karl Alzner   CA   D  18.0  2020.0   \n",
       "\n",
       "                  Junior Team     League      GP  ...  D-1_PIM  D-1_+/-  \\\n",
       "0             London Knights         OHL  1126.0  ...     10.0      0.0   \n",
       "1  USA U-18 Development Team   USDP/NAHL   885.0  ...     42.0      0.0   \n",
       "2                    Burnaby        BCHL   776.0  ...     32.0      0.0   \n",
       "3       Seattle Thunderbirds         WHL   456.0  ...     53.0      2.0   \n",
       "4             Calgary Hitmen         WHL   686.0  ...     28.0     14.0   \n",
       "\n",
       "   D0_GP  D0_G  D0_A  D0_TP  D0_P/G D0_PIM  D0_+/-  NHLe  \n",
       "0   58.0  62.0  83.0  145.0     2.5     52      42   NaN  \n",
       "1   30.0  20.0  18.0   38.0    1.27     44       -   NaN  \n",
       "2   53.0  66.0  55.0  121.0    2.28     83       -   NaN  \n",
       "3   68.0   9.0  41.0   50.0    0.74     70      15   NaN  \n",
       "4   63.0   8.0  39.0   47.0    0.75     32      16   NaN  \n",
       "\n",
       "[5 rows x 33 columns]"
      ]
     },
     "execution_count": 211,
     "metadata": {},
     "output_type": "execute_result"
    }
   ],
   "source": [
    "pre_draft.head()"
   ]
  },
  {
   "cell_type": "code",
   "execution_count": 212,
   "id": "dcba9a11-8f36-405e-abcb-d236c46325f4",
   "metadata": {},
   "outputs": [],
   "source": [
    "pre_draft.reset_index(inplace=True)"
   ]
  },
  {
   "cell_type": "code",
   "execution_count": 213,
   "id": "43d50ecc-ff3f-49e5-b495-f4a967ee774a",
   "metadata": {},
   "outputs": [],
   "source": [
    "pre_draft = pre_draft.drop(['index'], axis=1)"
   ]
  },
  {
   "cell_type": "code",
   "execution_count": 214,
   "id": "0d60b00a-35e2-48a3-b81f-4debdccd10ab",
   "metadata": {},
   "outputs": [],
   "source": [
    "pre_draft['D-1_League'] = pre_draft['D-1_League'].fillna('N/A')"
   ]
  },
  {
   "cell_type": "code",
   "execution_count": 215,
   "id": "3d6991c4-7ebf-4566-a703-9bee33994841",
   "metadata": {},
   "outputs": [
    {
     "data": {
      "text/plain": [
       "array(['USDP/NAHL', 'BCHL', 'WHL', 'USHL', 'Czech Jr.', 'OHL', 'High-MN',\n",
       "       'Sweden Jr.', 'Russia-3', 'QMJHL', 'BCMML', 'High-MA', 'QJAAAHL',\n",
       "       'OPJHL', 'AJHL', 'High-CT', 'High-MI', 'CCHL', 'NLB', 'U20-Elit',\n",
       "       'MJHL', 'QMAAA', 'PIJHL', 'N/A', 'NCAA', 'AMHL', 'Finland Jr.',\n",
       "       'Slovakia Jr.', 'VIJHL', 'WOHL', 'MJAHL', 'J18-Elit', 'GTHL-U18',\n",
       "       'DEL2', 'OJHL', 'T1EHL 18U', 'CAHS', 0, 'USHS-MN', 'GHL', 'Russia',\n",
       "       'U18 A1', 'USHS-Prep', '18U AAA', 'Norway2', 'Czech U20',\n",
       "       'Belarus', 'Sweden', 'J18 Allsvensken', 'MMHL', 'USHS-MI', 'DNL',\n",
       "       'Norway', 'EJHL', 'U18-SM Sarja', 'USHS-WI', 'GTHL U18',\n",
       "       'Division 1', 'Division-1', 'USHS-ME', 'CHA Jr. B', '16U AAA',\n",
       "       'KIJHL', 'Germany3', 'SJHL', 'T1EHL-18U', 'GOJHL', 'BCEHL U18',\n",
       "       'Czech-2', 'U18-1 divisioona', 'Germany2', 'AYHL 16U', 'SMAAAHL',\n",
       "       'SSMHL U18', 'SOJHL', 'USDP', 'Russia-2', 'Denmark', 'ETAHL U18',\n",
       "       'T1EHL 16U', 'Slovakir U18', 'Czech U18', 'UMHSEHL', 'MPHL',\n",
       "       'Finland', 'Slovakia', 'USHS-NH', 'U18 AAA', 'USHS-MA', 'NLA',\n",
       "       'NAPHL 16U', 'RBHRC U18', 'U18 Suomi-sarja', 'ACHA', 'J18 Elit',\n",
       "       'ALLIANCE U18'], dtype=object)"
      ]
     },
     "execution_count": 215,
     "metadata": {},
     "output_type": "execute_result"
    }
   ],
   "source": [
    "pre_draft['D-1_League'].unique()"
   ]
  },
  {
   "cell_type": "code",
   "execution_count": 216,
   "id": "4323c35e-f897-4c25-85fe-58da299da70a",
   "metadata": {},
   "outputs": [],
   "source": [
    "%store -r draft_db"
   ]
  },
  {
   "cell_type": "code",
   "execution_count": 219,
   "id": "beb561ce-f340-456c-94b3-d981cdc37d28",
   "metadata": {},
   "outputs": [],
   "source": [
    "draft_db = draft_db.drop(['index'], axis=1)"
   ]
  },
  {
   "cell_type": "code",
   "execution_count": 220,
   "id": "1e04cfff-314b-4ac2-b3b0-5bd360530fd1",
   "metadata": {},
   "outputs": [],
   "source": [
    "draft_db = draft_db.drop(['level_0'], axis=1)"
   ]
  },
  {
   "cell_type": "code",
   "execution_count": 221,
   "id": "a998e44e-9687-46ba-903d-be323797fdba",
   "metadata": {},
   "outputs": [
    {
     "data": {
      "text/plain": [
       "(1512, 33)"
      ]
     },
     "execution_count": 221,
     "metadata": {},
     "output_type": "execute_result"
    }
   ],
   "source": [
    "pre_draft.shape"
   ]
  },
  {
   "cell_type": "code",
   "execution_count": 222,
   "id": "ed3a5f24-3eca-4076-bfd3-ebe807b127ac",
   "metadata": {},
   "outputs": [
    {
     "data": {
      "text/plain": [
       "(1512, 27)"
      ]
     },
     "execution_count": 222,
     "metadata": {},
     "output_type": "execute_result"
    }
   ],
   "source": [
    "draft_db.shape"
   ]
  },
  {
   "cell_type": "code",
   "execution_count": 223,
   "id": "eb379290-873b-4441-86cd-6f1d4b79f48a",
   "metadata": {},
   "outputs": [],
   "source": [
    "draft_db[['D-1_GP', 'D-1_G', 'D-1_A']] = pre_draft[['D-1_GP', 'D-1_G', 'D-1_A']]\n",
    "draft_db[['D-1_TP', 'D-1_P/G']] = pre_draft[['D-1_TP', 'D-1_P/G']]"
   ]
  },
  {
   "cell_type": "code",
   "execution_count": 228,
   "id": "51365118-a585-4fb8-aed6-ec9b7ecc41b4",
   "metadata": {},
   "outputs": [],
   "source": [
    "draft_db['D-1_League'] = pre_draft['D-1_League']"
   ]
  },
  {
   "cell_type": "code",
   "execution_count": 229,
   "id": "6e834829-4162-4f0d-a202-c82d28691f4f",
   "metadata": {},
   "outputs": [
    {
     "data": {
      "text/plain": [
       "Overall               0\n",
       "Team                  0\n",
       "Player                0\n",
       "Nat.                  0\n",
       "Pos                   0\n",
       "Age                   0\n",
       "To                  726\n",
       "Junior Team           0\n",
       "League                0\n",
       "GP                  726\n",
       "G                   726\n",
       "A                   726\n",
       "PTS                 726\n",
       "+/-                 726\n",
       "PIM                 726\n",
       "Height                0\n",
       "Weight                0\n",
       "D0_GP                 0\n",
       "D0_G                  0\n",
       "D0_A                  0\n",
       "D0_TP                 0\n",
       "D0_P/G                0\n",
       "D0_PIM                0\n",
       "D0_+/-                2\n",
       "NHLe Coefficient      0\n",
       "NHLe                  0\n",
       "NHLer                 0\n",
       "D-1_GP                0\n",
       "D-1_G                 0\n",
       "D-1_A                 0\n",
       "D-1_TP                0\n",
       "D-1_P/G               0\n",
       "D-1_League            0\n",
       "dtype: int64"
      ]
     },
     "execution_count": 229,
     "metadata": {},
     "output_type": "execute_result"
    }
   ],
   "source": [
    "draft_db.isnull().sum()"
   ]
  },
  {
   "cell_type": "code",
   "execution_count": 233,
   "id": "9386a81d-c961-4c35-b4e1-fc121f7be10a",
   "metadata": {},
   "outputs": [],
   "source": [
    "draft_db = draft_db.astype({'D-1_League': str,\n",
    "                            'D-1_GP': int,\n",
    "                            'D-1_G': int,\n",
    "                            'D-1_A': int,\n",
    "                            'D-1_TP': int,\n",
    "                            'D-1_P/G': float,\n",
    "                           }\n",
    "                          )"
   ]
  },
  {
   "cell_type": "code",
   "execution_count": 236,
   "id": "b3f9fbc1-c958-425b-8be1-e9d9a4ea1f19",
   "metadata": {},
   "outputs": [
    {
     "data": {
      "text/plain": [
       "Index(['Overall', 'Team', 'Player', 'Nat.', 'Pos', 'Age', 'To', 'Junior Team',\n",
       "       'League', 'GP', 'G', 'A', 'PTS', '+/-', 'PIM', 'Height', 'Weight',\n",
       "       'D0_GP', 'D0_G', 'D0_A', 'D0_TP', 'D0_P/G', 'D0_PIM', 'D0_+/-',\n",
       "       'NHLe Coefficient', 'NHLe', 'NHLer', 'D-1_GP', 'D-1_G', 'D-1_A',\n",
       "       'D-1_TP', 'D-1_P/G', 'D-1_League'],\n",
       "      dtype='object')"
      ]
     },
     "execution_count": 236,
     "metadata": {},
     "output_type": "execute_result"
    }
   ],
   "source": [
    "draft_db.columns"
   ]
  },
  {
   "cell_type": "code",
   "execution_count": 237,
   "id": "7c044151-f1f3-472f-ba77-8566de0e0771",
   "metadata": {},
   "outputs": [],
   "source": [
    "draftMinus1 = draft_db[['D-1_League', 'D-1_GP', 'D-1_G',\n",
    "                        'D-1_A', 'D-1_TP', 'D-1_P/G']]"
   ]
  },
  {
   "cell_type": "code",
   "execution_count": 248,
   "id": "6f4c2711-8940-4654-bb3b-04d2e1232cb2",
   "metadata": {},
   "outputs": [
    {
     "name": "stderr",
     "output_type": "stream",
     "text": [
      "/var/folders/cl/dg9768bj6ys0prn_4p_bbftw0000gn/T/ipykernel_73208/120879192.py:1: SettingWithCopyWarning: \n",
      "A value is trying to be set on a copy of a slice from a DataFrame.\n",
      "Try using .loc[row_indexer,col_indexer] = value instead\n",
      "\n",
      "See the caveats in the documentation: https://pandas.pydata.org/pandas-docs/stable/user_guide/indexing.html#returning-a-view-versus-a-copy\n",
      "  draftMinus1['D-1_League'] = draftMinus1['D-1_League'].replace('Czech U20', 'Czech Jr.')\n"
     ]
    }
   ],
   "source": [
    "draftMinus1['D-1_League'] = draftMinus1['D-1_League'].replace('Czech U20', 'Czech Jr.')"
   ]
  },
  {
   "cell_type": "code",
   "execution_count": 250,
   "id": "0e93a0ba-7b91-4543-ab54-63ed33fb90ff",
   "metadata": {},
   "outputs": [
    {
     "name": "stderr",
     "output_type": "stream",
     "text": [
      "/var/folders/cl/dg9768bj6ys0prn_4p_bbftw0000gn/T/ipykernel_73208/3727736949.py:1: SettingWithCopyWarning: \n",
      "A value is trying to be set on a copy of a slice from a DataFrame.\n",
      "Try using .loc[row_indexer,col_indexer] = value instead\n",
      "\n",
      "See the caveats in the documentation: https://pandas.pydata.org/pandas-docs/stable/user_guide/indexing.html#returning-a-view-versus-a-copy\n",
      "  draftMinus1['D-1_League'] = draftMinus1['D-1_League'].replace('Germany2', 'DEL2')\n"
     ]
    }
   ],
   "source": [
    "draftMinus1['D-1_League'] = draftMinus1['D-1_League'].replace('Germany2', 'DEL2')"
   ]
  },
  {
   "cell_type": "code",
   "execution_count": 252,
   "id": "d02a5591-01d3-4ef1-9a12-f8afab08a830",
   "metadata": {},
   "outputs": [
    {
     "name": "stderr",
     "output_type": "stream",
     "text": [
      "/var/folders/cl/dg9768bj6ys0prn_4p_bbftw0000gn/T/ipykernel_73208/3611210268.py:1: SettingWithCopyWarning: \n",
      "A value is trying to be set on a copy of a slice from a DataFrame.\n",
      "Try using .loc[row_indexer,col_indexer] = value instead\n",
      "\n",
      "See the caveats in the documentation: https://pandas.pydata.org/pandas-docs/stable/user_guide/indexing.html#returning-a-view-versus-a-copy\n",
      "  draftMinus1['D-1_League'] = draftMinus1['D-1_League'].replace('Division-1', 'Division 1')\n"
     ]
    }
   ],
   "source": [
    "draftMinus1['D-1_League'] = draftMinus1['D-1_League'].replace('Division-1', 'Division 1')"
   ]
  },
  {
   "cell_type": "code",
   "execution_count": 254,
   "id": "2502ff0c-ec96-492e-a8e1-cbc8c434a5c5",
   "metadata": {},
   "outputs": [
    {
     "name": "stderr",
     "output_type": "stream",
     "text": [
      "/var/folders/cl/dg9768bj6ys0prn_4p_bbftw0000gn/T/ipykernel_73208/4190928134.py:1: SettingWithCopyWarning: \n",
      "A value is trying to be set on a copy of a slice from a DataFrame.\n",
      "Try using .loc[row_indexer,col_indexer] = value instead\n",
      "\n",
      "See the caveats in the documentation: https://pandas.pydata.org/pandas-docs/stable/user_guide/indexing.html#returning-a-view-versus-a-copy\n",
      "  draftMinus1['D-1_League'] = draftMinus1['D-1_League'].replace('GTHL-U18', 'GTHL U18')\n"
     ]
    }
   ],
   "source": [
    "draftMinus1['D-1_League'] = draftMinus1['D-1_League'].replace('GTHL-U18', 'GTHL U18')"
   ]
  },
  {
   "cell_type": "code",
   "execution_count": 257,
   "id": "ef8c44a6-789f-45a9-ba29-c21c80638c43",
   "metadata": {},
   "outputs": [
    {
     "name": "stderr",
     "output_type": "stream",
     "text": [
      "/var/folders/cl/dg9768bj6ys0prn_4p_bbftw0000gn/T/ipykernel_73208/121135157.py:1: SettingWithCopyWarning: \n",
      "A value is trying to be set on a copy of a slice from a DataFrame.\n",
      "Try using .loc[row_indexer,col_indexer] = value instead\n",
      "\n",
      "See the caveats in the documentation: https://pandas.pydata.org/pandas-docs/stable/user_guide/indexing.html#returning-a-view-versus-a-copy\n",
      "  draftMinus1['D-1_League'] = draftMinus1['D-1_League'].replace('J18-Elit', 'J18 Elit')\n"
     ]
    }
   ],
   "source": [
    "draftMinus1['D-1_League'] = draftMinus1['D-1_League'].replace('J18-Elit', 'J18 Elit')"
   ]
  },
  {
   "cell_type": "code",
   "execution_count": 259,
   "id": "3578c9e4-da32-4a11-8c08-0570f7cce555",
   "metadata": {},
   "outputs": [
    {
     "name": "stderr",
     "output_type": "stream",
     "text": [
      "/var/folders/cl/dg9768bj6ys0prn_4p_bbftw0000gn/T/ipykernel_73208/2493105915.py:1: SettingWithCopyWarning: \n",
      "A value is trying to be set on a copy of a slice from a DataFrame.\n",
      "Try using .loc[row_indexer,col_indexer] = value instead\n",
      "\n",
      "See the caveats in the documentation: https://pandas.pydata.org/pandas-docs/stable/user_guide/indexing.html#returning-a-view-versus-a-copy\n",
      "  draftMinus1['D-1_League'] = draftMinus1['D-1_League'].replace('Slovakir U18', 'Slovakia U18')\n"
     ]
    }
   ],
   "source": [
    "draftMinus1['D-1_League'] = draftMinus1['D-1_League'].replace('Slovakir U18', 'Slovakia U18')"
   ]
  },
  {
   "cell_type": "code",
   "execution_count": 261,
   "id": "33b7a9f8-3fd6-412e-a03b-f57d840c3177",
   "metadata": {},
   "outputs": [
    {
     "name": "stderr",
     "output_type": "stream",
     "text": [
      "/var/folders/cl/dg9768bj6ys0prn_4p_bbftw0000gn/T/ipykernel_73208/4250831124.py:1: SettingWithCopyWarning: \n",
      "A value is trying to be set on a copy of a slice from a DataFrame.\n",
      "Try using .loc[row_indexer,col_indexer] = value instead\n",
      "\n",
      "See the caveats in the documentation: https://pandas.pydata.org/pandas-docs/stable/user_guide/indexing.html#returning-a-view-versus-a-copy\n",
      "  draftMinus1['D-1_League'] = draftMinus1['D-1_League'].replace('T1EHL-18U', 'T1EHL 18U')\n"
     ]
    }
   ],
   "source": [
    "draftMinus1['D-1_League'] = draftMinus1['D-1_League'].replace('T1EHL-18U', 'T1EHL 18U')"
   ]
  },
  {
   "cell_type": "code",
   "execution_count": 263,
   "id": "83cc2515-fd41-492f-9d97-f762e99f54d2",
   "metadata": {},
   "outputs": [
    {
     "name": "stderr",
     "output_type": "stream",
     "text": [
      "/var/folders/cl/dg9768bj6ys0prn_4p_bbftw0000gn/T/ipykernel_73208/2519620803.py:1: SettingWithCopyWarning: \n",
      "A value is trying to be set on a copy of a slice from a DataFrame.\n",
      "Try using .loc[row_indexer,col_indexer] = value instead\n",
      "\n",
      "See the caveats in the documentation: https://pandas.pydata.org/pandas-docs/stable/user_guide/indexing.html#returning-a-view-versus-a-copy\n",
      "  draftMinus1['D-1_League'] = draftMinus1['D-1_League'].replace('U18 A1', '18U AAA')\n",
      "/var/folders/cl/dg9768bj6ys0prn_4p_bbftw0000gn/T/ipykernel_73208/2519620803.py:2: SettingWithCopyWarning: \n",
      "A value is trying to be set on a copy of a slice from a DataFrame.\n",
      "Try using .loc[row_indexer,col_indexer] = value instead\n",
      "\n",
      "See the caveats in the documentation: https://pandas.pydata.org/pandas-docs/stable/user_guide/indexing.html#returning-a-view-versus-a-copy\n",
      "  draftMinus1['D-1_League'] = draftMinus1['D-1_League'].replace('U18 AAA', '18U AAA')\n"
     ]
    }
   ],
   "source": [
    "draftMinus1['D-1_League'] = draftMinus1['D-1_League'].replace('U18 A1', '18U AAA')\n",
    "draftMinus1['D-1_League'] = draftMinus1['D-1_League'].replace('U18 AAA', '18U AAA')"
   ]
  },
  {
   "cell_type": "code",
   "execution_count": 265,
   "id": "edd8c62e-3025-4afd-8b50-7d1c76cf163b",
   "metadata": {},
   "outputs": [
    {
     "name": "stderr",
     "output_type": "stream",
     "text": [
      "/var/folders/cl/dg9768bj6ys0prn_4p_bbftw0000gn/T/ipykernel_73208/2966538794.py:1: SettingWithCopyWarning: \n",
      "A value is trying to be set on a copy of a slice from a DataFrame.\n",
      "Try using .loc[row_indexer,col_indexer] = value instead\n",
      "\n",
      "See the caveats in the documentation: https://pandas.pydata.org/pandas-docs/stable/user_guide/indexing.html#returning-a-view-versus-a-copy\n",
      "  draftMinus1['D-1_League'] = draftMinus1['D-1_League'].replace('U18 Suomi-sarja', 'U18-SM Sarja')\n"
     ]
    }
   ],
   "source": [
    "draftMinus1['D-1_League'] = draftMinus1['D-1_League'].replace('U18 Suomi-sarja', 'U18-SM Sarja')"
   ]
  },
  {
   "cell_type": "code",
   "execution_count": 268,
   "id": "45584709-75a6-489f-96f5-7807d9613dde",
   "metadata": {},
   "outputs": [
    {
     "name": "stderr",
     "output_type": "stream",
     "text": [
      "/var/folders/cl/dg9768bj6ys0prn_4p_bbftw0000gn/T/ipykernel_73208/3009115303.py:1: SettingWithCopyWarning: \n",
      "A value is trying to be set on a copy of a slice from a DataFrame.\n",
      "Try using .loc[row_indexer,col_indexer] = value instead\n",
      "\n",
      "See the caveats in the documentation: https://pandas.pydata.org/pandas-docs/stable/user_guide/indexing.html#returning-a-view-versus-a-copy\n",
      "  draftMinus1['D-1_League'] = draftMinus1['D-1_League'].replace('USHS-MA', 'USHS-Prep')\n",
      "/var/folders/cl/dg9768bj6ys0prn_4p_bbftw0000gn/T/ipykernel_73208/3009115303.py:2: SettingWithCopyWarning: \n",
      "A value is trying to be set on a copy of a slice from a DataFrame.\n",
      "Try using .loc[row_indexer,col_indexer] = value instead\n",
      "\n",
      "See the caveats in the documentation: https://pandas.pydata.org/pandas-docs/stable/user_guide/indexing.html#returning-a-view-versus-a-copy\n",
      "  draftMinus1['D-1_League'] = draftMinus1['D-1_League'].replace('USHS-ME', 'USHS-Prep')\n",
      "/var/folders/cl/dg9768bj6ys0prn_4p_bbftw0000gn/T/ipykernel_73208/3009115303.py:3: SettingWithCopyWarning: \n",
      "A value is trying to be set on a copy of a slice from a DataFrame.\n",
      "Try using .loc[row_indexer,col_indexer] = value instead\n",
      "\n",
      "See the caveats in the documentation: https://pandas.pydata.org/pandas-docs/stable/user_guide/indexing.html#returning-a-view-versus-a-copy\n",
      "  draftMinus1['D-1_League'] = draftMinus1['D-1_League'].replace('USHS-MI', 'USHS-Prep')\n",
      "/var/folders/cl/dg9768bj6ys0prn_4p_bbftw0000gn/T/ipykernel_73208/3009115303.py:4: SettingWithCopyWarning: \n",
      "A value is trying to be set on a copy of a slice from a DataFrame.\n",
      "Try using .loc[row_indexer,col_indexer] = value instead\n",
      "\n",
      "See the caveats in the documentation: https://pandas.pydata.org/pandas-docs/stable/user_guide/indexing.html#returning-a-view-versus-a-copy\n",
      "  draftMinus1['D-1_League'] = draftMinus1['D-1_League'].replace('USHS-NH', 'USHS-Prep')\n",
      "/var/folders/cl/dg9768bj6ys0prn_4p_bbftw0000gn/T/ipykernel_73208/3009115303.py:5: SettingWithCopyWarning: \n",
      "A value is trying to be set on a copy of a slice from a DataFrame.\n",
      "Try using .loc[row_indexer,col_indexer] = value instead\n",
      "\n",
      "See the caveats in the documentation: https://pandas.pydata.org/pandas-docs/stable/user_guide/indexing.html#returning-a-view-versus-a-copy\n",
      "  draftMinus1['D-1_League'] = draftMinus1['D-1_League'].replace('USHS-WI', 'USHS-Prep')\n"
     ]
    }
   ],
   "source": [
    "draftMinus1['D-1_League'] = draftMinus1['D-1_League'].replace('USHS-MA', 'USHS-Prep')\n",
    "draftMinus1['D-1_League'] = draftMinus1['D-1_League'].replace('USHS-ME', 'USHS-Prep')\n",
    "draftMinus1['D-1_League'] = draftMinus1['D-1_League'].replace('USHS-MI', 'USHS-Prep')\n",
    "draftMinus1['D-1_League'] = draftMinus1['D-1_League'].replace('USHS-NH', 'USHS-Prep')\n",
    "draftMinus1['D-1_League'] = draftMinus1['D-1_League'].replace('USHS-WI', 'USHS-Prep')"
   ]
  },
  {
   "cell_type": "code",
   "execution_count": 275,
   "id": "8cb34234-20e4-413e-b62c-4433c4dee640",
   "metadata": {},
   "outputs": [
    {
     "data": {
      "text/plain": [
       "array(['0', '16U AAA', '18U AAA', 'ACHA', 'AJHL', 'ALLIANCE U18', 'AMHL',\n",
       "       'AYHL 16U', 'BCEHL U18', 'BCHL', 'BCMML', 'Belarus', 'CAHS',\n",
       "       'CCHL', 'CHA Jr. B', 'Czech Jr.', 'Czech U18', 'Czech-2', 'DEL2',\n",
       "       'DNL', 'Denmark', 'Division 1', 'EJHL', 'ETAHL U18', 'Finland',\n",
       "       'Finland Jr.', 'GHL', 'GOJHL', 'GTHL U18', 'Germany3', 'High-CT',\n",
       "       'High-MA', 'High-MI', 'High-MN', 'J18 Allsvensken', 'J18 Elit',\n",
       "       'KIJHL', 'MJAHL', 'MJHL', 'MMHL', 'MPHL', 'N/A', 'NAPHL 16U',\n",
       "       'NCAA', 'NLA', 'NLB', 'Norway', 'Norway2', 'OHL', 'OJHL', 'OPJHL',\n",
       "       'PIJHL', 'QJAAAHL', 'QMAAA', 'QMJHL', 'RBHRC U18', 'Russia',\n",
       "       'Russia-2', 'Russia-3', 'SJHL', 'SMAAAHL', 'SOJHL', 'SSMHL U18',\n",
       "       'Slovakia', 'Slovakia Jr.', 'Slovakia U18', 'Sweden', 'Sweden Jr.',\n",
       "       'T1EHL 16U', 'T1EHL 18U', 'U18-1 divisioona', 'U18-SM Sarja',\n",
       "       'U20-Elit', 'UMHSEHL', 'USDP', 'USDP/NAHL', 'USHL', 'USHS-MN',\n",
       "       'USHS-Prep', 'VIJHL', 'WHL', 'WOHL'], dtype=object)"
      ]
     },
     "execution_count": 275,
     "metadata": {},
     "output_type": "execute_result"
    }
   ],
   "source": [
    "draftMinus1['D-1_League'].sort_values(ascending=True).unique()"
   ]
  },
  {
   "cell_type": "code",
   "execution_count": 276,
   "id": "d7477059-da6b-4362-9247-8f0ae735cb58",
   "metadata": {},
   "outputs": [
    {
     "name": "stderr",
     "output_type": "stream",
     "text": [
      "/var/folders/cl/dg9768bj6ys0prn_4p_bbftw0000gn/T/ipykernel_73208/3046695413.py:111: SettingWithCopyWarning: \n",
      "A value is trying to be set on a copy of a slice from a DataFrame.\n",
      "Try using .loc[row_indexer,col_indexer] = value instead\n",
      "\n",
      "See the caveats in the documentation: https://pandas.pydata.org/pandas-docs/stable/user_guide/indexing.html#returning-a-view-versus-a-copy\n",
      "  draftMinus1['D-1_NHLe Coefficient'] = np.select(conditions, values)\n"
     ]
    },
    {
     "data": {
      "text/html": [
       "<div>\n",
       "<style scoped>\n",
       "    .dataframe tbody tr th:only-of-type {\n",
       "        vertical-align: middle;\n",
       "    }\n",
       "\n",
       "    .dataframe tbody tr th {\n",
       "        vertical-align: top;\n",
       "    }\n",
       "\n",
       "    .dataframe thead th {\n",
       "        text-align: right;\n",
       "    }\n",
       "</style>\n",
       "<table border=\"1\" class=\"dataframe\">\n",
       "  <thead>\n",
       "    <tr style=\"text-align: right;\">\n",
       "      <th></th>\n",
       "      <th>D-1_League</th>\n",
       "      <th>D-1_GP</th>\n",
       "      <th>D-1_G</th>\n",
       "      <th>D-1_A</th>\n",
       "      <th>D-1_TP</th>\n",
       "      <th>D-1_P/G</th>\n",
       "      <th>D-1_NHLe Coefficient</th>\n",
       "    </tr>\n",
       "  </thead>\n",
       "  <tbody>\n",
       "    <tr>\n",
       "      <th>0</th>\n",
       "      <td>USDP/NAHL</td>\n",
       "      <td>43</td>\n",
       "      <td>35</td>\n",
       "      <td>33</td>\n",
       "      <td>68</td>\n",
       "      <td>1.58</td>\n",
       "      <td>0.087</td>\n",
       "    </tr>\n",
       "    <tr>\n",
       "      <th>1</th>\n",
       "      <td>USDP/NAHL</td>\n",
       "      <td>32</td>\n",
       "      <td>9</td>\n",
       "      <td>8</td>\n",
       "      <td>17</td>\n",
       "      <td>0.53</td>\n",
       "      <td>0.087</td>\n",
       "    </tr>\n",
       "    <tr>\n",
       "      <th>2</th>\n",
       "      <td>BCHL</td>\n",
       "      <td>57</td>\n",
       "      <td>36</td>\n",
       "      <td>36</td>\n",
       "      <td>72</td>\n",
       "      <td>1.26</td>\n",
       "      <td>0.080</td>\n",
       "    </tr>\n",
       "    <tr>\n",
       "      <th>3</th>\n",
       "      <td>WHL</td>\n",
       "      <td>69</td>\n",
       "      <td>1</td>\n",
       "      <td>27</td>\n",
       "      <td>28</td>\n",
       "      <td>0.41</td>\n",
       "      <td>0.141</td>\n",
       "    </tr>\n",
       "    <tr>\n",
       "      <th>4</th>\n",
       "      <td>WHL</td>\n",
       "      <td>70</td>\n",
       "      <td>4</td>\n",
       "      <td>20</td>\n",
       "      <td>24</td>\n",
       "      <td>0.34</td>\n",
       "      <td>0.141</td>\n",
       "    </tr>\n",
       "  </tbody>\n",
       "</table>\n",
       "</div>"
      ],
      "text/plain": [
       "  D-1_League  D-1_GP  D-1_G  D-1_A  D-1_TP  D-1_P/G  D-1_NHLe Coefficient\n",
       "0  USDP/NAHL      43     35     33      68     1.58                 0.087\n",
       "1  USDP/NAHL      32      9      8      17     0.53                 0.087\n",
       "2       BCHL      57     36     36      72     1.26                 0.080\n",
       "3        WHL      69      1     27      28     0.41                 0.141\n",
       "4        WHL      70      4     20      24     0.34                 0.141"
      ]
     },
     "execution_count": 276,
     "metadata": {},
     "output_type": "execute_result"
    }
   ],
   "source": [
    "# create a list of our conditions\n",
    "conditions = [\n",
    "    draftMinus1['D-1_League'] == '0',\n",
    "    draftMinus1['D-1_League'] == '16U AAA',\n",
    "    draftMinus1['D-1_League'] == '18U AAA',\n",
    "    draftMinus1['D-1_League'] == 'ACHA',\n",
    "    draftMinus1['D-1_League'] == 'AJHL',\n",
    "    draftMinus1['D-1_League'] == 'ALLIANCE U18',\n",
    "    draftMinus1['D-1_League'] == 'AMHL',\n",
    "    draftMinus1['D-1_League'] == 'AYHL 16U',\n",
    "    draftMinus1['D-1_League'] == 'BCEHL U18',\n",
    "    draftMinus1['D-1_League'] == 'BCHL',\n",
    "    draftMinus1['D-1_League'] == 'BCMML',\n",
    "    draftMinus1['D-1_League'] == 'Belarus',\n",
    "    draftMinus1['D-1_League'] == 'CAHS',\n",
    "    draftMinus1['D-1_League'] == 'CCHL',\n",
    "    draftMinus1['D-1_League'] == 'CHA Jr. B',\n",
    "    draftMinus1['D-1_League'] == 'Czech Jr.',\n",
    "    draftMinus1['D-1_League'] == 'Czech U18',\n",
    "    draftMinus1['D-1_League'] == 'Czech-2',\n",
    "    draftMinus1['D-1_League'] == 'DEL2',\n",
    "    draftMinus1['D-1_League'] == 'DNL',\n",
    "    draftMinus1['D-1_League'] == 'Denmark',\n",
    "    draftMinus1['D-1_League'] == 'Division 1',\n",
    "    draftMinus1['D-1_League'] == 'EJHL',\n",
    "    draftMinus1['D-1_League'] == 'ETAHL U18',\n",
    "    draftMinus1['D-1_League'] == 'Finland',\n",
    "    draftMinus1['D-1_League'] == 'Finland Jr.',\n",
    "    draftMinus1['D-1_League'] == 'GHL',\n",
    "    draftMinus1['D-1_League'] == 'GOJHL',\n",
    "    draftMinus1['D-1_League'] == 'Germany3',\n",
    "    draftMinus1['D-1_League'] == 'High-CT',\n",
    "    draftMinus1['D-1_League'] == 'High-MA',\n",
    "    draftMinus1['D-1_League'] == 'High-MI',\n",
    "    draftMinus1['D-1_League'] == 'High-MN',\n",
    "    draftMinus1['D-1_League'] == 'J18 Allsvensken',\n",
    "    draftMinus1['D-1_League'] == 'J18 Elit',\n",
    "    draftMinus1['D-1_League'] == 'KIJHL',\n",
    "    draftMinus1['D-1_League'] == 'MJAHL',\n",
    "    draftMinus1['D-1_League'] == 'MJHL',\n",
    "    draftMinus1['D-1_League'] == 'MMHL',\n",
    "    draftMinus1['D-1_League'] == 'MPHL',\n",
    "    draftMinus1['D-1_League'] == 'N/A',\n",
    "    draftMinus1['D-1_League'] == 'NAPHL 16U',\n",
    "    draftMinus1['D-1_League'] == 'NCAA',\n",
    "    draftMinus1['D-1_League'] == 'NLA',\n",
    "    draftMinus1['D-1_League'] == 'NLB',\n",
    "    draftMinus1['D-1_League'] == 'Norway',\n",
    "    draftMinus1['D-1_League'] == 'Norway2',\n",
    "    draftMinus1['D-1_League'] == 'OHL',\n",
    "    draftMinus1['D-1_League'] == 'OJHL',\n",
    "    draftMinus1['D-1_League'] == 'OPJHL',\n",
    "    draftMinus1['D-1_League'] == 'PIJHL',\n",
    "    draftMinus1['D-1_League'] == 'QJAAAHL',\n",
    "    draftMinus1['D-1_League'] == 'QMAAA',\n",
    "    draftMinus1['D-1_League'] == 'QMJHL',\n",
    "    draftMinus1['D-1_League'] == 'RBHRC U18',\n",
    "    draftMinus1['D-1_League'] == 'Russia',\n",
    "    draftMinus1['D-1_League'] == 'Russia-2',\n",
    "    draftMinus1['D-1_League'] == 'Russia-3',\n",
    "    draftMinus1['D-1_League'] == 'SJHL',\n",
    "    draftMinus1['D-1_League'] == 'SMAAAHL',\n",
    "    draftMinus1['D-1_League'] == 'SOJHL',\n",
    "    draftMinus1['D-1_League'] == 'SSMHL U18',\n",
    "    draftMinus1['D-1_League'] == 'Slovakia',\n",
    "    draftMinus1['D-1_League'] == 'Slovakia Jr.',\n",
    "    draftMinus1['D-1_League'] == 'Slovakia U18',\n",
    "    draftMinus1['D-1_League'] == 'Sweden',\n",
    "    draftMinus1['D-1_League'] == 'Sweden Jr.',\n",
    "    draftMinus1['D-1_League'] == 'T1EHL 16U',\n",
    "    draftMinus1['D-1_League'] == 'T1EHL 18U',\n",
    "    draftMinus1['D-1_League'] == 'U18-1 divisioona',\n",
    "    draftMinus1['D-1_League'] == 'U18-SM Sarja',\n",
    "    draftMinus1['D-1_League'] == 'U20-Elit',\n",
    "    draftMinus1['D-1_League'] == 'UMHSEHL',\n",
    "    draftMinus1['D-1_League'] == 'USDP',\n",
    "    draftMinus1['D-1_League'] == 'USDP/NAHL',\n",
    "    draftMinus1['D-1_League'] == 'USHL',\n",
    "    draftMinus1['D-1_League'] == 'USHS-MN',\n",
    "    draftMinus1['D-1_League'] == 'USHS-Prep',\n",
    "    draftMinus1['D-1_League'] == 'VIJHL',\n",
    "    draftMinus1['D-1_League'] == 'WHL',\n",
    "    draftMinus1['D-1_League'] == 'WOHL'\n",
    "]\n",
    "\n",
    "# create a list of the values we want to assign for each condition\n",
    "values = [0.00, 0.031, 0.028, 0.020,\n",
    "          0.062, 0.009, 0.020, 0.026,\n",
    "          0.004, 0.080, 0.016, 0.242,\n",
    "          0.020, 0.048, 0.020, 0.074,\n",
    "          0.038, 0.240, 0.205, 0.024,\n",
    "          0.190, 0.109, 0.060, 0.005,\n",
    "          0.441, 0.083, 0.021, 0.027,\n",
    "          0.085, 0.028, 0.028, 0.028,\n",
    "          0.024, 0.038, 0.029, 0.020,\n",
    "          0.037, 0.046, 0.013, 0.035,\n",
    "          0.000, 0.034, 0.194, 0.459,\n",
    "          0.176, 0.173, 0.027, 0.144,\n",
    "          0.034, 0.034, 0.020, 0.036,\n",
    "          0.028, 0.113, 0.038, 0.772,\n",
    "          0.328, 0.143, 0.052, 0.004,\n",
    "          0.021, 0.015, 0.295, 0.044,\n",
    "          0.020, 0.566, 0.024, 0.034,\n",
    "          0.039, 0.018, 0.040, 0.049,\n",
    "          0.039, 0.121, 0.087, 0.143,\n",
    "          0.024, 0.028, 0.021, 0.141,\n",
    "          0.027\n",
    "         ]\n",
    "\n",
    "# create a new column and use np.select to assign values to it using our lists as arguments\n",
    "draftMinus1['D-1_NHLe Coefficient'] = np.select(conditions, values)\n",
    "\n",
    "# display updated DataFrame\n",
    "draftMinus1.head()"
   ]
  },
  {
   "cell_type": "code",
   "execution_count": 278,
   "id": "bcd26f6a-5cd6-4ed9-a545-7466c387290b",
   "metadata": {},
   "outputs": [
    {
     "name": "stderr",
     "output_type": "stream",
     "text": [
      "/var/folders/cl/dg9768bj6ys0prn_4p_bbftw0000gn/T/ipykernel_73208/1302379970.py:1: SettingWithCopyWarning: \n",
      "A value is trying to be set on a copy of a slice from a DataFrame.\n",
      "Try using .loc[row_indexer,col_indexer] = value instead\n",
      "\n",
      "See the caveats in the documentation: https://pandas.pydata.org/pandas-docs/stable/user_guide/indexing.html#returning-a-view-versus-a-copy\n",
      "  draftMinus1['NHLe'] = draftMinus1['D-1_P/G']*draftMinus1['D-1_NHLe Coefficient']*82\n"
     ]
    },
    {
     "data": {
      "text/html": [
       "<div>\n",
       "<style scoped>\n",
       "    .dataframe tbody tr th:only-of-type {\n",
       "        vertical-align: middle;\n",
       "    }\n",
       "\n",
       "    .dataframe tbody tr th {\n",
       "        vertical-align: top;\n",
       "    }\n",
       "\n",
       "    .dataframe thead th {\n",
       "        text-align: right;\n",
       "    }\n",
       "</style>\n",
       "<table border=\"1\" class=\"dataframe\">\n",
       "  <thead>\n",
       "    <tr style=\"text-align: right;\">\n",
       "      <th></th>\n",
       "      <th>D-1_League</th>\n",
       "      <th>D-1_GP</th>\n",
       "      <th>D-1_G</th>\n",
       "      <th>D-1_A</th>\n",
       "      <th>D-1_TP</th>\n",
       "      <th>D-1_P/G</th>\n",
       "      <th>D-1_NHLe Coefficient</th>\n",
       "      <th>NHLe</th>\n",
       "    </tr>\n",
       "  </thead>\n",
       "  <tbody>\n",
       "    <tr>\n",
       "      <th>0</th>\n",
       "      <td>USDP/NAHL</td>\n",
       "      <td>43</td>\n",
       "      <td>35</td>\n",
       "      <td>33</td>\n",
       "      <td>68</td>\n",
       "      <td>1.58</td>\n",
       "      <td>0.087</td>\n",
       "      <td>11.27172</td>\n",
       "    </tr>\n",
       "    <tr>\n",
       "      <th>1</th>\n",
       "      <td>USDP/NAHL</td>\n",
       "      <td>32</td>\n",
       "      <td>9</td>\n",
       "      <td>8</td>\n",
       "      <td>17</td>\n",
       "      <td>0.53</td>\n",
       "      <td>0.087</td>\n",
       "      <td>3.78102</td>\n",
       "    </tr>\n",
       "    <tr>\n",
       "      <th>2</th>\n",
       "      <td>BCHL</td>\n",
       "      <td>57</td>\n",
       "      <td>36</td>\n",
       "      <td>36</td>\n",
       "      <td>72</td>\n",
       "      <td>1.26</td>\n",
       "      <td>0.080</td>\n",
       "      <td>8.26560</td>\n",
       "    </tr>\n",
       "    <tr>\n",
       "      <th>3</th>\n",
       "      <td>WHL</td>\n",
       "      <td>69</td>\n",
       "      <td>1</td>\n",
       "      <td>27</td>\n",
       "      <td>28</td>\n",
       "      <td>0.41</td>\n",
       "      <td>0.141</td>\n",
       "      <td>4.74042</td>\n",
       "    </tr>\n",
       "    <tr>\n",
       "      <th>4</th>\n",
       "      <td>WHL</td>\n",
       "      <td>70</td>\n",
       "      <td>4</td>\n",
       "      <td>20</td>\n",
       "      <td>24</td>\n",
       "      <td>0.34</td>\n",
       "      <td>0.141</td>\n",
       "      <td>3.93108</td>\n",
       "    </tr>\n",
       "  </tbody>\n",
       "</table>\n",
       "</div>"
      ],
      "text/plain": [
       "  D-1_League  D-1_GP  D-1_G  D-1_A  D-1_TP  D-1_P/G  D-1_NHLe Coefficient  \\\n",
       "0  USDP/NAHL      43     35     33      68     1.58                 0.087   \n",
       "1  USDP/NAHL      32      9      8      17     0.53                 0.087   \n",
       "2       BCHL      57     36     36      72     1.26                 0.080   \n",
       "3        WHL      69      1     27      28     0.41                 0.141   \n",
       "4        WHL      70      4     20      24     0.34                 0.141   \n",
       "\n",
       "       NHLe  \n",
       "0  11.27172  \n",
       "1   3.78102  \n",
       "2   8.26560  \n",
       "3   4.74042  \n",
       "4   3.93108  "
      ]
     },
     "execution_count": 278,
     "metadata": {},
     "output_type": "execute_result"
    }
   ],
   "source": [
    "draftMinus1['NHLe'] = draftMinus1['D-1_P/G']*draftMinus1['D-1_NHLe Coefficient']*82\n",
    "draftMinus1.head()"
   ]
  },
  {
   "cell_type": "code",
   "execution_count": 280,
   "id": "ff169881-2be5-4821-8b29-095e2425a514",
   "metadata": {},
   "outputs": [],
   "source": [
    "draft_db['D-1_NHLe'] = draftMinus1['NHLe']"
   ]
  },
  {
   "cell_type": "code",
   "execution_count": 281,
   "id": "15a47f8d-8b5c-475f-8d95-239d4b7a60c2",
   "metadata": {},
   "outputs": [
    {
     "data": {
      "text/plain": [
       "Index(['Overall', 'Team', 'Player', 'Nat.', 'Pos', 'Age', 'To', 'Junior Team',\n",
       "       'League', 'GP', 'G', 'A', 'PTS', '+/-', 'PIM', 'Height', 'Weight',\n",
       "       'D0_GP', 'D0_G', 'D0_A', 'D0_TP', 'D0_P/G', 'D0_PIM', 'D0_+/-',\n",
       "       'NHLe Coefficient', 'NHLe', 'NHLer', 'D-1_GP', 'D-1_G', 'D-1_A',\n",
       "       'D-1_TP', 'D-1_P/G', 'D-1_League', 'D-1_NHLe'],\n",
       "      dtype='object')"
      ]
     },
     "execution_count": 281,
     "metadata": {},
     "output_type": "execute_result"
    }
   ],
   "source": [
    "draft_db.columns"
   ]
  },
  {
   "cell_type": "code",
   "execution_count": 285,
   "id": "923dafc6-a706-4279-b42b-0bbb51234d9d",
   "metadata": {},
   "outputs": [
    {
     "data": {
      "text/plain": [
       "0       40.79172\n",
       "1       16.38196\n",
       "2       23.22240\n",
       "3       13.29630\n",
       "4       12.60258\n",
       "          ...   \n",
       "1507     1.36448\n",
       "1508     6.04996\n",
       "1509     5.20864\n",
       "1510    20.42784\n",
       "1511     6.14016\n",
       "Length: 1512, dtype: float64"
      ]
     },
     "execution_count": 285,
     "metadata": {},
     "output_type": "execute_result"
    }
   ],
   "source": [
    "draft_db['D-1_NHLe'] + draft_db['NHLe']"
   ]
  },
  {
   "cell_type": "code",
   "execution_count": 288,
   "id": "774dba1b-913e-4480-a303-f4a25bb9669a",
   "metadata": {},
   "outputs": [],
   "source": [
    "draft_db['D0_NHLe'] = draft_db['NHLe']\n",
    "draft_db['NHLe Total'] = draft_db['D-1_NHLe'] + draft_db['D0_NHLe']\n",
    "draft_db['NHLe Progression'] = draft_db['D0_NHLe'] - draft_db['D-1_NHLe']\n",
    "draft_db['Total GP'] = draft_db['D-1_GP'] + draft_db['D0_GP']"
   ]
  },
  {
   "cell_type": "code",
   "execution_count": 330,
   "id": "e779f49c-cecf-4284-a523-dfcfbc8ac9a7",
   "metadata": {},
   "outputs": [],
   "source": [
    "team_count = draft_db"
   ]
  },
  {
   "cell_type": "code",
   "execution_count": 331,
   "id": "e454378d-e15c-4f18-9db4-aee034105149",
   "metadata": {},
   "outputs": [
    {
     "name": "stdout",
     "output_type": "stream",
     "text": [
      "Stored 'team_count' (DataFrame)\n"
     ]
    }
   ],
   "source": [
    "%store team_count"
   ]
  },
  {
   "cell_type": "code",
   "execution_count": 313,
   "id": "a349b548-ed38-4aa6-b78e-8c0755d26fd3",
   "metadata": {},
   "outputs": [],
   "source": [
    "final_draftDB = draft_db[['Overall', 'Team', 'Player', 'Pos',\n",
    "                          'Age', 'Height', 'Weight', 'D-1_GP',\n",
    "                          'D0_GP', 'Total GP', 'D-1_NHLe' , 'D0_NHLe',\n",
    "                          'NHLe Total', 'NHLe Progression', 'NHLer']]"
   ]
  },
  {
   "cell_type": "code",
   "execution_count": 314,
   "id": "bee41408-47e0-4401-b3d6-57a77079b534",
   "metadata": {},
   "outputs": [
    {
     "data": {
      "text/html": [
       "<div>\n",
       "<style scoped>\n",
       "    .dataframe tbody tr th:only-of-type {\n",
       "        vertical-align: middle;\n",
       "    }\n",
       "\n",
       "    .dataframe tbody tr th {\n",
       "        vertical-align: top;\n",
       "    }\n",
       "\n",
       "    .dataframe thead th {\n",
       "        text-align: right;\n",
       "    }\n",
       "</style>\n",
       "<table border=\"1\" class=\"dataframe\">\n",
       "  <thead>\n",
       "    <tr style=\"text-align: right;\">\n",
       "      <th></th>\n",
       "      <th>Overall</th>\n",
       "      <th>Team</th>\n",
       "      <th>Player</th>\n",
       "      <th>Pos</th>\n",
       "      <th>Age</th>\n",
       "      <th>Height</th>\n",
       "      <th>Weight</th>\n",
       "      <th>D-1_GP</th>\n",
       "      <th>D0_GP</th>\n",
       "      <th>Total GP</th>\n",
       "      <th>D-1_NHLe</th>\n",
       "      <th>D0_NHLe</th>\n",
       "      <th>NHLe Total</th>\n",
       "      <th>NHLe Progression</th>\n",
       "      <th>NHLer</th>\n",
       "    </tr>\n",
       "  </thead>\n",
       "  <tbody>\n",
       "    <tr>\n",
       "      <th>0</th>\n",
       "      <td>1</td>\n",
       "      <td>Chicago Blackhawks</td>\n",
       "      <td>Patrick Kane</td>\n",
       "      <td>RW</td>\n",
       "      <td>18.0</td>\n",
       "      <td>5′ 10</td>\n",
       "      <td>178</td>\n",
       "      <td>43</td>\n",
       "      <td>58</td>\n",
       "      <td>101</td>\n",
       "      <td>11.27172</td>\n",
       "      <td>29.52000</td>\n",
       "      <td>40.79172</td>\n",
       "      <td>18.24828</td>\n",
       "      <td>1.0</td>\n",
       "    </tr>\n",
       "    <tr>\n",
       "      <th>1</th>\n",
       "      <td>2</td>\n",
       "      <td>Philadelphia Flyers</td>\n",
       "      <td>James van Riemsdyk</td>\n",
       "      <td>LW</td>\n",
       "      <td>18.0</td>\n",
       "      <td>6′ 3</td>\n",
       "      <td>200</td>\n",
       "      <td>32</td>\n",
       "      <td>30</td>\n",
       "      <td>62</td>\n",
       "      <td>3.78102</td>\n",
       "      <td>12.60094</td>\n",
       "      <td>16.38196</td>\n",
       "      <td>8.81992</td>\n",
       "      <td>1.0</td>\n",
       "    </tr>\n",
       "    <tr>\n",
       "      <th>2</th>\n",
       "      <td>3</td>\n",
       "      <td>Phoenix Coyotes</td>\n",
       "      <td>Kyle Turris</td>\n",
       "      <td>C</td>\n",
       "      <td>18.0</td>\n",
       "      <td>6′ 1</td>\n",
       "      <td>185</td>\n",
       "      <td>57</td>\n",
       "      <td>53</td>\n",
       "      <td>110</td>\n",
       "      <td>8.26560</td>\n",
       "      <td>14.95680</td>\n",
       "      <td>23.22240</td>\n",
       "      <td>6.69120</td>\n",
       "      <td>1.0</td>\n",
       "    </tr>\n",
       "    <tr>\n",
       "      <th>3</th>\n",
       "      <td>4</td>\n",
       "      <td>Los Angeles Kings</td>\n",
       "      <td>Thomas Hickey</td>\n",
       "      <td>D</td>\n",
       "      <td>18.0</td>\n",
       "      <td>5′ 11</td>\n",
       "      <td>184</td>\n",
       "      <td>69</td>\n",
       "      <td>68</td>\n",
       "      <td>137</td>\n",
       "      <td>4.74042</td>\n",
       "      <td>8.55588</td>\n",
       "      <td>13.29630</td>\n",
       "      <td>3.81546</td>\n",
       "      <td>1.0</td>\n",
       "    </tr>\n",
       "    <tr>\n",
       "      <th>4</th>\n",
       "      <td>5</td>\n",
       "      <td>Washington Capitals</td>\n",
       "      <td>Karl Alzner</td>\n",
       "      <td>D</td>\n",
       "      <td>18.0</td>\n",
       "      <td>6′ 3</td>\n",
       "      <td>206</td>\n",
       "      <td>70</td>\n",
       "      <td>63</td>\n",
       "      <td>133</td>\n",
       "      <td>3.93108</td>\n",
       "      <td>8.67150</td>\n",
       "      <td>12.60258</td>\n",
       "      <td>4.74042</td>\n",
       "      <td>1.0</td>\n",
       "    </tr>\n",
       "  </tbody>\n",
       "</table>\n",
       "</div>"
      ],
      "text/plain": [
       "   Overall                 Team              Player Pos   Age Height  Weight  \\\n",
       "0        1   Chicago Blackhawks        Patrick Kane  RW  18.0  5′ 10     178   \n",
       "1        2  Philadelphia Flyers  James van Riemsdyk  LW  18.0   6′ 3     200   \n",
       "2        3      Phoenix Coyotes         Kyle Turris   C  18.0   6′ 1     185   \n",
       "3        4    Los Angeles Kings       Thomas Hickey   D  18.0  5′ 11     184   \n",
       "4        5  Washington Capitals         Karl Alzner   D  18.0   6′ 3     206   \n",
       "\n",
       "   D-1_GP  D0_GP  Total GP  D-1_NHLe   D0_NHLe  NHLe Total  NHLe Progression  \\\n",
       "0      43     58       101  11.27172  29.52000    40.79172          18.24828   \n",
       "1      32     30        62   3.78102  12.60094    16.38196           8.81992   \n",
       "2      57     53       110   8.26560  14.95680    23.22240           6.69120   \n",
       "3      69     68       137   4.74042   8.55588    13.29630           3.81546   \n",
       "4      70     63       133   3.93108   8.67150    12.60258           4.74042   \n",
       "\n",
       "   NHLer  \n",
       "0    1.0  \n",
       "1    1.0  \n",
       "2    1.0  \n",
       "3    1.0  \n",
       "4    1.0  "
      ]
     },
     "execution_count": 314,
     "metadata": {},
     "output_type": "execute_result"
    }
   ],
   "source": [
    "final_draftDB.head()"
   ]
  },
  {
   "cell_type": "code",
   "execution_count": 315,
   "id": "c4933620-d0d4-447d-ba11-89448ad6c1b9",
   "metadata": {},
   "outputs": [
    {
     "name": "stderr",
     "output_type": "stream",
     "text": [
      "/var/folders/cl/dg9768bj6ys0prn_4p_bbftw0000gn/T/ipykernel_73208/1447683994.py:1: SettingWithCopyWarning: \n",
      "A value is trying to be set on a copy of a slice from a DataFrame.\n",
      "Try using .loc[row_indexer,col_indexer] = value instead\n",
      "\n",
      "See the caveats in the documentation: https://pandas.pydata.org/pandas-docs/stable/user_guide/indexing.html#returning-a-view-versus-a-copy\n",
      "  final_draftDB['Feet'] = final_draftDB['Height'].str.extract('(\\d+)', expand=False)\n"
     ]
    }
   ],
   "source": [
    "final_draftDB['Feet'] = final_draftDB['Height'].str.extract('(\\d+)', expand=False)"
   ]
  },
  {
   "cell_type": "code",
   "execution_count": 316,
   "id": "1452553a-07f8-425e-8193-bd0b085361f3",
   "metadata": {},
   "outputs": [],
   "source": [
    "# Set an empty list to capture the last 3 strings from the height column\n",
    "\n",
    "inches=[]\n",
    "\n",
    "final_draftDB['Height'].str.split()\n",
    "\n",
    "for row in range(len(final_draftDB)):\n",
    "    inches.append(final_draftDB['Height'][row][-3:])"
   ]
  },
  {
   "cell_type": "code",
   "execution_count": 317,
   "id": "8c648f7a-8061-40b4-a652-a1e8f4cedaa3",
   "metadata": {},
   "outputs": [
    {
     "name": "stderr",
     "output_type": "stream",
     "text": [
      "/var/folders/cl/dg9768bj6ys0prn_4p_bbftw0000gn/T/ipykernel_73208/1924371940.py:2: SettingWithCopyWarning: \n",
      "A value is trying to be set on a copy of a slice from a DataFrame.\n",
      "Try using .loc[row_indexer,col_indexer] = value instead\n",
      "\n",
      "See the caveats in the documentation: https://pandas.pydata.org/pandas-docs/stable/user_guide/indexing.html#returning-a-view-versus-a-copy\n",
      "  final_draftDB['Feet'] = final_draftDB['Feet'].astype(int)\n"
     ]
    }
   ],
   "source": [
    "# Convert Feet column from string to integer\n",
    "final_draftDB['Feet'] = final_draftDB['Feet'].astype(int)"
   ]
  },
  {
   "cell_type": "code",
   "execution_count": 318,
   "id": "6f62f0e1-f92b-45e4-99db-95d7563b7e88",
   "metadata": {},
   "outputs": [
    {
     "name": "stderr",
     "output_type": "stream",
     "text": [
      "/var/folders/cl/dg9768bj6ys0prn_4p_bbftw0000gn/T/ipykernel_73208/4251782319.py:1: SettingWithCopyWarning: \n",
      "A value is trying to be set on a copy of a slice from a DataFrame.\n",
      "Try using .loc[row_indexer,col_indexer] = value instead\n",
      "\n",
      "See the caveats in the documentation: https://pandas.pydata.org/pandas-docs/stable/user_guide/indexing.html#returning-a-view-versus-a-copy\n",
      "  final_draftDB['inches'] = inches\n"
     ]
    }
   ],
   "source": [
    "final_draftDB['inches'] = inches"
   ]
  },
  {
   "cell_type": "code",
   "execution_count": 319,
   "id": "d2c92047-47aa-481d-a948-5bd0a85de853",
   "metadata": {},
   "outputs": [
    {
     "name": "stderr",
     "output_type": "stream",
     "text": [
      "/var/folders/cl/dg9768bj6ys0prn_4p_bbftw0000gn/T/ipykernel_73208/1011668854.py:2: SettingWithCopyWarning: \n",
      "A value is trying to be set on a copy of a slice from a DataFrame.\n",
      "Try using .loc[row_indexer,col_indexer] = value instead\n",
      "\n",
      "See the caveats in the documentation: https://pandas.pydata.org/pandas-docs/stable/user_guide/indexing.html#returning-a-view-versus-a-copy\n",
      "  final_draftDB['inches'] = final_draftDB['inches'].str.extract('(\\d+)', expand=False)\n"
     ]
    }
   ],
   "source": [
    "# Create dataframe column with inches from players height\n",
    "final_draftDB['inches'] = final_draftDB['inches'].str.extract('(\\d+)', expand=False)"
   ]
  },
  {
   "cell_type": "code",
   "execution_count": 320,
   "id": "e26374a9-8005-4324-800c-5b59077f7d8e",
   "metadata": {},
   "outputs": [
    {
     "name": "stderr",
     "output_type": "stream",
     "text": [
      "/var/folders/cl/dg9768bj6ys0prn_4p_bbftw0000gn/T/ipykernel_73208/1462716276.py:2: SettingWithCopyWarning: \n",
      "A value is trying to be set on a copy of a slice from a DataFrame.\n",
      "Try using .loc[row_indexer,col_indexer] = value instead\n",
      "\n",
      "See the caveats in the documentation: https://pandas.pydata.org/pandas-docs/stable/user_guide/indexing.html#returning-a-view-versus-a-copy\n",
      "  final_draftDB['inches'] = final_draftDB['inches'].astype(int)\n"
     ]
    }
   ],
   "source": [
    "# Convert inches column from string to integer\n",
    "final_draftDB['inches'] = final_draftDB['inches'].astype(int)"
   ]
  },
  {
   "cell_type": "code",
   "execution_count": 321,
   "id": "5859ff18-1baf-4d00-8132-2e880aecc106",
   "metadata": {},
   "outputs": [
    {
     "name": "stderr",
     "output_type": "stream",
     "text": [
      "/var/folders/cl/dg9768bj6ys0prn_4p_bbftw0000gn/T/ipykernel_73208/2367077304.py:2: SettingWithCopyWarning: \n",
      "A value is trying to be set on a copy of a slice from a DataFrame.\n",
      "Try using .loc[row_indexer,col_indexer] = value instead\n",
      "\n",
      "See the caveats in the documentation: https://pandas.pydata.org/pandas-docs/stable/user_guide/indexing.html#returning-a-view-versus-a-copy\n",
      "  final_draftDB['totalinches'] = (final_draftDB['Feet']*12)+final_draftDB['inches']\n"
     ]
    }
   ],
   "source": [
    "# Create a column of the total inches of each player to be converted into centimeters\n",
    "final_draftDB['totalinches'] = (final_draftDB['Feet']*12)+final_draftDB['inches']"
   ]
  },
  {
   "cell_type": "code",
   "execution_count": 322,
   "id": "69baa209-c09d-4dc3-8c83-2220e59c2f50",
   "metadata": {},
   "outputs": [
    {
     "name": "stderr",
     "output_type": "stream",
     "text": [
      "/var/folders/cl/dg9768bj6ys0prn_4p_bbftw0000gn/T/ipykernel_73208/3810545651.py:2: SettingWithCopyWarning: \n",
      "A value is trying to be set on a copy of a slice from a DataFrame.\n",
      "Try using .loc[row_indexer,col_indexer] = value instead\n",
      "\n",
      "See the caveats in the documentation: https://pandas.pydata.org/pandas-docs/stable/user_guide/indexing.html#returning-a-view-versus-a-copy\n",
      "  final_draftDB['Height'] = final_draftDB['totalinches']*2.54\n"
     ]
    }
   ],
   "source": [
    "# Replace Height column with float values and heights in centimeters\n",
    "final_draftDB['Height'] = final_draftDB['totalinches']*2.54"
   ]
  },
  {
   "cell_type": "code",
   "execution_count": 323,
   "id": "f9ad3673-5ebe-4932-96ca-29e7973d166e",
   "metadata": {},
   "outputs": [],
   "source": [
    "# Drop the columns that were created for the height conversion\n",
    "final_draftDB = final_draftDB.drop(['Feet', 'inches', 'totalinches'], axis=1)"
   ]
  },
  {
   "cell_type": "code",
   "execution_count": 324,
   "id": "449ce024-2019-4d82-9ff5-677d19bd736b",
   "metadata": {},
   "outputs": [],
   "source": [
    "# Replace F values with C (these three players are listed as centers on Eliteprospects)\n",
    "final_draftDB['Pos'] = final_draftDB['Pos'].replace('F', 'C')\n",
    "final_draftDB['Pos'] = final_draftDB['Pos'].replace('Centr', 'C')\n",
    "final_draftDB['Pos'] = final_draftDB['Pos'].replace('C/W', 'C')\n",
    "final_draftDB['Pos'] = final_draftDB['Pos'].replace('C/RW', 'RW')\n",
    "final_draftDB['Pos'] = final_draftDB['Pos'].replace('C/LW', 'LW')\n",
    "final_draftDB['Pos'] = final_draftDB['Pos'].replace('L/RW', 'RW')\n",
    "final_draftDB['Pos'] = final_draftDB['Pos'].replace('W', 'RW')"
   ]
  },
  {
   "cell_type": "code",
   "execution_count": 325,
   "id": "9d9dedc9-5f5e-4dd3-bf73-dfc3d16db604",
   "metadata": {},
   "outputs": [
    {
     "data": {
      "text/plain": [
       "array(['RW', 'LW', 'C', 'D'], dtype=object)"
      ]
     },
     "execution_count": 325,
     "metadata": {},
     "output_type": "execute_result"
    }
   ],
   "source": [
    "final_draftDB['Pos'].unique()"
   ]
  },
  {
   "cell_type": "code",
   "execution_count": 326,
   "id": "e9caeebe-b2ff-4676-8013-3b723885580c",
   "metadata": {},
   "outputs": [],
   "source": [
    "final_draftDB[['Weight', 'D-1_GP', 'D0_GP', 'Total GP']] = final_draftDB[['Weight', 'D-1_GP', 'D0_GP', 'Total GP']].astype(float)"
   ]
  },
  {
   "cell_type": "code",
   "execution_count": 329,
   "id": "452dc943-f7e8-4e01-aa75-6627e03de03c",
   "metadata": {},
   "outputs": [
    {
     "name": "stdout",
     "output_type": "stream",
     "text": [
      "Stored 'final_draftDB' (DataFrame)\n"
     ]
    }
   ],
   "source": [
    "%store final_draftDB"
   ]
  },
  {
   "cell_type": "code",
   "execution_count": null,
   "id": "c4e4bedd-2e71-42f9-9faf-af4b062a9374",
   "metadata": {},
   "outputs": [],
   "source": []
  },
  {
   "cell_type": "code",
   "execution_count": null,
   "id": "415db529-d155-472b-9270-90f7d3f82be4",
   "metadata": {},
   "outputs": [],
   "source": []
  }
 ],
 "metadata": {
  "kernelspec": {
   "display_name": "Python 3 (ipykernel)",
   "language": "python",
   "name": "python3"
  },
  "language_info": {
   "codemirror_mode": {
    "name": "ipython",
    "version": 3
   },
   "file_extension": ".py",
   "mimetype": "text/x-python",
   "name": "python",
   "nbconvert_exporter": "python",
   "pygments_lexer": "ipython3",
   "version": "3.9.12"
  }
 },
 "nbformat": 4,
 "nbformat_minor": 5
}
