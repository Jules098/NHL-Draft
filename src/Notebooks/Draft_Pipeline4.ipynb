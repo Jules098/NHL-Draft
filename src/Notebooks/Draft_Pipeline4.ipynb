{
 "cells": [
  {
   "cell_type": "code",
   "execution_count": 1,
   "id": "924ad3ef-3fab-49de-8208-d66ae561393d",
   "metadata": {},
   "outputs": [],
   "source": [
    "import pandas as pd\n",
    "import numpy as np\n",
    "import matplotlib.pyplot as plt\n",
    "import seaborn as sns"
   ]
  },
  {
   "cell_type": "code",
   "execution_count": 2,
   "id": "a8bea0c9-cb5d-44b3-a350-5ed7b3b94b3a",
   "metadata": {},
   "outputs": [],
   "source": [
    "%store -r final_draftDB\n",
    "%store -r draft_db"
   ]
  },
  {
   "cell_type": "code",
   "execution_count": 3,
   "id": "b226032e-0763-4ae6-93fe-ddea89f8947b",
   "metadata": {},
   "outputs": [
    {
     "name": "stdout",
     "output_type": "stream",
     "text": [
      "(1512, 15)\n",
      "(1512, 27)\n"
     ]
    }
   ],
   "source": [
    "print(final_draftDB.shape)\n",
    "print(draft_db.shape)"
   ]
  },
  {
   "cell_type": "code",
   "execution_count": 4,
   "id": "fdb84211-a749-47fe-9f62-f21a4ef94627",
   "metadata": {},
   "outputs": [
    {
     "data": {
      "text/html": [
       "<div>\n",
       "<style scoped>\n",
       "    .dataframe tbody tr th:only-of-type {\n",
       "        vertical-align: middle;\n",
       "    }\n",
       "\n",
       "    .dataframe tbody tr th {\n",
       "        vertical-align: top;\n",
       "    }\n",
       "\n",
       "    .dataframe thead th {\n",
       "        text-align: right;\n",
       "    }\n",
       "</style>\n",
       "<table border=\"1\" class=\"dataframe\">\n",
       "  <thead>\n",
       "    <tr style=\"text-align: right;\">\n",
       "      <th></th>\n",
       "      <th>Overall</th>\n",
       "      <th>Team</th>\n",
       "      <th>Player</th>\n",
       "      <th>Nat.</th>\n",
       "      <th>Pos</th>\n",
       "      <th>Age</th>\n",
       "      <th>To</th>\n",
       "      <th>Junior Team</th>\n",
       "      <th>League</th>\n",
       "      <th>GP</th>\n",
       "      <th>...</th>\n",
       "      <th>D0_GP</th>\n",
       "      <th>D0_G</th>\n",
       "      <th>D0_A</th>\n",
       "      <th>D0_TP</th>\n",
       "      <th>D0_P/G</th>\n",
       "      <th>D0_PIM</th>\n",
       "      <th>D0_+/-</th>\n",
       "      <th>NHLe Coefficient</th>\n",
       "      <th>NHLe</th>\n",
       "      <th>NHLer</th>\n",
       "    </tr>\n",
       "  </thead>\n",
       "  <tbody>\n",
       "    <tr>\n",
       "      <th>0</th>\n",
       "      <td>1</td>\n",
       "      <td>Chicago Blackhawks</td>\n",
       "      <td>Patrick Kane</td>\n",
       "      <td>US</td>\n",
       "      <td>RW</td>\n",
       "      <td>18.0</td>\n",
       "      <td>2023.0</td>\n",
       "      <td>London Knights</td>\n",
       "      <td>OHL</td>\n",
       "      <td>1126.0</td>\n",
       "      <td>...</td>\n",
       "      <td>58</td>\n",
       "      <td>62</td>\n",
       "      <td>83</td>\n",
       "      <td>145</td>\n",
       "      <td>2.50</td>\n",
       "      <td>52</td>\n",
       "      <td>42.0</td>\n",
       "      <td>0.144</td>\n",
       "      <td>29.52000</td>\n",
       "      <td>1.0</td>\n",
       "    </tr>\n",
       "    <tr>\n",
       "      <th>1</th>\n",
       "      <td>2</td>\n",
       "      <td>Philadelphia Flyers</td>\n",
       "      <td>James van Riemsdyk</td>\n",
       "      <td>US</td>\n",
       "      <td>LW</td>\n",
       "      <td>18.0</td>\n",
       "      <td>2023.0</td>\n",
       "      <td>USA U-18 Development Team</td>\n",
       "      <td>USDP/NAHL</td>\n",
       "      <td>885.0</td>\n",
       "      <td>...</td>\n",
       "      <td>30</td>\n",
       "      <td>20</td>\n",
       "      <td>18</td>\n",
       "      <td>38</td>\n",
       "      <td>1.27</td>\n",
       "      <td>44</td>\n",
       "      <td>0.0</td>\n",
       "      <td>0.121</td>\n",
       "      <td>12.60094</td>\n",
       "      <td>1.0</td>\n",
       "    </tr>\n",
       "    <tr>\n",
       "      <th>2</th>\n",
       "      <td>3</td>\n",
       "      <td>Phoenix Coyotes</td>\n",
       "      <td>Kyle Turris</td>\n",
       "      <td>CA</td>\n",
       "      <td>C</td>\n",
       "      <td>18.0</td>\n",
       "      <td>2022.0</td>\n",
       "      <td>Burnaby</td>\n",
       "      <td>BCHL</td>\n",
       "      <td>776.0</td>\n",
       "      <td>...</td>\n",
       "      <td>53</td>\n",
       "      <td>66</td>\n",
       "      <td>55</td>\n",
       "      <td>121</td>\n",
       "      <td>2.28</td>\n",
       "      <td>83</td>\n",
       "      <td>0.0</td>\n",
       "      <td>0.080</td>\n",
       "      <td>14.95680</td>\n",
       "      <td>1.0</td>\n",
       "    </tr>\n",
       "    <tr>\n",
       "      <th>3</th>\n",
       "      <td>4</td>\n",
       "      <td>Los Angeles Kings</td>\n",
       "      <td>Thomas Hickey</td>\n",
       "      <td>CA</td>\n",
       "      <td>D</td>\n",
       "      <td>18.0</td>\n",
       "      <td>2022.0</td>\n",
       "      <td>Seattle Thunderbirds</td>\n",
       "      <td>WHL</td>\n",
       "      <td>456.0</td>\n",
       "      <td>...</td>\n",
       "      <td>68</td>\n",
       "      <td>9</td>\n",
       "      <td>41</td>\n",
       "      <td>50</td>\n",
       "      <td>0.74</td>\n",
       "      <td>70</td>\n",
       "      <td>15.0</td>\n",
       "      <td>0.141</td>\n",
       "      <td>8.55588</td>\n",
       "      <td>1.0</td>\n",
       "    </tr>\n",
       "    <tr>\n",
       "      <th>4</th>\n",
       "      <td>5</td>\n",
       "      <td>Washington Capitals</td>\n",
       "      <td>Karl Alzner</td>\n",
       "      <td>CA</td>\n",
       "      <td>D</td>\n",
       "      <td>18.0</td>\n",
       "      <td>2020.0</td>\n",
       "      <td>Calgary Hitmen</td>\n",
       "      <td>WHL</td>\n",
       "      <td>686.0</td>\n",
       "      <td>...</td>\n",
       "      <td>63</td>\n",
       "      <td>8</td>\n",
       "      <td>39</td>\n",
       "      <td>47</td>\n",
       "      <td>0.75</td>\n",
       "      <td>32</td>\n",
       "      <td>16.0</td>\n",
       "      <td>0.141</td>\n",
       "      <td>8.67150</td>\n",
       "      <td>1.0</td>\n",
       "    </tr>\n",
       "  </tbody>\n",
       "</table>\n",
       "<p>5 rows × 27 columns</p>\n",
       "</div>"
      ],
      "text/plain": [
       "   Overall                 Team              Player Nat. Pos   Age      To  \\\n",
       "0        1   Chicago Blackhawks        Patrick Kane   US  RW  18.0  2023.0   \n",
       "1        2  Philadelphia Flyers  James van Riemsdyk   US  LW  18.0  2023.0   \n",
       "2        3      Phoenix Coyotes         Kyle Turris   CA   C  18.0  2022.0   \n",
       "3        4    Los Angeles Kings       Thomas Hickey   CA   D  18.0  2022.0   \n",
       "4        5  Washington Capitals         Karl Alzner   CA   D  18.0  2020.0   \n",
       "\n",
       "                  Junior Team     League      GP  ...  D0_GP  D0_G  D0_A  \\\n",
       "0             London Knights         OHL  1126.0  ...     58    62    83   \n",
       "1  USA U-18 Development Team   USDP/NAHL   885.0  ...     30    20    18   \n",
       "2                    Burnaby        BCHL   776.0  ...     53    66    55   \n",
       "3       Seattle Thunderbirds         WHL   456.0  ...     68     9    41   \n",
       "4             Calgary Hitmen         WHL   686.0  ...     63     8    39   \n",
       "\n",
       "   D0_TP  D0_P/G D0_PIM  D0_+/-  NHLe Coefficient      NHLe  NHLer  \n",
       "0    145    2.50     52    42.0             0.144  29.52000    1.0  \n",
       "1     38    1.27     44     0.0             0.121  12.60094    1.0  \n",
       "2    121    2.28     83     0.0             0.080  14.95680    1.0  \n",
       "3     50    0.74     70    15.0             0.141   8.55588    1.0  \n",
       "4     47    0.75     32    16.0             0.141   8.67150    1.0  \n",
       "\n",
       "[5 rows x 27 columns]"
      ]
     },
     "execution_count": 4,
     "metadata": {},
     "output_type": "execute_result"
    }
   ],
   "source": [
    "draft_db = draft_db.reset_index()\n",
    "draft_db = draft_db.drop(['index'], axis=1)\n",
    "draft_db.head()"
   ]
  },
  {
   "cell_type": "code",
   "execution_count": 5,
   "id": "808e5c2a-8810-4bc2-99b5-20b14868e764",
   "metadata": {},
   "outputs": [],
   "source": [
    "# Create a total games played column in the final draft dataframe\n",
    "\n",
    "final_draftDB['GP'] = draft_db['GP']"
   ]
  },
  {
   "cell_type": "code",
   "execution_count": 6,
   "id": "a2e9efe5-c5d1-415c-be1e-d81971914aee",
   "metadata": {},
   "outputs": [
    {
     "data": {
      "text/html": [
       "<div>\n",
       "<style scoped>\n",
       "    .dataframe tbody tr th:only-of-type {\n",
       "        vertical-align: middle;\n",
       "    }\n",
       "\n",
       "    .dataframe tbody tr th {\n",
       "        vertical-align: top;\n",
       "    }\n",
       "\n",
       "    .dataframe thead th {\n",
       "        text-align: right;\n",
       "    }\n",
       "</style>\n",
       "<table border=\"1\" class=\"dataframe\">\n",
       "  <thead>\n",
       "    <tr style=\"text-align: right;\">\n",
       "      <th></th>\n",
       "      <th>Overall</th>\n",
       "      <th>Team</th>\n",
       "      <th>Player</th>\n",
       "      <th>Pos</th>\n",
       "      <th>Age</th>\n",
       "      <th>Height</th>\n",
       "      <th>Weight</th>\n",
       "      <th>D-1_GP</th>\n",
       "      <th>D0_GP</th>\n",
       "      <th>Total GP</th>\n",
       "      <th>D-1_NHLe</th>\n",
       "      <th>D0_NHLe</th>\n",
       "      <th>NHLe Total</th>\n",
       "      <th>NHLe Progression</th>\n",
       "      <th>NHLer</th>\n",
       "      <th>GP</th>\n",
       "    </tr>\n",
       "  </thead>\n",
       "  <tbody>\n",
       "    <tr>\n",
       "      <th>0</th>\n",
       "      <td>1</td>\n",
       "      <td>Chicago Blackhawks</td>\n",
       "      <td>Patrick Kane</td>\n",
       "      <td>RW</td>\n",
       "      <td>18.0</td>\n",
       "      <td>177.80</td>\n",
       "      <td>178.0</td>\n",
       "      <td>43.0</td>\n",
       "      <td>58.0</td>\n",
       "      <td>101.0</td>\n",
       "      <td>11.27172</td>\n",
       "      <td>29.52000</td>\n",
       "      <td>40.79172</td>\n",
       "      <td>18.24828</td>\n",
       "      <td>1.0</td>\n",
       "      <td>1126.0</td>\n",
       "    </tr>\n",
       "    <tr>\n",
       "      <th>1</th>\n",
       "      <td>2</td>\n",
       "      <td>Philadelphia Flyers</td>\n",
       "      <td>James van Riemsdyk</td>\n",
       "      <td>LW</td>\n",
       "      <td>18.0</td>\n",
       "      <td>190.50</td>\n",
       "      <td>200.0</td>\n",
       "      <td>32.0</td>\n",
       "      <td>30.0</td>\n",
       "      <td>62.0</td>\n",
       "      <td>3.78102</td>\n",
       "      <td>12.60094</td>\n",
       "      <td>16.38196</td>\n",
       "      <td>8.81992</td>\n",
       "      <td>1.0</td>\n",
       "      <td>885.0</td>\n",
       "    </tr>\n",
       "    <tr>\n",
       "      <th>2</th>\n",
       "      <td>3</td>\n",
       "      <td>Phoenix Coyotes</td>\n",
       "      <td>Kyle Turris</td>\n",
       "      <td>C</td>\n",
       "      <td>18.0</td>\n",
       "      <td>185.42</td>\n",
       "      <td>185.0</td>\n",
       "      <td>57.0</td>\n",
       "      <td>53.0</td>\n",
       "      <td>110.0</td>\n",
       "      <td>8.26560</td>\n",
       "      <td>14.95680</td>\n",
       "      <td>23.22240</td>\n",
       "      <td>6.69120</td>\n",
       "      <td>1.0</td>\n",
       "      <td>776.0</td>\n",
       "    </tr>\n",
       "    <tr>\n",
       "      <th>3</th>\n",
       "      <td>4</td>\n",
       "      <td>Los Angeles Kings</td>\n",
       "      <td>Thomas Hickey</td>\n",
       "      <td>D</td>\n",
       "      <td>18.0</td>\n",
       "      <td>180.34</td>\n",
       "      <td>184.0</td>\n",
       "      <td>69.0</td>\n",
       "      <td>68.0</td>\n",
       "      <td>137.0</td>\n",
       "      <td>4.74042</td>\n",
       "      <td>8.55588</td>\n",
       "      <td>13.29630</td>\n",
       "      <td>3.81546</td>\n",
       "      <td>1.0</td>\n",
       "      <td>456.0</td>\n",
       "    </tr>\n",
       "    <tr>\n",
       "      <th>4</th>\n",
       "      <td>5</td>\n",
       "      <td>Washington Capitals</td>\n",
       "      <td>Karl Alzner</td>\n",
       "      <td>D</td>\n",
       "      <td>18.0</td>\n",
       "      <td>190.50</td>\n",
       "      <td>206.0</td>\n",
       "      <td>70.0</td>\n",
       "      <td>63.0</td>\n",
       "      <td>133.0</td>\n",
       "      <td>3.93108</td>\n",
       "      <td>8.67150</td>\n",
       "      <td>12.60258</td>\n",
       "      <td>4.74042</td>\n",
       "      <td>1.0</td>\n",
       "      <td>686.0</td>\n",
       "    </tr>\n",
       "  </tbody>\n",
       "</table>\n",
       "</div>"
      ],
      "text/plain": [
       "   Overall                 Team              Player Pos   Age  Height  Weight  \\\n",
       "0        1   Chicago Blackhawks        Patrick Kane  RW  18.0  177.80   178.0   \n",
       "1        2  Philadelphia Flyers  James van Riemsdyk  LW  18.0  190.50   200.0   \n",
       "2        3      Phoenix Coyotes         Kyle Turris   C  18.0  185.42   185.0   \n",
       "3        4    Los Angeles Kings       Thomas Hickey   D  18.0  180.34   184.0   \n",
       "4        5  Washington Capitals         Karl Alzner   D  18.0  190.50   206.0   \n",
       "\n",
       "   D-1_GP  D0_GP  Total GP  D-1_NHLe   D0_NHLe  NHLe Total  NHLe Progression  \\\n",
       "0    43.0   58.0     101.0  11.27172  29.52000    40.79172          18.24828   \n",
       "1    32.0   30.0      62.0   3.78102  12.60094    16.38196           8.81992   \n",
       "2    57.0   53.0     110.0   8.26560  14.95680    23.22240           6.69120   \n",
       "3    69.0   68.0     137.0   4.74042   8.55588    13.29630           3.81546   \n",
       "4    70.0   63.0     133.0   3.93108   8.67150    12.60258           4.74042   \n",
       "\n",
       "   NHLer      GP  \n",
       "0    1.0  1126.0  \n",
       "1    1.0   885.0  \n",
       "2    1.0   776.0  \n",
       "3    1.0   456.0  \n",
       "4    1.0   686.0  "
      ]
     },
     "execution_count": 6,
     "metadata": {},
     "output_type": "execute_result"
    }
   ],
   "source": [
    "final_draftDB.head()"
   ]
  },
  {
   "cell_type": "code",
   "execution_count": 7,
   "id": "65b1c213-46b2-40f1-9698-ec342444d583",
   "metadata": {},
   "outputs": [
    {
     "name": "stdout",
     "output_type": "stream",
     "text": [
      "Stored 'final_draftDB' (DataFrame)\n"
     ]
    }
   ],
   "source": [
    "%store final_draftDB"
   ]
  },
  {
   "cell_type": "code",
   "execution_count": 123,
   "id": "0e67843b-1683-47ca-a249-96c1e3f327f9",
   "metadata": {},
   "outputs": [
    {
     "data": {
      "text/plain": [
       "Overall               0\n",
       "Team                  0\n",
       "Player                0\n",
       "Pos                   0\n",
       "Age                   0\n",
       "Height                0\n",
       "Weight                0\n",
       "D-1_GP                0\n",
       "D0_GP                 0\n",
       "Total GP              0\n",
       "D-1_NHLe              0\n",
       "D0_NHLe               0\n",
       "NHLe Total            0\n",
       "NHLe Progression      0\n",
       "NHLer                 0\n",
       "GP                  726\n",
       "dtype: int64"
      ]
     },
     "execution_count": 123,
     "metadata": {},
     "output_type": "execute_result"
    }
   ],
   "source": [
    "# Check for missing values\n",
    "final_draftDB.isnull().sum()"
   ]
  },
  {
   "cell_type": "code",
   "execution_count": 124,
   "id": "45550efd-47a9-4aa0-bdda-107c5bddc6f8",
   "metadata": {},
   "outputs": [],
   "source": [
    "# Impute missing GP values with 0 as the players without them did not make the NHL\n",
    "\n",
    "final_draftDB['GP'] = final_draftDB['GP'].fillna(0)"
   ]
  },
  {
   "cell_type": "code",
   "execution_count": 190,
   "id": "b58f0104-b9fe-4ef7-84f0-e2843a698d58",
   "metadata": {},
   "outputs": [],
   "source": [
    "GP_0 = final_draftDB[final_draftDB['GP'] == 0][0:10]\n",
    "GP_1 = final_draftDB.loc[(final_draftDB['GP'] >= 10) & (final_draftDB['GP'] <50)][0:20]\n",
    "GP_2 = final_draftDB.loc[(final_draftDB['GP'] >= 50) & (final_draftDB['GP'] <100)][0:30]\n",
    "GP_3 = final_draftDB.loc[(final_draftDB['GP'] >= 100) & (final_draftDB['GP'] < 200)][0:130]\n",
    "GP_4 = final_draftDB.loc[(final_draftDB['GP'] >= 200) & (final_draftDB['GP'] < 400)][0:130]\n",
    "GP_5 = final_draftDB.loc[(final_draftDB['GP'] >= 400) & (final_draftDB['GP'] < 600)]\n",
    "GP_6 = final_draftDB.loc[final_draftDB['GP'] > 600]"
   ]
  },
  {
   "cell_type": "code",
   "execution_count": 191,
   "id": "043a6beb-8460-4cea-adca-dbecdd0f8341",
   "metadata": {},
   "outputs": [],
   "source": [
    "resampled = [GP_0, GP_1, GP_2, GP_3, GP_4, GP_5, GP_6]\n",
    "\n",
    "resampled_df = pd.concat(resampled, axis=0)"
   ]
  },
  {
   "cell_type": "code",
   "execution_count": 192,
   "id": "ad501e46-8724-41b4-8064-2bb3da15e5f1",
   "metadata": {},
   "outputs": [
    {
     "data": {
      "text/plain": [
       "<AxesSubplot: xlabel='GP', ylabel='Count'>"
      ]
     },
     "execution_count": 192,
     "metadata": {},
     "output_type": "execute_result"
    },
    {
     "data": {
      "image/png": "[encoded data removed]",
      "text/plain": [
       "<Figure size 640x480 with 1 Axes>"
      ]
     },
     "metadata": {},
     "output_type": "display_data"
    }
   ],
   "source": [
    "sns.histplot(x=resampled_df['GP'], bins=25)"
   ]
  },
  {
   "cell_type": "code",
   "execution_count": 195,
   "id": "47049c9f-95c8-49a1-b498-3b88917a1879",
   "metadata": {},
   "outputs": [
    {
     "data": {
      "text/plain": [
       "1.0    388\n",
       "0.0    166\n",
       "Name: NHLer, dtype: int64"
      ]
     },
     "execution_count": 195,
     "metadata": {},
     "output_type": "execute_result"
    }
   ],
   "source": [
    "resampled_df['NHLer'].value_counts()"
   ]
  },
  {
   "cell_type": "markdown",
   "id": "5709d7c7-5658-4584-a524-8f6911dcf27e",
   "metadata": {},
   "source": [
    "## Select GP as target variable for regression modelling"
   ]
  },
  {
   "cell_type": "code",
   "execution_count": 197,
   "id": "a44a7a0a-bc8f-499f-9a9d-cd7a36e25e45",
   "metadata": {},
   "outputs": [],
   "source": [
    "x_db = resampled_df.drop(['Overall', 'Team', 'Player', 'NHLer', 'GP'], axis=1)\n",
    "\n",
    "y_db = resampled_df['GP']"
   ]
  },
  {
   "cell_type": "markdown",
   "id": "60a37902-aaaf-4e3f-9176-5f5b3e0de66a",
   "metadata": {},
   "source": [
    "## Train Test Split"
   ]
  },
  {
   "cell_type": "code",
   "execution_count": 200,
   "id": "cee39f7f-285d-4fc3-8b70-12d69a9a251c",
   "metadata": {},
   "outputs": [],
   "source": [
    "from sklearn.model_selection import train_test_split"
   ]
  },
  {
   "cell_type": "code",
   "execution_count": 44,
   "id": "103c5b20-05f5-4f0c-884e-f594236d9461",
   "metadata": {},
   "outputs": [],
   "source": [
    "# Divide target variable by its max number for scaling purposes\n",
    "y_db = y_db.divide(1126)"
   ]
  },
  {
   "cell_type": "code",
   "execution_count": 129,
   "id": "671d5546-a020-4cc2-9c3f-bf7b73ec58f3",
   "metadata": {},
   "outputs": [],
   "source": [
    "X_train = x_db.loc[0:1132]\n",
    "X_test = x_db.loc[1133:1512]\n",
    "y_train = y_db.loc[:1132]\n",
    "y_test = y_db.loc[1133:1512]"
   ]
  },
  {
   "cell_type": "code",
   "execution_count": 201,
   "id": "92e906ff-bd69-4f23-a148-385d5fc4a24d",
   "metadata": {},
   "outputs": [],
   "source": [
    "X_train, X_test, y_train, y_test = train_test_split(x_db, y_db, test_size=0.25, random_state=42)"
   ]
  },
  {
   "cell_type": "markdown",
   "id": "84bd0840-4295-44c9-9cbf-9b2311275426",
   "metadata": {},
   "source": [
    "## Pipeline"
   ]
  },
  {
   "cell_type": "code",
   "execution_count": 216,
   "id": "bc5e21c8-d999-4538-b5e9-cf458c249e72",
   "metadata": {},
   "outputs": [],
   "source": [
    "from sklearn.pipeline import Pipeline\n",
    "from sklearn.compose import ColumnTransformer\n",
    "from sklearn.preprocessing import OneHotEncoder, StandardScaler\n",
    "from sklearn.feature_selection import SelectKBest\n",
    "from sklearn.linear_model import LinearRegression\n",
    "from sklearn.decomposition import PCA"
   ]
  },
  {
   "cell_type": "markdown",
   "id": "786401e2-f343-4efe-bab7-a0fc0d5d3ce4",
   "metadata": {},
   "source": [
    "### One hot encoder"
   ]
  },
  {
   "cell_type": "code",
   "execution_count": 217,
   "id": "e9a4ec35-b478-447b-8174-eeab53f79d62",
   "metadata": {},
   "outputs": [],
   "source": [
    "ohe = OneHotEncoder(sparse=False)"
   ]
  },
  {
   "cell_type": "markdown",
   "id": "4799dc6d-d490-44fd-8c5f-eb30f9c20da0",
   "metadata": {},
   "source": [
    "### PCA"
   ]
  },
  {
   "cell_type": "code",
   "execution_count": 218,
   "id": "f6be3eef-5537-440f-8c61-6a75e6c21ca2",
   "metadata": {},
   "outputs": [],
   "source": [
    "# Select number of principle components\n",
    "pca = PCA(n_components=1)"
   ]
  },
  {
   "cell_type": "markdown",
   "id": "485e24e7-7bdb-41c1-8684-e7d90ee02f36",
   "metadata": {},
   "source": [
    "### Select Kbest"
   ]
  },
  {
   "cell_type": "code",
   "execution_count": 219,
   "id": "dd1538fd-125c-4b27-9df8-aa54c789d671",
   "metadata": {},
   "outputs": [],
   "source": [
    "# Instantiate SelectKBest Variable\n",
    "selection = SelectKBest(k=6)"
   ]
  },
  {
   "cell_type": "markdown",
   "id": "c77ecd36-f6e8-4c89-94f7-3eb70509c782",
   "metadata": {},
   "source": [
    "### Instantiating Standard Scaler"
   ]
  },
  {
   "cell_type": "code",
   "execution_count": 220,
   "id": "49489832-5b84-4251-9e80-8d1edc1d661f",
   "metadata": {},
   "outputs": [],
   "source": [
    "scaler=StandardScaler()"
   ]
  },
  {
   "cell_type": "markdown",
   "id": "a40bcbe3-0d2e-4237-8ff9-700178e37823",
   "metadata": {},
   "source": [
    "### Instantiating XGBoost model"
   ]
  },
  {
   "cell_type": "code",
   "execution_count": 221,
   "id": "71c2a132-d936-403a-918a-e01c1dce5e3c",
   "metadata": {},
   "outputs": [],
   "source": [
    "from sklearn.ensemble import GradientBoostingRegressor"
   ]
  },
  {
   "cell_type": "code",
   "execution_count": 240,
   "id": "323208af-c404-4376-882d-9728a354b7c2",
   "metadata": {},
   "outputs": [],
   "source": [
    "Gb_clf = GradientBoostingRegressor(learning_rate=0.001, max_depth=3, n_estimators=250)"
   ]
  },
  {
   "cell_type": "markdown",
   "id": "61e94328-e29b-4a49-acf6-e45337bcc756",
   "metadata": {},
   "source": [
    "## Set up Pipeline"
   ]
  },
  {
   "cell_type": "code",
   "execution_count": 241,
   "id": "b3e5ea58-299e-4bd0-ad21-de6ca216649f",
   "metadata": {},
   "outputs": [],
   "source": [
    "# define individual transformers in a pipeline\n",
    "\n",
    "categorical_preprocessing = Pipeline([('ohe', OneHotEncoder(sparse=False)),\n",
    "                                           ('PCA', pca)])\n",
    "\n",
    "numerical_preprocessing = Pipeline([('scale', StandardScaler()),\n",
    "                                         ('selectK_best', selection)])"
   ]
  },
  {
   "cell_type": "code",
   "execution_count": 242,
   "id": "55531af0-7d7b-409a-b39a-d99a0bd6a367",
   "metadata": {},
   "outputs": [
    {
     "data": {
      "text/html": [
       "<style>#sk-container-id-20 {color: black;background-color: white;}#sk-container-id-20 pre{padding: 0;}#sk-container-id-20 div.sk-toggleable {background-color: white;}#sk-container-id-20 label.sk-toggleable__label {cursor: pointer;display: block;width: 100%;margin-bottom: 0;padding: 0.3em;box-sizing: border-box;text-align: center;}#sk-container-id-20 label.sk-toggleable__label-arrow:before {content: \"▸\";float: left;margin-right: 0.25em;color: #696969;}#sk-container-id-20 label.sk-toggleable__label-arrow:hover:before {color: black;}#sk-container-id-20 div.sk-estimator:hover label.sk-toggleable__label-arrow:before {color: black;}#sk-container-id-20 div.sk-toggleable__content {max-height: 0;max-width: 0;overflow: hidden;text-align: left;background-color: #f0f8ff;}#sk-container-id-20 div.sk-toggleable__content pre {margin: 0.2em;color: black;border-radius: 0.25em;background-color: #f0f8ff;}#sk-container-id-20 input.sk-toggleable__control:checked~div.sk-toggleable__content {max-height: 200px;max-width: 100%;overflow: auto;}#sk-container-id-20 input.sk-toggleable__control:checked~label.sk-toggleable__label-arrow:before {content: \"▾\";}#sk-container-id-20 div.sk-estimator input.sk-toggleable__control:checked~label.sk-toggleable__label {background-color: #d4ebff;}#sk-container-id-20 div.sk-label input.sk-toggleable__control:checked~label.sk-toggleable__label {background-color: #d4ebff;}#sk-container-id-20 input.sk-hidden--visually {border: 0;clip: rect(1px 1px 1px 1px);clip: rect(1px, 1px, 1px, 1px);height: 1px;margin: -1px;overflow: hidden;padding: 0;position: absolute;width: 1px;}#sk-container-id-20 div.sk-estimator {font-family: monospace;background-color: #f0f8ff;border: 1px dotted black;border-radius: 0.25em;box-sizing: border-box;margin-bottom: 0.5em;}#sk-container-id-20 div.sk-estimator:hover {background-color: #d4ebff;}#sk-container-id-20 div.sk-parallel-item::after {content: \"\";width: 100%;border-bottom: 1px solid gray;flex-grow: 1;}#sk-container-id-20 div.sk-label:hover label.sk-toggleable__label {background-color: #d4ebff;}#sk-container-id-20 div.sk-serial::before {content: \"\";position: absolute;border-left: 1px solid gray;box-sizing: border-box;top: 0;bottom: 0;left: 50%;z-index: 0;}#sk-container-id-20 div.sk-serial {display: flex;flex-direction: column;align-items: center;background-color: white;padding-right: 0.2em;padding-left: 0.2em;position: relative;}#sk-container-id-20 div.sk-item {position: relative;z-index: 1;}#sk-container-id-20 div.sk-parallel {display: flex;align-items: stretch;justify-content: center;background-color: white;position: relative;}#sk-container-id-20 div.sk-item::before, #sk-container-id-20 div.sk-parallel-item::before {content: \"\";position: absolute;border-left: 1px solid gray;box-sizing: border-box;top: 0;bottom: 0;left: 50%;z-index: -1;}#sk-container-id-20 div.sk-parallel-item {display: flex;flex-direction: column;z-index: 1;position: relative;background-color: white;}#sk-container-id-20 div.sk-parallel-item:first-child::after {align-self: flex-end;width: 50%;}#sk-container-id-20 div.sk-parallel-item:last-child::after {align-self: flex-start;width: 50%;}#sk-container-id-20 div.sk-parallel-item:only-child::after {width: 0;}#sk-container-id-20 div.sk-dashed-wrapped {border: 1px dashed gray;margin: 0 0.4em 0.5em 0.4em;box-sizing: border-box;padding-bottom: 0.4em;background-color: white;}#sk-container-id-20 div.sk-label label {font-family: monospace;font-weight: bold;display: inline-block;line-height: 1.2em;}#sk-container-id-20 div.sk-label-container {text-align: center;}#sk-container-id-20 div.sk-container {/* jupyter's `normalize.less` sets `[hidden] { display: none; }` but bootstrap.min.css set `[hidden] { display: none !important; }` so we also need the `!important` here to be able to override the default hidden behavior on the sphinx rendered scikit-learn.org. See: https://github.com/scikit-learn/scikit-learn/issues/21755 */display: inline-block !important;position: relative;}#sk-container-id-20 div.sk-text-repr-fallback {display: none;}</style><div id=\"sk-container-id-20\" class=\"sk-top-container\"><div class=\"sk-text-repr-fallback\"><pre>ColumnTransformer(transformers=[(&#x27;categorical_preprocessing&#x27;,\n",
       "                                 Pipeline(steps=[(&#x27;ohe&#x27;,\n",
       "                                                  OneHotEncoder(sparse=False)),\n",
       "                                                 (&#x27;PCA&#x27;, PCA(n_components=1))]),\n",
       "                                 [&#x27;Pos&#x27;]),\n",
       "                                (&#x27;numerical_preprocessing&#x27;,\n",
       "                                 Pipeline(steps=[(&#x27;scale&#x27;, StandardScaler()),\n",
       "                                                 (&#x27;selectK_best&#x27;,\n",
       "                                                  SelectKBest(k=6))]),\n",
       "                                 [&#x27;Age&#x27;, &#x27;Height&#x27;, &#x27;Weight&#x27;, &#x27;D-1_GP&#x27;, &#x27;D0_GP&#x27;,\n",
       "                                  &#x27;Total GP&#x27;, &#x27;D-1_NHLe&#x27;, &#x27;D0_NHLe&#x27;,\n",
       "                                  &#x27;NHLe Total&#x27;, &#x27;NHLe Progression&#x27;])])</pre><b>In a Jupyter environment, please rerun this cell to show the HTML representation or trust the notebook. <br />On GitHub, the HTML representation is unable to render, please try loading this page with nbviewer.org.</b></div><div class=\"sk-container\" hidden><div class=\"sk-item sk-dashed-wrapped\"><div class=\"sk-label-container\"><div class=\"sk-label sk-toggleable\"><input class=\"sk-toggleable__control sk-hidden--visually\" id=\"sk-estimator-id-129\" type=\"checkbox\" ><label for=\"sk-estimator-id-129\" class=\"sk-toggleable__label sk-toggleable__label-arrow\">ColumnTransformer</label><div class=\"sk-toggleable__content\"><pre>ColumnTransformer(transformers=[(&#x27;categorical_preprocessing&#x27;,\n",
       "                                 Pipeline(steps=[(&#x27;ohe&#x27;,\n",
       "                                                  OneHotEncoder(sparse=False)),\n",
       "                                                 (&#x27;PCA&#x27;, PCA(n_components=1))]),\n",
       "                                 [&#x27;Pos&#x27;]),\n",
       "                                (&#x27;numerical_preprocessing&#x27;,\n",
       "                                 Pipeline(steps=[(&#x27;scale&#x27;, StandardScaler()),\n",
       "                                                 (&#x27;selectK_best&#x27;,\n",
       "                                                  SelectKBest(k=6))]),\n",
       "                                 [&#x27;Age&#x27;, &#x27;Height&#x27;, &#x27;Weight&#x27;, &#x27;D-1_GP&#x27;, &#x27;D0_GP&#x27;,\n",
       "                                  &#x27;Total GP&#x27;, &#x27;D-1_NHLe&#x27;, &#x27;D0_NHLe&#x27;,\n",
       "                                  &#x27;NHLe Total&#x27;, &#x27;NHLe Progression&#x27;])])</pre></div></div></div><div class=\"sk-parallel\"><div class=\"sk-parallel-item\"><div class=\"sk-item\"><div class=\"sk-label-container\"><div class=\"sk-label sk-toggleable\"><input class=\"sk-toggleable__control sk-hidden--visually\" id=\"sk-estimator-id-130\" type=\"checkbox\" ><label for=\"sk-estimator-id-130\" class=\"sk-toggleable__label sk-toggleable__label-arrow\">categorical_preprocessing</label><div class=\"sk-toggleable__content\"><pre>[&#x27;Pos&#x27;]</pre></div></div></div><div class=\"sk-serial\"><div class=\"sk-item\"><div class=\"sk-serial\"><div class=\"sk-item\"><div class=\"sk-estimator sk-toggleable\"><input class=\"sk-toggleable__control sk-hidden--visually\" id=\"sk-estimator-id-131\" type=\"checkbox\" ><label for=\"sk-estimator-id-131\" class=\"sk-toggleable__label sk-toggleable__label-arrow\">OneHotEncoder</label><div class=\"sk-toggleable__content\"><pre>OneHotEncoder(sparse=False)</pre></div></div></div><div class=\"sk-item\"><div class=\"sk-estimator sk-toggleable\"><input class=\"sk-toggleable__control sk-hidden--visually\" id=\"sk-estimator-id-132\" type=\"checkbox\" ><label for=\"sk-estimator-id-132\" class=\"sk-toggleable__label sk-toggleable__label-arrow\">PCA</label><div class=\"sk-toggleable__content\"><pre>PCA(n_components=1)</pre></div></div></div></div></div></div></div></div><div class=\"sk-parallel-item\"><div class=\"sk-item\"><div class=\"sk-label-container\"><div class=\"sk-label sk-toggleable\"><input class=\"sk-toggleable__control sk-hidden--visually\" id=\"sk-estimator-id-133\" type=\"checkbox\" ><label for=\"sk-estimator-id-133\" class=\"sk-toggleable__label sk-toggleable__label-arrow\">numerical_preprocessing</label><div class=\"sk-toggleable__content\"><pre>[&#x27;Age&#x27;, &#x27;Height&#x27;, &#x27;Weight&#x27;, &#x27;D-1_GP&#x27;, &#x27;D0_GP&#x27;, &#x27;Total GP&#x27;, &#x27;D-1_NHLe&#x27;, &#x27;D0_NHLe&#x27;, &#x27;NHLe Total&#x27;, &#x27;NHLe Progression&#x27;]</pre></div></div></div><div class=\"sk-serial\"><div class=\"sk-item\"><div class=\"sk-serial\"><div class=\"sk-item\"><div class=\"sk-estimator sk-toggleable\"><input class=\"sk-toggleable__control sk-hidden--visually\" id=\"sk-estimator-id-134\" type=\"checkbox\" ><label for=\"sk-estimator-id-134\" class=\"sk-toggleable__label sk-toggleable__label-arrow\">StandardScaler</label><div class=\"sk-toggleable__content\"><pre>StandardScaler()</pre></div></div></div><div class=\"sk-item\"><div class=\"sk-estimator sk-toggleable\"><input class=\"sk-toggleable__control sk-hidden--visually\" id=\"sk-estimator-id-135\" type=\"checkbox\" ><label for=\"sk-estimator-id-135\" class=\"sk-toggleable__label sk-toggleable__label-arrow\">SelectKBest</label><div class=\"sk-toggleable__content\"><pre>SelectKBest(k=6)</pre></div></div></div></div></div></div></div></div></div></div></div></div>"
      ],
      "text/plain": [
       "ColumnTransformer(transformers=[('categorical_preprocessing',\n",
       "                                 Pipeline(steps=[('ohe',\n",
       "                                                  OneHotEncoder(sparse=False)),\n",
       "                                                 ('PCA', PCA(n_components=1))]),\n",
       "                                 ['Pos']),\n",
       "                                ('numerical_preprocessing',\n",
       "                                 Pipeline(steps=[('scale', StandardScaler()),\n",
       "                                                 ('selectK_best',\n",
       "                                                  SelectKBest(k=6))]),\n",
       "                                 ['Age', 'Height', 'Weight', 'D-1_GP', 'D0_GP',\n",
       "                                  'Total GP', 'D-1_NHLe', 'D0_NHLe',\n",
       "                                  'NHLe Total', 'NHLe Progression'])])"
      ]
     },
     "execution_count": 242,
     "metadata": {},
     "output_type": "execute_result"
    }
   ],
   "source": [
    "preprocess = ColumnTransformer([\n",
    "    ('categorical_preprocessing', categorical_preprocessing, ['Pos']),\n",
    "    ('numerical_preprocessing', numerical_preprocessing, ['Age', 'Height', 'Weight',\n",
    "                                                          'D-1_GP', 'D0_GP',\n",
    "                                                          'Total GP', 'D-1_NHLe',\n",
    "                                                          'D0_NHLe', 'NHLe Total',\n",
    "                                                          'NHLe Progression'\n",
    "                                                         ])\n",
    "])\n",
    "    \n",
    "preprocess"
   ]
  },
  {
   "cell_type": "code",
   "execution_count": 243,
   "id": "9dca0a00-f399-4bc9-a550-e7c6a3f31e37",
   "metadata": {},
   "outputs": [
    {
     "data": {
      "text/html": [
       "<style>#sk-container-id-21 {color: black;background-color: white;}#sk-container-id-21 pre{padding: 0;}#sk-container-id-21 div.sk-toggleable {background-color: white;}#sk-container-id-21 label.sk-toggleable__label {cursor: pointer;display: block;width: 100%;margin-bottom: 0;padding: 0.3em;box-sizing: border-box;text-align: center;}#sk-container-id-21 label.sk-toggleable__label-arrow:before {content: \"▸\";float: left;margin-right: 0.25em;color: #696969;}#sk-container-id-21 label.sk-toggleable__label-arrow:hover:before {color: black;}#sk-container-id-21 div.sk-estimator:hover label.sk-toggleable__label-arrow:before {color: black;}#sk-container-id-21 div.sk-toggleable__content {max-height: 0;max-width: 0;overflow: hidden;text-align: left;background-color: #f0f8ff;}#sk-container-id-21 div.sk-toggleable__content pre {margin: 0.2em;color: black;border-radius: 0.25em;background-color: #f0f8ff;}#sk-container-id-21 input.sk-toggleable__control:checked~div.sk-toggleable__content {max-height: 200px;max-width: 100%;overflow: auto;}#sk-container-id-21 input.sk-toggleable__control:checked~label.sk-toggleable__label-arrow:before {content: \"▾\";}#sk-container-id-21 div.sk-estimator input.sk-toggleable__control:checked~label.sk-toggleable__label {background-color: #d4ebff;}#sk-container-id-21 div.sk-label input.sk-toggleable__control:checked~label.sk-toggleable__label {background-color: #d4ebff;}#sk-container-id-21 input.sk-hidden--visually {border: 0;clip: rect(1px 1px 1px 1px);clip: rect(1px, 1px, 1px, 1px);height: 1px;margin: -1px;overflow: hidden;padding: 0;position: absolute;width: 1px;}#sk-container-id-21 div.sk-estimator {font-family: monospace;background-color: #f0f8ff;border: 1px dotted black;border-radius: 0.25em;box-sizing: border-box;margin-bottom: 0.5em;}#sk-container-id-21 div.sk-estimator:hover {background-color: #d4ebff;}#sk-container-id-21 div.sk-parallel-item::after {content: \"\";width: 100%;border-bottom: 1px solid gray;flex-grow: 1;}#sk-container-id-21 div.sk-label:hover label.sk-toggleable__label {background-color: #d4ebff;}#sk-container-id-21 div.sk-serial::before {content: \"\";position: absolute;border-left: 1px solid gray;box-sizing: border-box;top: 0;bottom: 0;left: 50%;z-index: 0;}#sk-container-id-21 div.sk-serial {display: flex;flex-direction: column;align-items: center;background-color: white;padding-right: 0.2em;padding-left: 0.2em;position: relative;}#sk-container-id-21 div.sk-item {position: relative;z-index: 1;}#sk-container-id-21 div.sk-parallel {display: flex;align-items: stretch;justify-content: center;background-color: white;position: relative;}#sk-container-id-21 div.sk-item::before, #sk-container-id-21 div.sk-parallel-item::before {content: \"\";position: absolute;border-left: 1px solid gray;box-sizing: border-box;top: 0;bottom: 0;left: 50%;z-index: -1;}#sk-container-id-21 div.sk-parallel-item {display: flex;flex-direction: column;z-index: 1;position: relative;background-color: white;}#sk-container-id-21 div.sk-parallel-item:first-child::after {align-self: flex-end;width: 50%;}#sk-container-id-21 div.sk-parallel-item:last-child::after {align-self: flex-start;width: 50%;}#sk-container-id-21 div.sk-parallel-item:only-child::after {width: 0;}#sk-container-id-21 div.sk-dashed-wrapped {border: 1px dashed gray;margin: 0 0.4em 0.5em 0.4em;box-sizing: border-box;padding-bottom: 0.4em;background-color: white;}#sk-container-id-21 div.sk-label label {font-family: monospace;font-weight: bold;display: inline-block;line-height: 1.2em;}#sk-container-id-21 div.sk-label-container {text-align: center;}#sk-container-id-21 div.sk-container {/* jupyter's `normalize.less` sets `[hidden] { display: none; }` but bootstrap.min.css set `[hidden] { display: none !important; }` so we also need the `!important` here to be able to override the default hidden behavior on the sphinx rendered scikit-learn.org. See: https://github.com/scikit-learn/scikit-learn/issues/21755 */display: inline-block !important;position: relative;}#sk-container-id-21 div.sk-text-repr-fallback {display: none;}</style><div id=\"sk-container-id-21\" class=\"sk-top-container\"><div class=\"sk-text-repr-fallback\"><pre>Pipeline(steps=[(&#x27;preprocess&#x27;,\n",
       "                 ColumnTransformer(transformers=[(&#x27;categorical_preprocessing&#x27;,\n",
       "                                                  Pipeline(steps=[(&#x27;ohe&#x27;,\n",
       "                                                                   OneHotEncoder(sparse=False)),\n",
       "                                                                  (&#x27;PCA&#x27;,\n",
       "                                                                   PCA(n_components=1))]),\n",
       "                                                  [&#x27;Pos&#x27;]),\n",
       "                                                 (&#x27;numerical_preprocessing&#x27;,\n",
       "                                                  Pipeline(steps=[(&#x27;scale&#x27;,\n",
       "                                                                   StandardScaler()),\n",
       "                                                                  (&#x27;selectK_best&#x27;,\n",
       "                                                                   SelectKBest(k=6))]),\n",
       "                                                  [&#x27;Age&#x27;, &#x27;Height&#x27;, &#x27;Weight&#x27;,\n",
       "                                                   &#x27;D-1_GP&#x27;, &#x27;D0_GP&#x27;,\n",
       "                                                   &#x27;Total GP&#x27;, &#x27;D-1_NHLe&#x27;,\n",
       "                                                   &#x27;D0_NHLe&#x27;, &#x27;NHLe Total&#x27;,\n",
       "                                                   &#x27;NHLe Progression&#x27;])])),\n",
       "                (&#x27;best_model&#x27;,\n",
       "                 GradientBoostingRegressor(learning_rate=0.001,\n",
       "                                           n_estimators=250))])</pre><b>In a Jupyter environment, please rerun this cell to show the HTML representation or trust the notebook. <br />On GitHub, the HTML representation is unable to render, please try loading this page with nbviewer.org.</b></div><div class=\"sk-container\" hidden><div class=\"sk-item sk-dashed-wrapped\"><div class=\"sk-label-container\"><div class=\"sk-label sk-toggleable\"><input class=\"sk-toggleable__control sk-hidden--visually\" id=\"sk-estimator-id-136\" type=\"checkbox\" ><label for=\"sk-estimator-id-136\" class=\"sk-toggleable__label sk-toggleable__label-arrow\">Pipeline</label><div class=\"sk-toggleable__content\"><pre>Pipeline(steps=[(&#x27;preprocess&#x27;,\n",
       "                 ColumnTransformer(transformers=[(&#x27;categorical_preprocessing&#x27;,\n",
       "                                                  Pipeline(steps=[(&#x27;ohe&#x27;,\n",
       "                                                                   OneHotEncoder(sparse=False)),\n",
       "                                                                  (&#x27;PCA&#x27;,\n",
       "                                                                   PCA(n_components=1))]),\n",
       "                                                  [&#x27;Pos&#x27;]),\n",
       "                                                 (&#x27;numerical_preprocessing&#x27;,\n",
       "                                                  Pipeline(steps=[(&#x27;scale&#x27;,\n",
       "                                                                   StandardScaler()),\n",
       "                                                                  (&#x27;selectK_best&#x27;,\n",
       "                                                                   SelectKBest(k=6))]),\n",
       "                                                  [&#x27;Age&#x27;, &#x27;Height&#x27;, &#x27;Weight&#x27;,\n",
       "                                                   &#x27;D-1_GP&#x27;, &#x27;D0_GP&#x27;,\n",
       "                                                   &#x27;Total GP&#x27;, &#x27;D-1_NHLe&#x27;,\n",
       "                                                   &#x27;D0_NHLe&#x27;, &#x27;NHLe Total&#x27;,\n",
       "                                                   &#x27;NHLe Progression&#x27;])])),\n",
       "                (&#x27;best_model&#x27;,\n",
       "                 GradientBoostingRegressor(learning_rate=0.001,\n",
       "                                           n_estimators=250))])</pre></div></div></div><div class=\"sk-serial\"><div class=\"sk-item sk-dashed-wrapped\"><div class=\"sk-label-container\"><div class=\"sk-label sk-toggleable\"><input class=\"sk-toggleable__control sk-hidden--visually\" id=\"sk-estimator-id-137\" type=\"checkbox\" ><label for=\"sk-estimator-id-137\" class=\"sk-toggleable__label sk-toggleable__label-arrow\">preprocess: ColumnTransformer</label><div class=\"sk-toggleable__content\"><pre>ColumnTransformer(transformers=[(&#x27;categorical_preprocessing&#x27;,\n",
       "                                 Pipeline(steps=[(&#x27;ohe&#x27;,\n",
       "                                                  OneHotEncoder(sparse=False)),\n",
       "                                                 (&#x27;PCA&#x27;, PCA(n_components=1))]),\n",
       "                                 [&#x27;Pos&#x27;]),\n",
       "                                (&#x27;numerical_preprocessing&#x27;,\n",
       "                                 Pipeline(steps=[(&#x27;scale&#x27;, StandardScaler()),\n",
       "                                                 (&#x27;selectK_best&#x27;,\n",
       "                                                  SelectKBest(k=6))]),\n",
       "                                 [&#x27;Age&#x27;, &#x27;Height&#x27;, &#x27;Weight&#x27;, &#x27;D-1_GP&#x27;, &#x27;D0_GP&#x27;,\n",
       "                                  &#x27;Total GP&#x27;, &#x27;D-1_NHLe&#x27;, &#x27;D0_NHLe&#x27;,\n",
       "                                  &#x27;NHLe Total&#x27;, &#x27;NHLe Progression&#x27;])])</pre></div></div></div><div class=\"sk-parallel\"><div class=\"sk-parallel-item\"><div class=\"sk-item\"><div class=\"sk-label-container\"><div class=\"sk-label sk-toggleable\"><input class=\"sk-toggleable__control sk-hidden--visually\" id=\"sk-estimator-id-138\" type=\"checkbox\" ><label for=\"sk-estimator-id-138\" class=\"sk-toggleable__label sk-toggleable__label-arrow\">categorical_preprocessing</label><div class=\"sk-toggleable__content\"><pre>[&#x27;Pos&#x27;]</pre></div></div></div><div class=\"sk-serial\"><div class=\"sk-item\"><div class=\"sk-serial\"><div class=\"sk-item\"><div class=\"sk-estimator sk-toggleable\"><input class=\"sk-toggleable__control sk-hidden--visually\" id=\"sk-estimator-id-139\" type=\"checkbox\" ><label for=\"sk-estimator-id-139\" class=\"sk-toggleable__label sk-toggleable__label-arrow\">OneHotEncoder</label><div class=\"sk-toggleable__content\"><pre>OneHotEncoder(sparse=False)</pre></div></div></div><div class=\"sk-item\"><div class=\"sk-estimator sk-toggleable\"><input class=\"sk-toggleable__control sk-hidden--visually\" id=\"sk-estimator-id-140\" type=\"checkbox\" ><label for=\"sk-estimator-id-140\" class=\"sk-toggleable__label sk-toggleable__label-arrow\">PCA</label><div class=\"sk-toggleable__content\"><pre>PCA(n_components=1)</pre></div></div></div></div></div></div></div></div><div class=\"sk-parallel-item\"><div class=\"sk-item\"><div class=\"sk-label-container\"><div class=\"sk-label sk-toggleable\"><input class=\"sk-toggleable__control sk-hidden--visually\" id=\"sk-estimator-id-141\" type=\"checkbox\" ><label for=\"sk-estimator-id-141\" class=\"sk-toggleable__label sk-toggleable__label-arrow\">numerical_preprocessing</label><div class=\"sk-toggleable__content\"><pre>[&#x27;Age&#x27;, &#x27;Height&#x27;, &#x27;Weight&#x27;, &#x27;D-1_GP&#x27;, &#x27;D0_GP&#x27;, &#x27;Total GP&#x27;, &#x27;D-1_NHLe&#x27;, &#x27;D0_NHLe&#x27;, &#x27;NHLe Total&#x27;, &#x27;NHLe Progression&#x27;]</pre></div></div></div><div class=\"sk-serial\"><div class=\"sk-item\"><div class=\"sk-serial\"><div class=\"sk-item\"><div class=\"sk-estimator sk-toggleable\"><input class=\"sk-toggleable__control sk-hidden--visually\" id=\"sk-estimator-id-142\" type=\"checkbox\" ><label for=\"sk-estimator-id-142\" class=\"sk-toggleable__label sk-toggleable__label-arrow\">StandardScaler</label><div class=\"sk-toggleable__content\"><pre>StandardScaler()</pre></div></div></div><div class=\"sk-item\"><div class=\"sk-estimator sk-toggleable\"><input class=\"sk-toggleable__control sk-hidden--visually\" id=\"sk-estimator-id-143\" type=\"checkbox\" ><label for=\"sk-estimator-id-143\" class=\"sk-toggleable__label sk-toggleable__label-arrow\">SelectKBest</label><div class=\"sk-toggleable__content\"><pre>SelectKBest(k=6)</pre></div></div></div></div></div></div></div></div></div></div><div class=\"sk-item\"><div class=\"sk-estimator sk-toggleable\"><input class=\"sk-toggleable__control sk-hidden--visually\" id=\"sk-estimator-id-144\" type=\"checkbox\" ><label for=\"sk-estimator-id-144\" class=\"sk-toggleable__label sk-toggleable__label-arrow\">GradientBoostingRegressor</label><div class=\"sk-toggleable__content\"><pre>GradientBoostingRegressor(learning_rate=0.001, n_estimators=250)</pre></div></div></div></div></div></div></div>"
      ],
      "text/plain": [
       "Pipeline(steps=[('preprocess',\n",
       "                 ColumnTransformer(transformers=[('categorical_preprocessing',\n",
       "                                                  Pipeline(steps=[('ohe',\n",
       "                                                                   OneHotEncoder(sparse=False)),\n",
       "                                                                  ('PCA',\n",
       "                                                                   PCA(n_components=1))]),\n",
       "                                                  ['Pos']),\n",
       "                                                 ('numerical_preprocessing',\n",
       "                                                  Pipeline(steps=[('scale',\n",
       "                                                                   StandardScaler()),\n",
       "                                                                  ('selectK_best',\n",
       "                                                                   SelectKBest(k=6))]),\n",
       "                                                  ['Age', 'Height', 'Weight',\n",
       "                                                   'D-1_GP', 'D0_GP',\n",
       "                                                   'Total GP', 'D-1_NHLe',\n",
       "                                                   'D0_NHLe', 'NHLe Total',\n",
       "                                                   'NHLe Progression'])])),\n",
       "                ('best_model',\n",
       "                 GradientBoostingRegressor(learning_rate=0.001,\n",
       "                                           n_estimators=250))])"
      ]
     },
     "execution_count": 243,
     "metadata": {},
     "output_type": "execute_result"
    }
   ],
   "source": [
    "# create the final pipeline with preprocessing steps and \n",
    "# the final classifier step\n",
    "pipeline = Pipeline([\n",
    "    ('preprocess', preprocess),\n",
    "    ('best_model', Gb_clf)\n",
    "])\n",
    "\n",
    "pipeline"
   ]
  },
  {
   "cell_type": "code",
   "execution_count": 244,
   "id": "d1ccf5e9-a187-48fa-886a-131b4d3c1155",
   "metadata": {},
   "outputs": [
    {
     "name": "stdout",
     "output_type": "stream",
     "text": [
      "(415, 11)\n",
      "(415,)\n"
     ]
    }
   ],
   "source": [
    "print(X_train.shape)\n",
    "print(y_train.shape)"
   ]
  },
  {
   "cell_type": "code",
   "execution_count": 245,
   "id": "a4601c36-0d82-4e72-88e4-ddeb2a043659",
   "metadata": {},
   "outputs": [
    {
     "name": "stderr",
     "output_type": "stream",
     "text": [
      "/var/folders/cl/dg9768bj6ys0prn_4p_bbftw0000gn/T/ipykernel_2956/3981937693.py:1: UserWarning: \n",
      "\n",
      "`distplot` is a deprecated function and will be removed in seaborn v0.14.0.\n",
      "\n",
      "Please adapt your code to use either `displot` (a figure-level function with\n",
      "similar flexibility) or `histplot` (an axes-level function for histograms).\n",
      "\n",
      "For a guide to updating your code to use the new functions, please see\n",
      "https://gist.github.com/mwaskom/de44147ed2974457ad6372750bbe5751\n",
      "\n",
      "  sns.distplot(y_test, kde=True)\n"
     ]
    },
    {
     "data": {
      "text/plain": [
       "<AxesSubplot: xlabel='GP', ylabel='Density'>"
      ]
     },
     "execution_count": 245,
     "metadata": {},
     "output_type": "execute_result"
    },
    {
     "data": {
      "image/png": "[encoded data removed]",
      "text/plain": [
       "<Figure size 640x480 with 1 Axes>"
      ]
     },
     "metadata": {},
     "output_type": "display_data"
    }
   ],
   "source": [
    "sns.distplot(y_test, kde=True)"
   ]
  },
  {
   "cell_type": "code",
   "execution_count": 246,
   "id": "5ee3216d-aea2-4a98-83d5-592bf6f72c60",
   "metadata": {},
   "outputs": [],
   "source": [
    "# Call the pipeline on the training data\n",
    "\n",
    "xgb_model = pipeline.fit(X_train, y_train)"
   ]
  },
  {
   "cell_type": "code",
   "execution_count": 247,
   "id": "861712eb-e310-48c9-949b-cc409d81b8d5",
   "metadata": {},
   "outputs": [
    {
     "data": {
      "text/plain": [
       "0.026329223133126467"
      ]
     },
     "execution_count": 247,
     "metadata": {},
     "output_type": "execute_result"
    }
   ],
   "source": [
    "xgb_model.score(X_test, y_test)"
   ]
  },
  {
   "cell_type": "code",
   "execution_count": 248,
   "id": "4ca05d3c-5c32-4c15-b5ae-efd63f2dbbec",
   "metadata": {},
   "outputs": [],
   "source": [
    "feat_names = pipeline.steps[0][1].get_feature_names_out()\n",
    "feat_import = pipeline.steps[1][1].feature_importances_"
   ]
  },
  {
   "cell_type": "code",
   "execution_count": 249,
   "id": "6bb0c6b8-8381-49cc-a366-4cf98da486fe",
   "metadata": {},
   "outputs": [
    {
     "data": {
      "text/plain": [
       "<AxesSubplot: >"
      ]
     },
     "execution_count": 249,
     "metadata": {},
     "output_type": "execute_result"
    },
    {
     "data": {
      "image/png": "[encoded data removed]",
      "text/plain": [
       "<Figure size 640x480 with 1 Axes>"
      ]
     },
     "metadata": {},
     "output_type": "display_data"
    }
   ],
   "source": [
    "sns.set_theme(style='whitegrid', context='talk')\n",
    "\n",
    "sns.set_color_codes('pastel')\n",
    "sns.barplot(x=feat_import, y=feat_names)"
   ]
  },
  {
   "cell_type": "code",
   "execution_count": 253,
   "id": "31b5b210-fcf8-4d68-9da3-a409d95226ff",
   "metadata": {},
   "outputs": [],
   "source": [
    "arr = xgb_model.predict(X_test)"
   ]
  },
  {
   "cell_type": "markdown",
   "id": "e20ed055-d03a-4712-b18e-e4dd7e637510",
   "metadata": {},
   "source": [
    "### Using GridSearch to improve model performance"
   ]
  },
  {
   "cell_type": "code",
   "execution_count": 251,
   "id": "64d5d632-9839-4c55-b468-10d3e6c48846",
   "metadata": {},
   "outputs": [],
   "source": [
    "from sklearn.model_selection import GridSearchCV"
   ]
  },
  {
   "cell_type": "code",
   "execution_count": 252,
   "id": "0dd6d34d-bba3-4787-9ab4-7a5eb935cb0f",
   "metadata": {},
   "outputs": [],
   "source": [
    "param_grid = [\n",
    "    {\n",
    "        'best_model__learning_rate': [0.001, 0.01, 0.1, 1.0],\n",
    "        'best_model__n_estimators': [10, 100, 250],\n",
    "        'best_model__max_depth': [3, 4, 5]\n",
    "    }\n",
    "]"
   ]
  },
  {
   "cell_type": "code",
   "execution_count": 237,
   "id": "bc6ff0b4-e2fb-4959-832f-e3c817694190",
   "metadata": {},
   "outputs": [
    {
     "name": "stdout",
     "output_type": "stream",
     "text": [
      "Fitting 5 folds for each of 36 candidates, totalling 180 fits\n"
     ]
    },
    {
     "data": {
      "text/html": [
       "<style>#sk-container-id-19 {color: black;background-color: white;}#sk-container-id-19 pre{padding: 0;}#sk-container-id-19 div.sk-toggleable {background-color: white;}#sk-container-id-19 label.sk-toggleable__label {cursor: pointer;display: block;width: 100%;margin-bottom: 0;padding: 0.3em;box-sizing: border-box;text-align: center;}#sk-container-id-19 label.sk-toggleable__label-arrow:before {content: \"▸\";float: left;margin-right: 0.25em;color: #696969;}#sk-container-id-19 label.sk-toggleable__label-arrow:hover:before {color: black;}#sk-container-id-19 div.sk-estimator:hover label.sk-toggleable__label-arrow:before {color: black;}#sk-container-id-19 div.sk-toggleable__content {max-height: 0;max-width: 0;overflow: hidden;text-align: left;background-color: #f0f8ff;}#sk-container-id-19 div.sk-toggleable__content pre {margin: 0.2em;color: black;border-radius: 0.25em;background-color: #f0f8ff;}#sk-container-id-19 input.sk-toggleable__control:checked~div.sk-toggleable__content {max-height: 200px;max-width: 100%;overflow: auto;}#sk-container-id-19 input.sk-toggleable__control:checked~label.sk-toggleable__label-arrow:before {content: \"▾\";}#sk-container-id-19 div.sk-estimator input.sk-toggleable__control:checked~label.sk-toggleable__label {background-color: #d4ebff;}#sk-container-id-19 div.sk-label input.sk-toggleable__control:checked~label.sk-toggleable__label {background-color: #d4ebff;}#sk-container-id-19 input.sk-hidden--visually {border: 0;clip: rect(1px 1px 1px 1px);clip: rect(1px, 1px, 1px, 1px);height: 1px;margin: -1px;overflow: hidden;padding: 0;position: absolute;width: 1px;}#sk-container-id-19 div.sk-estimator {font-family: monospace;background-color: #f0f8ff;border: 1px dotted black;border-radius: 0.25em;box-sizing: border-box;margin-bottom: 0.5em;}#sk-container-id-19 div.sk-estimator:hover {background-color: #d4ebff;}#sk-container-id-19 div.sk-parallel-item::after {content: \"\";width: 100%;border-bottom: 1px solid gray;flex-grow: 1;}#sk-container-id-19 div.sk-label:hover label.sk-toggleable__label {background-color: #d4ebff;}#sk-container-id-19 div.sk-serial::before {content: \"\";position: absolute;border-left: 1px solid gray;box-sizing: border-box;top: 0;bottom: 0;left: 50%;z-index: 0;}#sk-container-id-19 div.sk-serial {display: flex;flex-direction: column;align-items: center;background-color: white;padding-right: 0.2em;padding-left: 0.2em;position: relative;}#sk-container-id-19 div.sk-item {position: relative;z-index: 1;}#sk-container-id-19 div.sk-parallel {display: flex;align-items: stretch;justify-content: center;background-color: white;position: relative;}#sk-container-id-19 div.sk-item::before, #sk-container-id-19 div.sk-parallel-item::before {content: \"\";position: absolute;border-left: 1px solid gray;box-sizing: border-box;top: 0;bottom: 0;left: 50%;z-index: -1;}#sk-container-id-19 div.sk-parallel-item {display: flex;flex-direction: column;z-index: 1;position: relative;background-color: white;}#sk-container-id-19 div.sk-parallel-item:first-child::after {align-self: flex-end;width: 50%;}#sk-container-id-19 div.sk-parallel-item:last-child::after {align-self: flex-start;width: 50%;}#sk-container-id-19 div.sk-parallel-item:only-child::after {width: 0;}#sk-container-id-19 div.sk-dashed-wrapped {border: 1px dashed gray;margin: 0 0.4em 0.5em 0.4em;box-sizing: border-box;padding-bottom: 0.4em;background-color: white;}#sk-container-id-19 div.sk-label label {font-family: monospace;font-weight: bold;display: inline-block;line-height: 1.2em;}#sk-container-id-19 div.sk-label-container {text-align: center;}#sk-container-id-19 div.sk-container {/* jupyter's `normalize.less` sets `[hidden] { display: none; }` but bootstrap.min.css set `[hidden] { display: none !important; }` so we also need the `!important` here to be able to override the default hidden behavior on the sphinx rendered scikit-learn.org. See: https://github.com/scikit-learn/scikit-learn/issues/21755 */display: inline-block !important;position: relative;}#sk-container-id-19 div.sk-text-repr-fallback {display: none;}</style><div id=\"sk-container-id-19\" class=\"sk-top-container\"><div class=\"sk-text-repr-fallback\"><pre>GridSearchCV(estimator=Pipeline(steps=[(&#x27;preprocess&#x27;,\n",
       "                                        ColumnTransformer(transformers=[(&#x27;categorical_preprocessing&#x27;,\n",
       "                                                                         Pipeline(steps=[(&#x27;ohe&#x27;,\n",
       "                                                                                          OneHotEncoder(sparse=False)),\n",
       "                                                                                         (&#x27;PCA&#x27;,\n",
       "                                                                                          PCA(n_components=1))]),\n",
       "                                                                         [&#x27;Pos&#x27;]),\n",
       "                                                                        (&#x27;numerical_preprocessing&#x27;,\n",
       "                                                                         Pipeline(steps=[(&#x27;scale&#x27;,\n",
       "                                                                                          StandardScaler()),\n",
       "                                                                                         (&#x27;selectK_best&#x27;,\n",
       "                                                                                          SelectKBest(k=6))]),\n",
       "                                                                         [&#x27;Age&#x27;,\n",
       "                                                                          &#x27;Height&#x27;,\n",
       "                                                                          &#x27;Weight&#x27;,\n",
       "                                                                          &#x27;D-1_GP&#x27;,\n",
       "                                                                          &#x27;D0_GP&#x27;,\n",
       "                                                                          &#x27;Total &#x27;\n",
       "                                                                          &#x27;GP&#x27;,\n",
       "                                                                          &#x27;D-1_NHLe&#x27;,\n",
       "                                                                          &#x27;D0_NHLe&#x27;,\n",
       "                                                                          &#x27;NHLe &#x27;\n",
       "                                                                          &#x27;Total&#x27;,\n",
       "                                                                          &#x27;NHLe &#x27;\n",
       "                                                                          &#x27;Progression&#x27;])])),\n",
       "                                       (&#x27;best_model&#x27;,\n",
       "                                        GradientBoostingRegressor())]),\n",
       "             n_jobs=-1,\n",
       "             param_grid=[{&#x27;best_model__learning_rate&#x27;: [0.001, 0.01, 0.1, 1.0],\n",
       "                          &#x27;best_model__max_depth&#x27;: [3, 4, 5],\n",
       "                          &#x27;best_model__n_estimators&#x27;: [10, 100, 250]}],\n",
       "             verbose=3)</pre><b>In a Jupyter environment, please rerun this cell to show the HTML representation or trust the notebook. <br />On GitHub, the HTML representation is unable to render, please try loading this page with nbviewer.org.</b></div><div class=\"sk-container\" hidden><div class=\"sk-item sk-dashed-wrapped\"><div class=\"sk-label-container\"><div class=\"sk-label sk-toggleable\"><input class=\"sk-toggleable__control sk-hidden--visually\" id=\"sk-estimator-id-119\" type=\"checkbox\" ><label for=\"sk-estimator-id-119\" class=\"sk-toggleable__label sk-toggleable__label-arrow\">GridSearchCV</label><div class=\"sk-toggleable__content\"><pre>GridSearchCV(estimator=Pipeline(steps=[(&#x27;preprocess&#x27;,\n",
       "                                        ColumnTransformer(transformers=[(&#x27;categorical_preprocessing&#x27;,\n",
       "                                                                         Pipeline(steps=[(&#x27;ohe&#x27;,\n",
       "                                                                                          OneHotEncoder(sparse=False)),\n",
       "                                                                                         (&#x27;PCA&#x27;,\n",
       "                                                                                          PCA(n_components=1))]),\n",
       "                                                                         [&#x27;Pos&#x27;]),\n",
       "                                                                        (&#x27;numerical_preprocessing&#x27;,\n",
       "                                                                         Pipeline(steps=[(&#x27;scale&#x27;,\n",
       "                                                                                          StandardScaler()),\n",
       "                                                                                         (&#x27;selectK_best&#x27;,\n",
       "                                                                                          SelectKBest(k=6))]),\n",
       "                                                                         [&#x27;Age&#x27;,\n",
       "                                                                          &#x27;Height&#x27;,\n",
       "                                                                          &#x27;Weight&#x27;,\n",
       "                                                                          &#x27;D-1_GP&#x27;,\n",
       "                                                                          &#x27;D0_GP&#x27;,\n",
       "                                                                          &#x27;Total &#x27;\n",
       "                                                                          &#x27;GP&#x27;,\n",
       "                                                                          &#x27;D-1_NHLe&#x27;,\n",
       "                                                                          &#x27;D0_NHLe&#x27;,\n",
       "                                                                          &#x27;NHLe &#x27;\n",
       "                                                                          &#x27;Total&#x27;,\n",
       "                                                                          &#x27;NHLe &#x27;\n",
       "                                                                          &#x27;Progression&#x27;])])),\n",
       "                                       (&#x27;best_model&#x27;,\n",
       "                                        GradientBoostingRegressor())]),\n",
       "             n_jobs=-1,\n",
       "             param_grid=[{&#x27;best_model__learning_rate&#x27;: [0.001, 0.01, 0.1, 1.0],\n",
       "                          &#x27;best_model__max_depth&#x27;: [3, 4, 5],\n",
       "                          &#x27;best_model__n_estimators&#x27;: [10, 100, 250]}],\n",
       "             verbose=3)</pre></div></div></div><div class=\"sk-parallel\"><div class=\"sk-parallel-item\"><div class=\"sk-item\"><div class=\"sk-label-container\"><div class=\"sk-label sk-toggleable\"><input class=\"sk-toggleable__control sk-hidden--visually\" id=\"sk-estimator-id-120\" type=\"checkbox\" ><label for=\"sk-estimator-id-120\" class=\"sk-toggleable__label sk-toggleable__label-arrow\">estimator: Pipeline</label><div class=\"sk-toggleable__content\"><pre>Pipeline(steps=[(&#x27;preprocess&#x27;,\n",
       "                 ColumnTransformer(transformers=[(&#x27;categorical_preprocessing&#x27;,\n",
       "                                                  Pipeline(steps=[(&#x27;ohe&#x27;,\n",
       "                                                                   OneHotEncoder(sparse=False)),\n",
       "                                                                  (&#x27;PCA&#x27;,\n",
       "                                                                   PCA(n_components=1))]),\n",
       "                                                  [&#x27;Pos&#x27;]),\n",
       "                                                 (&#x27;numerical_preprocessing&#x27;,\n",
       "                                                  Pipeline(steps=[(&#x27;scale&#x27;,\n",
       "                                                                   StandardScaler()),\n",
       "                                                                  (&#x27;selectK_best&#x27;,\n",
       "                                                                   SelectKBest(k=6))]),\n",
       "                                                  [&#x27;Age&#x27;, &#x27;Height&#x27;, &#x27;Weight&#x27;,\n",
       "                                                   &#x27;D-1_GP&#x27;, &#x27;D0_GP&#x27;,\n",
       "                                                   &#x27;Total GP&#x27;, &#x27;D-1_NHLe&#x27;,\n",
       "                                                   &#x27;D0_NHLe&#x27;, &#x27;NHLe Total&#x27;,\n",
       "                                                   &#x27;NHLe Progression&#x27;])])),\n",
       "                (&#x27;best_model&#x27;, GradientBoostingRegressor())])</pre></div></div></div><div class=\"sk-serial\"><div class=\"sk-item\"><div class=\"sk-serial\"><div class=\"sk-item sk-dashed-wrapped\"><div class=\"sk-label-container\"><div class=\"sk-label sk-toggleable\"><input class=\"sk-toggleable__control sk-hidden--visually\" id=\"sk-estimator-id-121\" type=\"checkbox\" ><label for=\"sk-estimator-id-121\" class=\"sk-toggleable__label sk-toggleable__label-arrow\">preprocess: ColumnTransformer</label><div class=\"sk-toggleable__content\"><pre>ColumnTransformer(transformers=[(&#x27;categorical_preprocessing&#x27;,\n",
       "                                 Pipeline(steps=[(&#x27;ohe&#x27;,\n",
       "                                                  OneHotEncoder(sparse=False)),\n",
       "                                                 (&#x27;PCA&#x27;, PCA(n_components=1))]),\n",
       "                                 [&#x27;Pos&#x27;]),\n",
       "                                (&#x27;numerical_preprocessing&#x27;,\n",
       "                                 Pipeline(steps=[(&#x27;scale&#x27;, StandardScaler()),\n",
       "                                                 (&#x27;selectK_best&#x27;,\n",
       "                                                  SelectKBest(k=6))]),\n",
       "                                 [&#x27;Age&#x27;, &#x27;Height&#x27;, &#x27;Weight&#x27;, &#x27;D-1_GP&#x27;, &#x27;D0_GP&#x27;,\n",
       "                                  &#x27;Total GP&#x27;, &#x27;D-1_NHLe&#x27;, &#x27;D0_NHLe&#x27;,\n",
       "                                  &#x27;NHLe Total&#x27;, &#x27;NHLe Progression&#x27;])])</pre></div></div></div><div class=\"sk-parallel\"><div class=\"sk-parallel-item\"><div class=\"sk-item\"><div class=\"sk-label-container\"><div class=\"sk-label sk-toggleable\"><input class=\"sk-toggleable__control sk-hidden--visually\" id=\"sk-estimator-id-122\" type=\"checkbox\" ><label for=\"sk-estimator-id-122\" class=\"sk-toggleable__label sk-toggleable__label-arrow\">categorical_preprocessing</label><div class=\"sk-toggleable__content\"><pre>[&#x27;Pos&#x27;]</pre></div></div></div><div class=\"sk-serial\"><div class=\"sk-item\"><div class=\"sk-serial\"><div class=\"sk-item\"><div class=\"sk-estimator sk-toggleable\"><input class=\"sk-toggleable__control sk-hidden--visually\" id=\"sk-estimator-id-123\" type=\"checkbox\" ><label for=\"sk-estimator-id-123\" class=\"sk-toggleable__label sk-toggleable__label-arrow\">OneHotEncoder</label><div class=\"sk-toggleable__content\"><pre>OneHotEncoder(sparse=False)</pre></div></div></div><div class=\"sk-item\"><div class=\"sk-estimator sk-toggleable\"><input class=\"sk-toggleable__control sk-hidden--visually\" id=\"sk-estimator-id-124\" type=\"checkbox\" ><label for=\"sk-estimator-id-124\" class=\"sk-toggleable__label sk-toggleable__label-arrow\">PCA</label><div class=\"sk-toggleable__content\"><pre>PCA(n_components=1)</pre></div></div></div></div></div></div></div></div><div class=\"sk-parallel-item\"><div class=\"sk-item\"><div class=\"sk-label-container\"><div class=\"sk-label sk-toggleable\"><input class=\"sk-toggleable__control sk-hidden--visually\" id=\"sk-estimator-id-125\" type=\"checkbox\" ><label for=\"sk-estimator-id-125\" class=\"sk-toggleable__label sk-toggleable__label-arrow\">numerical_preprocessing</label><div class=\"sk-toggleable__content\"><pre>[&#x27;Age&#x27;, &#x27;Height&#x27;, &#x27;Weight&#x27;, &#x27;D-1_GP&#x27;, &#x27;D0_GP&#x27;, &#x27;Total GP&#x27;, &#x27;D-1_NHLe&#x27;, &#x27;D0_NHLe&#x27;, &#x27;NHLe Total&#x27;, &#x27;NHLe Progression&#x27;]</pre></div></div></div><div class=\"sk-serial\"><div class=\"sk-item\"><div class=\"sk-serial\"><div class=\"sk-item\"><div class=\"sk-estimator sk-toggleable\"><input class=\"sk-toggleable__control sk-hidden--visually\" id=\"sk-estimator-id-126\" type=\"checkbox\" ><label for=\"sk-estimator-id-126\" class=\"sk-toggleable__label sk-toggleable__label-arrow\">StandardScaler</label><div class=\"sk-toggleable__content\"><pre>StandardScaler()</pre></div></div></div><div class=\"sk-item\"><div class=\"sk-estimator sk-toggleable\"><input class=\"sk-toggleable__control sk-hidden--visually\" id=\"sk-estimator-id-127\" type=\"checkbox\" ><label for=\"sk-estimator-id-127\" class=\"sk-toggleable__label sk-toggleable__label-arrow\">SelectKBest</label><div class=\"sk-toggleable__content\"><pre>SelectKBest(k=6)</pre></div></div></div></div></div></div></div></div></div></div><div class=\"sk-item\"><div class=\"sk-estimator sk-toggleable\"><input class=\"sk-toggleable__control sk-hidden--visually\" id=\"sk-estimator-id-128\" type=\"checkbox\" ><label for=\"sk-estimator-id-128\" class=\"sk-toggleable__label sk-toggleable__label-arrow\">GradientBoostingRegressor</label><div class=\"sk-toggleable__content\"><pre>GradientBoostingRegressor()</pre></div></div></div></div></div></div></div></div></div></div></div></div>"
      ],
      "text/plain": [
       "GridSearchCV(estimator=Pipeline(steps=[('preprocess',\n",
       "                                        ColumnTransformer(transformers=[('categorical_preprocessing',\n",
       "                                                                         Pipeline(steps=[('ohe',\n",
       "                                                                                          OneHotEncoder(sparse=False)),\n",
       "                                                                                         ('PCA',\n",
       "                                                                                          PCA(n_components=1))]),\n",
       "                                                                         ['Pos']),\n",
       "                                                                        ('numerical_preprocessing',\n",
       "                                                                         Pipeline(steps=[('scale',\n",
       "                                                                                          StandardScaler()),\n",
       "                                                                                         ('selectK_best',\n",
       "                                                                                          SelectKBest(k=6))]),\n",
       "                                                                         ['Age',\n",
       "                                                                          'Height',\n",
       "                                                                          'Weight',\n",
       "                                                                          'D-1_GP',\n",
       "                                                                          'D0_GP',\n",
       "                                                                          'Total '\n",
       "                                                                          'GP',\n",
       "                                                                          'D-1_NHLe',\n",
       "                                                                          'D0_NHLe',\n",
       "                                                                          'NHLe '\n",
       "                                                                          'Total',\n",
       "                                                                          'NHLe '\n",
       "                                                                          'Progression'])])),\n",
       "                                       ('best_model',\n",
       "                                        GradientBoostingRegressor())]),\n",
       "             n_jobs=-1,\n",
       "             param_grid=[{'best_model__learning_rate': [0.001, 0.01, 0.1, 1.0],\n",
       "                          'best_model__max_depth': [3, 4, 5],\n",
       "                          'best_model__n_estimators': [10, 100, 250]}],\n",
       "             verbose=3)"
      ]
     },
     "execution_count": 237,
     "metadata": {},
     "output_type": "execute_result"
    }
   ],
   "source": [
    "gridSearch = GridSearchCV(xgb_model, param_grid=param_grid, n_jobs=-1, verbose=3)\n",
    "gridSearch.fit(X_train, y_train)"
   ]
  },
  {
   "cell_type": "code",
   "execution_count": 238,
   "id": "33664d0e-a04e-4fe1-8698-92cfceb1ede8",
   "metadata": {},
   "outputs": [
    {
     "name": "stdout",
     "output_type": "stream",
     "text": [
      "Final score is:  0.026355694691961973\n"
     ]
    }
   ],
   "source": [
    "print('Final score is: ', gridSearch.score(X_test, y_test))"
   ]
  },
  {
   "cell_type": "code",
   "execution_count": 239,
   "id": "7f52e190-b24b-40be-94de-2de1393ee919",
   "metadata": {},
   "outputs": [
    {
     "data": {
      "text/plain": [
       "{'best_model__learning_rate': 0.001,\n",
       " 'best_model__max_depth': 3,\n",
       " 'best_model__n_estimators': 250}"
      ]
     },
     "execution_count": 239,
     "metadata": {},
     "output_type": "execute_result"
    }
   ],
   "source": [
    "gridSearch.best_params_"
   ]
  },
  {
   "cell_type": "markdown",
   "id": "46d71e97-d7b4-402a-8f95-b336fd01b243",
   "metadata": {},
   "source": [
    "### Taking a look at the results"
   ]
  },
  {
   "cell_type": "code",
   "execution_count": 254,
   "id": "32097fed-7ef4-4e9b-85ed-18e7b0cd1f20",
   "metadata": {},
   "outputs": [],
   "source": [
    "overall_reg = []\n",
    "\n",
    "for i in arr:\n",
    "    overall_reg.append(i)"
   ]
  },
  {
   "cell_type": "code",
   "execution_count": 260,
   "id": "e3c7b703-b17c-4352-9b19-dd9c7b2b4adb",
   "metadata": {},
   "outputs": [],
   "source": [
    "overall = pd.DataFrame(overall_reg)\n",
    "\n",
    "X_test['GP_reg'] = overall.iloc[:,0].values\n",
    "\n",
    "X_test.drop(['Overall_reg'], axis=1, inplace=True)"
   ]
  },
  {
   "cell_type": "code",
   "execution_count": 261,
   "id": "164e40a5-4fb9-48dd-b7d9-37d7f6302526",
   "metadata": {},
   "outputs": [
    {
     "data": {
      "text/html": [
       "<div>\n",
       "<style scoped>\n",
       "    .dataframe tbody tr th:only-of-type {\n",
       "        vertical-align: middle;\n",
       "    }\n",
       "\n",
       "    .dataframe tbody tr th {\n",
       "        vertical-align: top;\n",
       "    }\n",
       "\n",
       "    .dataframe thead th {\n",
       "        text-align: right;\n",
       "    }\n",
       "</style>\n",
       "<table border=\"1\" class=\"dataframe\">\n",
       "  <thead>\n",
       "    <tr style=\"text-align: right;\">\n",
       "      <th></th>\n",
       "      <th>Pos</th>\n",
       "      <th>Age</th>\n",
       "      <th>Height</th>\n",
       "      <th>Weight</th>\n",
       "      <th>D-1_GP</th>\n",
       "      <th>D0_GP</th>\n",
       "      <th>Total GP</th>\n",
       "      <th>D-1_NHLe</th>\n",
       "      <th>D0_NHLe</th>\n",
       "      <th>NHLe Total</th>\n",
       "      <th>NHLe Progression</th>\n",
       "      <th>GP_reg</th>\n",
       "    </tr>\n",
       "  </thead>\n",
       "  <tbody>\n",
       "    <tr>\n",
       "      <th>299</th>\n",
       "      <td>C</td>\n",
       "      <td>18.0</td>\n",
       "      <td>177.80</td>\n",
       "      <td>180.0</td>\n",
       "      <td>33.0</td>\n",
       "      <td>31.0</td>\n",
       "      <td>64.0</td>\n",
       "      <td>9.96710</td>\n",
       "      <td>11.37422</td>\n",
       "      <td>21.34132</td>\n",
       "      <td>1.40712</td>\n",
       "      <td>406.419214</td>\n",
       "    </tr>\n",
       "    <tr>\n",
       "      <th>265</th>\n",
       "      <td>LW</td>\n",
       "      <td>18.0</td>\n",
       "      <td>180.34</td>\n",
       "      <td>188.0</td>\n",
       "      <td>55.0</td>\n",
       "      <td>71.0</td>\n",
       "      <td>126.0</td>\n",
       "      <td>2.54364</td>\n",
       "      <td>6.70596</td>\n",
       "      <td>9.24960</td>\n",
       "      <td>4.16232</td>\n",
       "      <td>388.295665</td>\n",
       "    </tr>\n",
       "    <tr>\n",
       "      <th>1244</th>\n",
       "      <td>D</td>\n",
       "      <td>18.0</td>\n",
       "      <td>175.26</td>\n",
       "      <td>191.0</td>\n",
       "      <td>56.0</td>\n",
       "      <td>67.0</td>\n",
       "      <td>123.0</td>\n",
       "      <td>4.20906</td>\n",
       "      <td>5.45710</td>\n",
       "      <td>9.66616</td>\n",
       "      <td>1.24804</td>\n",
       "      <td>388.295665</td>\n",
       "    </tr>\n",
       "    <tr>\n",
       "      <th>210</th>\n",
       "      <td>C</td>\n",
       "      <td>18.0</td>\n",
       "      <td>182.88</td>\n",
       "      <td>185.0</td>\n",
       "      <td>66.0</td>\n",
       "      <td>70.0</td>\n",
       "      <td>136.0</td>\n",
       "      <td>9.59646</td>\n",
       "      <td>12.37134</td>\n",
       "      <td>21.96780</td>\n",
       "      <td>2.77488</td>\n",
       "      <td>433.237079</td>\n",
       "    </tr>\n",
       "    <tr>\n",
       "      <th>1508</th>\n",
       "      <td>RW</td>\n",
       "      <td>18.0</td>\n",
       "      <td>182.88</td>\n",
       "      <td>172.0</td>\n",
       "      <td>50.0</td>\n",
       "      <td>49.0</td>\n",
       "      <td>99.0</td>\n",
       "      <td>2.45344</td>\n",
       "      <td>3.59652</td>\n",
       "      <td>6.04996</td>\n",
       "      <td>1.14308</td>\n",
       "      <td>388.295665</td>\n",
       "    </tr>\n",
       "    <tr>\n",
       "      <th>...</th>\n",
       "      <td>...</td>\n",
       "      <td>...</td>\n",
       "      <td>...</td>\n",
       "      <td>...</td>\n",
       "      <td>...</td>\n",
       "      <td>...</td>\n",
       "      <td>...</td>\n",
       "      <td>...</td>\n",
       "      <td>...</td>\n",
       "      <td>...</td>\n",
       "      <td>...</td>\n",
       "      <td>...</td>\n",
       "    </tr>\n",
       "    <tr>\n",
       "      <th>1327</th>\n",
       "      <td>LW</td>\n",
       "      <td>18.0</td>\n",
       "      <td>185.42</td>\n",
       "      <td>182.0</td>\n",
       "      <td>63.0</td>\n",
       "      <td>67.0</td>\n",
       "      <td>130.0</td>\n",
       "      <td>8.97408</td>\n",
       "      <td>16.76736</td>\n",
       "      <td>25.74144</td>\n",
       "      <td>7.79328</td>\n",
       "      <td>429.958500</td>\n",
       "    </tr>\n",
       "    <tr>\n",
       "      <th>642</th>\n",
       "      <td>RW</td>\n",
       "      <td>18.0</td>\n",
       "      <td>154.94</td>\n",
       "      <td>191.0</td>\n",
       "      <td>42.0</td>\n",
       "      <td>66.0</td>\n",
       "      <td>108.0</td>\n",
       "      <td>2.56824</td>\n",
       "      <td>7.83838</td>\n",
       "      <td>10.40662</td>\n",
       "      <td>5.27014</td>\n",
       "      <td>392.057201</td>\n",
       "    </tr>\n",
       "    <tr>\n",
       "      <th>588</th>\n",
       "      <td>D</td>\n",
       "      <td>18.0</td>\n",
       "      <td>182.88</td>\n",
       "      <td>170.0</td>\n",
       "      <td>61.0</td>\n",
       "      <td>48.0</td>\n",
       "      <td>109.0</td>\n",
       "      <td>3.81546</td>\n",
       "      <td>5.78100</td>\n",
       "      <td>9.59646</td>\n",
       "      <td>1.96554</td>\n",
       "      <td>388.295665</td>\n",
       "    </tr>\n",
       "    <tr>\n",
       "      <th>1162</th>\n",
       "      <td>RW</td>\n",
       "      <td>18.0</td>\n",
       "      <td>180.34</td>\n",
       "      <td>181.0</td>\n",
       "      <td>59.0</td>\n",
       "      <td>56.0</td>\n",
       "      <td>115.0</td>\n",
       "      <td>4.92246</td>\n",
       "      <td>12.63456</td>\n",
       "      <td>17.55702</td>\n",
       "      <td>7.71210</td>\n",
       "      <td>392.024770</td>\n",
       "    </tr>\n",
       "    <tr>\n",
       "      <th>122</th>\n",
       "      <td>C</td>\n",
       "      <td>18.0</td>\n",
       "      <td>182.88</td>\n",
       "      <td>175.0</td>\n",
       "      <td>27.0</td>\n",
       "      <td>24.0</td>\n",
       "      <td>51.0</td>\n",
       "      <td>2.13528</td>\n",
       "      <td>2.59448</td>\n",
       "      <td>4.72976</td>\n",
       "      <td>0.45920</td>\n",
       "      <td>404.198200</td>\n",
       "    </tr>\n",
       "  </tbody>\n",
       "</table>\n",
       "<p>139 rows × 12 columns</p>\n",
       "</div>"
      ],
      "text/plain": [
       "     Pos   Age  Height  Weight  D-1_GP  D0_GP  Total GP  D-1_NHLe   D0_NHLe  \\\n",
       "299    C  18.0  177.80   180.0    33.0   31.0      64.0   9.96710  11.37422   \n",
       "265   LW  18.0  180.34   188.0    55.0   71.0     126.0   2.54364   6.70596   \n",
       "1244   D  18.0  175.26   191.0    56.0   67.0     123.0   4.20906   5.45710   \n",
       "210    C  18.0  182.88   185.0    66.0   70.0     136.0   9.59646  12.37134   \n",
       "1508  RW  18.0  182.88   172.0    50.0   49.0      99.0   2.45344   3.59652   \n",
       "...   ..   ...     ...     ...     ...    ...       ...       ...       ...   \n",
       "1327  LW  18.0  185.42   182.0    63.0   67.0     130.0   8.97408  16.76736   \n",
       "642   RW  18.0  154.94   191.0    42.0   66.0     108.0   2.56824   7.83838   \n",
       "588    D  18.0  182.88   170.0    61.0   48.0     109.0   3.81546   5.78100   \n",
       "1162  RW  18.0  180.34   181.0    59.0   56.0     115.0   4.92246  12.63456   \n",
       "122    C  18.0  182.88   175.0    27.0   24.0      51.0   2.13528   2.59448   \n",
       "\n",
       "      NHLe Total  NHLe Progression      GP_reg  \n",
       "299     21.34132           1.40712  406.419214  \n",
       "265      9.24960           4.16232  388.295665  \n",
       "1244     9.66616           1.24804  388.295665  \n",
       "210     21.96780           2.77488  433.237079  \n",
       "1508     6.04996           1.14308  388.295665  \n",
       "...          ...               ...         ...  \n",
       "1327    25.74144           7.79328  429.958500  \n",
       "642     10.40662           5.27014  392.057201  \n",
       "588      9.59646           1.96554  388.295665  \n",
       "1162    17.55702           7.71210  392.024770  \n",
       "122      4.72976           0.45920  404.198200  \n",
       "\n",
       "[139 rows x 12 columns]"
      ]
     },
     "execution_count": 261,
     "metadata": {},
     "output_type": "execute_result"
    },
    {
     "name": "stdout",
     "output_type": "stream",
     "text": [
      "[CV 3/5] END best_model__learning_rate=0.001, best_model__max_depth=3, best_model__n_estimators=10;, score=-0.006 total time=   0.1s\n",
      "[CV 5/5] END best_model__learning_rate=0.001, best_model__max_depth=3, best_model__n_estimators=10;, score=-0.005 total time=   0.1s\n",
      "[CV 4/5] END best_model__learning_rate=0.001, best_model__max_depth=3, best_model__n_estimators=100;, score=-0.007 total time=   0.2s\n",
      "[CV 3/5] END best_model__learning_rate=0.001, best_model__max_depth=3, best_model__n_estimators=250;, score=-0.006 total time=   0.3s\n",
      "[CV 2/5] END best_model__learning_rate=0.001, best_model__max_depth=4, best_model__n_estimators=10;, score=-0.001 total time=   0.1s\n",
      "[CV 4/5] END best_model__learning_rate=0.001, best_model__max_depth=4, best_model__n_estimators=10;, score=-0.005 total time=   0.1s\n",
      "[CV 2/5] END best_model__learning_rate=0.001, best_model__max_depth=4, best_model__n_estimators=100;, score=0.004 total time=   0.2s\n",
      "[CV 5/5] END best_model__learning_rate=0.001, best_model__max_depth=4, best_model__n_estimators=100;, score=0.007 total time=   0.2s\n",
      "[CV 4/5] END best_model__learning_rate=0.001, best_model__max_depth=4, best_model__n_estimators=250;, score=-0.018 total time=   0.4s\n",
      "[CV 5/5] END best_model__learning_rate=0.001, best_model__max_depth=5, best_model__n_estimators=10;, score=-0.003 total time=   0.1s\n",
      "[CV 3/5] END best_model__learning_rate=0.001, best_model__max_depth=5, best_model__n_estimators=100;, score=-0.008 total time=   0.2s\n",
      "[CV 1/5] END best_model__learning_rate=0.001, best_model__max_depth=5, best_model__n_estimators=250;, score=0.018 total time=   0.5s\n",
      "[CV 1/5] END best_model__learning_rate=0.01, best_model__max_depth=3, best_model__n_estimators=10;, score=0.003 total time=   0.1s\n",
      "[CV 3/5] END best_model__learning_rate=0.01, best_model__max_depth=3, best_model__n_estimators=10;, score=-0.006 total time=   0.1s\n",
      "[CV 1/5] END best_model__learning_rate=0.01, best_model__max_depth=3, best_model__n_estimators=100;, score=-0.035 total time=   0.2s\n",
      "[CV 4/5] END best_model__learning_rate=0.01, best_model__max_depth=3, best_model__n_estimators=100;, score=-0.008 total time=   0.2s\n",
      "[CV 4/5] END best_model__learning_rate=0.01, best_model__max_depth=3, best_model__n_estimators=250;, score=-0.029 total time=   0.4s\n",
      "[CV 4/5] END best_model__learning_rate=0.01, best_model__max_depth=4, best_model__n_estimators=10;, score=-0.009 total time=   0.1s\n",
      "[CV 2/5] END best_model__learning_rate=0.01, best_model__max_depth=4, best_model__n_estimators=100;, score=0.000 total time=   0.2s\n",
      "[CV 2/5] END best_model__learning_rate=0.01, best_model__max_depth=4, best_model__n_estimators=250;, score=-0.048 total time=   0.4s\n",
      "[CV 5/5] END best_model__learning_rate=0.01, best_model__max_depth=4, best_model__n_estimators=250;, score=0.069 total time=   0.4s\n",
      "[CV 4/5] END best_model__learning_rate=0.01, best_model__max_depth=5, best_model__n_estimators=100;, score=-0.074 total time=   0.2s\n",
      "[CV 3/5] END best_model__learning_rate=0.01, best_model__max_depth=5, best_model__n_estimators=250;, score=-0.033 total time=   0.4s\n",
      "[CV 2/5] END best_model__learning_rate=0.1, best_model__max_depth=3, best_model__n_estimators=10;, score=0.033 total time=   0.1s\n",
      "[CV 1/5] END best_model__learning_rate=0.1, best_model__max_depth=3, best_model__n_estimators=100;, score=-0.171 total time=   0.2s\n",
      "[CV 4/5] END best_model__learning_rate=0.1, best_model__max_depth=3, best_model__n_estimators=100;, score=-0.136 total time=   0.2s\n",
      "[CV 3/5] END best_model__learning_rate=0.1, best_model__max_depth=3, best_model__n_estimators=250;, score=-0.206 total time=   0.3s\n",
      "[CV 2/5] END best_model__learning_rate=0.1, best_model__max_depth=4, best_model__n_estimators=10;, score=0.014 total time=   0.1s\n",
      "[CV 4/5] END best_model__learning_rate=0.1, best_model__max_depth=4, best_model__n_estimators=10;, score=-0.061 total time=   0.1s\n",
      "[CV 2/5] END best_model__learning_rate=0.1, best_model__max_depth=4, best_model__n_estimators=100;, score=-0.144 total time=   0.2s\n",
      "[CV 2/5] END best_model__learning_rate=0.1, best_model__max_depth=4, best_model__n_estimators=250;, score=-0.208 total time=   0.4s\n",
      "[CV 1/5] END best_model__learning_rate=0.1, best_model__max_depth=5, best_model__n_estimators=10;, score=-0.094 total time=   0.1s\n",
      "[CV 3/5] END best_model__learning_rate=0.1, best_model__max_depth=5, best_model__n_estimators=10;, score=-0.043 total time=   0.1s\n",
      "[CV 5/5] END best_model__learning_rate=0.1, best_model__max_depth=5, best_model__n_estimators=10;, score=0.075 total time=   0.1s\n",
      "[CV 3/5] END best_model__learning_rate=0.1, best_model__max_depth=5, best_model__n_estimators=100;, score=-0.129 total time=   0.2s\n",
      "[CV 1/5] END best_model__learning_rate=0.1, best_model__max_depth=5, best_model__n_estimators=250;, score=-0.424 total time=   0.5s\n",
      "[CV 1/5] END best_model__learning_rate=1.0, best_model__max_depth=3, best_model__n_estimators=10;, score=-0.820 total time=   0.1s\n",
      "[CV 3/5] END best_model__learning_rate=1.0, best_model__max_depth=3, best_model__n_estimators=10;, score=-0.539 total time=   0.1s\n",
      "[CV 1/5] END best_model__learning_rate=1.0, best_model__max_depth=3, best_model__n_estimators=100;, score=-1.381 total time=   0.2s\n",
      "[CV 4/5] END best_model__learning_rate=1.0, best_model__max_depth=3, best_model__n_estimators=100;, score=-0.426 total time=   0.2s\n",
      "[CV 3/5] END best_model__learning_rate=1.0, best_model__max_depth=3, best_model__n_estimators=250;, score=-0.866 total time=   0.3s\n",
      "[CV 3/5] END best_model__learning_rate=1.0, best_model__max_depth=4, best_model__n_estimators=10;, score=-0.937 total time=   0.1s\n",
      "[CV 1/5] END best_model__learning_rate=1.0, best_model__max_depth=4, best_model__n_estimators=100;, score=-1.211 total time=   0.2s\n",
      "[CV 5/5] END best_model__learning_rate=1.0, best_model__max_depth=4, best_model__n_estimators=100;, score=-0.769 total time=   0.2s\n",
      "[CV 4/5] END best_model__learning_rate=1.0, best_model__max_depth=4, best_model__n_estimators=250;, score=-1.126 total time=   0.4s\n",
      "[CV 5/5] END best_model__learning_rate=1.0, best_model__max_depth=5, best_model__n_estimators=10;, score=-0.240 total time=   0.1s\n",
      "[CV 3/5] END best_model__learning_rate=1.0, best_model__max_depth=5, best_model__n_estimators=100;, score=-1.149 total time=   0.2s\n",
      "[CV 2/5] END best_model__learning_rate=1.0, best_model__max_depth=5, best_model__n_estimators=250;, score=-0.427 total time=   0.4s\n",
      "[CV 2/5] END best_model__learning_rate=0.001, best_model__max_depth=3, best_model__n_estimators=10;, score=0.001 total time=   0.1s\n",
      "[CV 3/5] END best_model__learning_rate=0.001, best_model__max_depth=3, best_model__n_estimators=100;, score=-0.008 total time=   0.2s\n",
      "[CV 5/5] END best_model__learning_rate=0.001, best_model__max_depth=3, best_model__n_estimators=100;, score=0.007 total time=   0.2s\n",
      "[CV 4/5] END best_model__learning_rate=0.001, best_model__max_depth=3, best_model__n_estimators=250;, score=-0.009 total time=   0.4s\n",
      "[CV 5/5] END best_model__learning_rate=0.001, best_model__max_depth=4, best_model__n_estimators=10;, score=-0.004 total time=   0.1s\n",
      "[CV 3/5] END best_model__learning_rate=0.001, best_model__max_depth=4, best_model__n_estimators=100;, score=-0.006 total time=   0.2s\n",
      "[CV 2/5] END best_model__learning_rate=0.001, best_model__max_depth=4, best_model__n_estimators=250;, score=0.016 total time=   0.4s\n",
      "[CV 1/5] END best_model__learning_rate=0.001, best_model__max_depth=5, best_model__n_estimators=10;, score=-0.010 total time=   0.1s\n",
      "[CV 3/5] END best_model__learning_rate=0.001, best_model__max_depth=5, best_model__n_estimators=10;, score=-0.006 total time=   0.1s\n",
      "[CV 1/5] END best_model__learning_rate=0.001, best_model__max_depth=5, best_model__n_estimators=100;, score=0.011 total time=   0.2s\n",
      "[CV 5/5] END best_model__learning_rate=0.001, best_model__max_depth=5, best_model__n_estimators=100;, score=0.019 total time=   0.2s\n",
      "[CV 4/5] END best_model__learning_rate=0.001, best_model__max_depth=5, best_model__n_estimators=250;, score=-0.032 total time=   0.4s\n",
      "[CV 4/5] END best_model__learning_rate=0.01, best_model__max_depth=3, best_model__n_estimators=10;, score=-0.007 total time=   0.1s\n",
      "[CV 2/5] END best_model__learning_rate=0.01, best_model__max_depth=3, best_model__n_estimators=100;, score=0.019 total time=   0.2s\n",
      "[CV 1/5] END best_model__learning_rate=0.01, best_model__max_depth=3, best_model__n_estimators=250;, score=-0.072 total time=   0.4s\n",
      "[CV 5/5] END best_model__learning_rate=0.01, best_model__max_depth=3, best_model__n_estimators=250;, score=0.029 total time=   0.3s\n",
      "[CV 4/5] END best_model__learning_rate=0.01, best_model__max_depth=4, best_model__n_estimators=100;, score=-0.037 total time=   0.2s\n",
      "[CV 3/5] END best_model__learning_rate=0.01, best_model__max_depth=4, best_model__n_estimators=250;, score=-0.029 total time=   0.3s\n",
      "[CV 1/5] END best_model__learning_rate=0.01, best_model__max_depth=5, best_model__n_estimators=10;, score=0.010 total time=   0.1s\n",
      "[CV 3/5] END best_model__learning_rate=0.01, best_model__max_depth=5, best_model__n_estimators=10;, score=-0.005 total time=   0.1s\n",
      "[CV 2/5] END best_model__learning_rate=0.01, best_model__max_depth=5, best_model__n_estimators=100;, score=-0.023 total time=   0.2s\n",
      "[CV 5/5] END best_model__learning_rate=0.01, best_model__max_depth=5, best_model__n_estimators=100;, score=0.091 total time=   0.2s\n",
      "[CV 4/5] END best_model__learning_rate=0.01, best_model__max_depth=5, best_model__n_estimators=250;, score=-0.140 total time=   0.4s\n",
      "[CV 4/5] END best_model__learning_rate=0.1, best_model__max_depth=3, best_model__n_estimators=10;, score=-0.018 total time=   0.1s\n",
      "[CV 3/5] END best_model__learning_rate=0.1, best_model__max_depth=3, best_model__n_estimators=100;, score=-0.119 total time=   0.2s\n",
      "[CV 5/5] END best_model__learning_rate=0.1, best_model__max_depth=3, best_model__n_estimators=100;, score=-0.018 total time=   0.2s\n",
      "[CV 4/5] END best_model__learning_rate=0.1, best_model__max_depth=3, best_model__n_estimators=250;, score=-0.140 total time=   0.3s\n",
      "[CV 5/5] END best_model__learning_rate=0.1, best_model__max_depth=4, best_model__n_estimators=10;, score=0.080 total time=   0.1s\n",
      "[CV 3/5] END best_model__learning_rate=0.1, best_model__max_depth=4, best_model__n_estimators=100;, score=-0.064 total time=   0.2s\n",
      "[CV 1/5] END best_model__learning_rate=0.1, best_model__max_depth=4, best_model__n_estimators=250;, score=-0.438 total time=   0.5s\n",
      "[CV 5/5] END best_model__learning_rate=0.1, best_model__max_depth=4, best_model__n_estimators=250;, score=0.048 total time=   0.4s\n",
      "[CV 4/5] END best_model__learning_rate=0.1, best_model__max_depth=5, best_model__n_estimators=100;, score=-0.201 total time=   0.2s\n",
      "[CV 4/5] END best_model__learning_rate=0.1, best_model__max_depth=5, best_model__n_estimators=250;, score=-0.230 total time=   0.4s\n",
      "[CV 4/5] END best_model__learning_rate=1.0, best_model__max_depth=3, best_model__n_estimators=10;, score=-0.270 total time=   0.1s\n",
      "[CV 2/5] END best_model__learning_rate=1.0, best_model__max_depth=3, best_model__n_estimators=100;, score=-1.191 total time=   0.2s\n",
      "[CV 5/5] END best_model__learning_rate=1.0, best_model__max_depth=3, best_model__n_estimators=100;, score=-0.824 total time=   0.2s\n",
      "[CV 4/5] END best_model__learning_rate=1.0, best_model__max_depth=3, best_model__n_estimators=250;, score=-0.455 total time=   0.3s\n",
      "[CV 4/5] END best_model__learning_rate=1.0, best_model__max_depth=4, best_model__n_estimators=10;, score=-1.036 total time=   0.1s\n",
      "[CV 2/5] END best_model__learning_rate=1.0, best_model__max_depth=4, best_model__n_estimators=100;, score=-0.584 total time=   0.2s\n",
      "[CV 1/5] END best_model__learning_rate=1.0, best_model__max_depth=4, best_model__n_estimators=250;, score=-1.204 total time=   0.5s\n",
      "[CV 1/5] END best_model__learning_rate=1.0, best_model__max_depth=5, best_model__n_estimators=10;, score=-1.115 total time=   0.1s\n",
      "[CV 3/5] END best_model__learning_rate=1.0, best_model__max_depth=5, best_model__n_estimators=10;, score=-1.294 total time=   0.1s\n",
      "[CV 1/5] END best_model__learning_rate=1.0, best_model__max_depth=5, best_model__n_estimators=100;, score=-1.412 total time=   0.2s\n",
      "[CV 5/5] END best_model__learning_rate=1.0, best_model__max_depth=5, best_model__n_estimators=100;, score=-0.494 total time=   0.2s\n",
      "[CV 3/5] END best_model__learning_rate=1.0, best_model__max_depth=5, best_model__n_estimators=250;, score=-1.146 total time=   0.3s\n",
      "[CV 1/5] END best_model__learning_rate=0.001, best_model__max_depth=3, best_model__n_estimators=10;, score=-0.011 total time=   0.1s\n",
      "[CV 1/5] END best_model__learning_rate=0.001, best_model__max_depth=3, best_model__n_estimators=100;, score=0.003 total time=   0.2s\n",
      "[CV 1/5] END best_model__learning_rate=0.001, best_model__max_depth=3, best_model__n_estimators=250;, score=0.007 total time=   0.4s\n",
      "[CV 1/5] END best_model__learning_rate=0.001, best_model__max_depth=4, best_model__n_estimators=10;, score=-0.010 total time=   0.1s\n",
      "[CV 3/5] END best_model__learning_rate=0.001, best_model__max_depth=4, best_model__n_estimators=10;, score=-0.005 total time=   0.1s\n",
      "[CV 1/5] END best_model__learning_rate=0.001, best_model__max_depth=4, best_model__n_estimators=100;, score=0.005 total time=   0.2s\n",
      "[CV 1/5] END best_model__learning_rate=0.001, best_model__max_depth=4, best_model__n_estimators=250;, score=0.007 total time=   0.4s\n",
      "[CV 5/5] END best_model__learning_rate=0.001, best_model__max_depth=4, best_model__n_estimators=250;, score=0.026 total time=   0.4s\n",
      "[CV 4/5] END best_model__learning_rate=0.001, best_model__max_depth=5, best_model__n_estimators=100;, score=-0.010 total time=   0.2s\n",
      "[CV 3/5] END best_model__learning_rate=0.001, best_model__max_depth=5, best_model__n_estimators=250;, score=-0.009 total time=   0.4s\n",
      "[CV 2/5] END best_model__learning_rate=0.01, best_model__max_depth=3, best_model__n_estimators=10;, score=0.010 total time=   0.1s\n",
      "[CV 5/5] END best_model__learning_rate=0.01, best_model__max_depth=3, best_model__n_estimators=10;, score=0.007 total time=   0.1s\n",
      "[CV 3/5] END best_model__learning_rate=0.01, best_model__max_depth=3, best_model__n_estimators=100;, score=-0.016 total time=   0.2s\n",
      "[CV 5/5] END best_model__learning_rate=0.01, best_model__max_depth=3, best_model__n_estimators=100;, score=0.055 total time=   0.2s\n",
      "[CV 3/5] END best_model__learning_rate=0.01, best_model__max_depth=3, best_model__n_estimators=250;, score=-0.015 total time=   0.3s\n",
      "[CV 3/5] END best_model__learning_rate=0.01, best_model__max_depth=4, best_model__n_estimators=10;, score=-0.005 total time=   0.1s\n",
      "[CV 1/5] END best_model__learning_rate=0.01, best_model__max_depth=4, best_model__n_estimators=100;, score=-0.046 total time=   0.2s\n",
      "[CV 5/5] END best_model__learning_rate=0.01, best_model__max_depth=4, best_model__n_estimators=100;, score=0.078 total time=   0.2s\n",
      "[CV 4/5] END best_model__learning_rate=0.01, best_model__max_depth=4, best_model__n_estimators=250;, score=-0.068 total time=   0.3s\n",
      "[CV 4/5] END best_model__learning_rate=0.01, best_model__max_depth=5, best_model__n_estimators=10;, score=-0.011 total time=   0.1s\n",
      "[CV 1/5] END best_model__learning_rate=0.01, best_model__max_depth=5, best_model__n_estimators=100;, score=-0.086 total time=   0.2s\n",
      "[CV 1/5] END best_model__learning_rate=0.01, best_model__max_depth=5, best_model__n_estimators=250;, score=-0.226 total time=   0.5s\n",
      "[CV 5/5] END best_model__learning_rate=0.01, best_model__max_depth=5, best_model__n_estimators=250;, score=0.107 total time=   0.4s\n",
      "[CV 1/5] END best_model__learning_rate=0.1, best_model__max_depth=3, best_model__n_estimators=250;, score=-0.377 total time=   0.4s\n",
      "[CV 1/5] END best_model__learning_rate=0.1, best_model__max_depth=4, best_model__n_estimators=10;, score=-0.069 total time=   0.1s\n",
      "[CV 3/5] END best_model__learning_rate=0.1, best_model__max_depth=4, best_model__n_estimators=10;, score=-0.018 total time=   0.1s\n",
      "[CV 1/5] END best_model__learning_rate=0.1, best_model__max_depth=4, best_model__n_estimators=100;, score=-0.348 total time=   0.2s\n",
      "[CV 5/5] END best_model__learning_rate=0.1, best_model__max_depth=4, best_model__n_estimators=100;, score=0.089 total time=   0.2s\n",
      "[CV 4/5] END best_model__learning_rate=0.1, best_model__max_depth=4, best_model__n_estimators=250;, score=-0.190 total time=   0.4s\n",
      "[CV 1/5] END best_model__learning_rate=0.1, best_model__max_depth=5, best_model__n_estimators=100;, score=-0.406 total time=   0.2s\n",
      "[CV 5/5] END best_model__learning_rate=0.1, best_model__max_depth=5, best_model__n_estimators=100;, score=0.106 total time=   0.2s\n",
      "[CV 3/5] END best_model__learning_rate=0.1, best_model__max_depth=5, best_model__n_estimators=250;, score=-0.163 total time=   0.4s\n",
      "[CV 2/5] END best_model__learning_rate=1.0, best_model__max_depth=3, best_model__n_estimators=10;, score=-0.713 total time=   0.1s\n",
      "[CV 5/5] END best_model__learning_rate=1.0, best_model__max_depth=3, best_model__n_estimators=10;, score=-0.324 total time=   0.1s\n",
      "[CV 3/5] END best_model__learning_rate=1.0, best_model__max_depth=3, best_model__n_estimators=100;, score=-0.784 total time=   0.1s\n",
      "[CV 1/5] END best_model__learning_rate=1.0, best_model__max_depth=3, best_model__n_estimators=250;, score=-1.441 total time=   0.4s\n",
      "[CV 1/5] END best_model__learning_rate=1.0, best_model__max_depth=4, best_model__n_estimators=10;, score=-0.793 total time=   0.1s\n",
      "[CV 2/5] END best_model__learning_rate=1.0, best_model__max_depth=4, best_model__n_estimators=10;, score=-0.377 total time=   0.1s\n",
      "[CV 5/5] END best_model__learning_rate=1.0, best_model__max_depth=4, best_model__n_estimators=10;, score=-0.498 total time=   0.1s\n",
      "[CV 3/5] END best_model__learning_rate=1.0, best_model__max_depth=4, best_model__n_estimators=100;, score=-1.075 total time=   0.2s\n",
      "[CV 2/5] END best_model__learning_rate=1.0, best_model__max_depth=4, best_model__n_estimators=250;, score=-0.690 total time=   0.4s\n",
      "[CV 5/5] END best_model__learning_rate=1.0, best_model__max_depth=4, best_model__n_estimators=250;, score=-0.812 total time=   0.4s\n",
      "[CV 4/5] END best_model__learning_rate=1.0, best_model__max_depth=5, best_model__n_estimators=100;, score=-1.082 total time=   0.2s\n",
      "[CV 4/5] END best_model__learning_rate=1.0, best_model__max_depth=5, best_model__n_estimators=250;, score=-0.909 total time=   0.3s\n",
      "[CV 4/5] END best_model__learning_rate=0.001, best_model__max_depth=3, best_model__n_estimators=10;, score=-0.006 total time=   0.1s\n",
      "[CV 2/5] END best_model__learning_rate=0.001, best_model__max_depth=3, best_model__n_estimators=100;, score=0.010 total time=   0.2s\n",
      "[CV 2/5] END best_model__learning_rate=0.001, best_model__max_depth=3, best_model__n_estimators=250;, score=0.015 total time=   0.4s\n",
      "[CV 5/5] END best_model__learning_rate=0.001, best_model__max_depth=3, best_model__n_estimators=250;, score=0.022 total time=   0.4s\n",
      "[CV 4/5] END best_model__learning_rate=0.001, best_model__max_depth=4, best_model__n_estimators=100;, score=-0.009 total time=   0.2s\n",
      "[CV 3/5] END best_model__learning_rate=0.001, best_model__max_depth=4, best_model__n_estimators=250;, score=-0.007 total time=   0.3s\n",
      "[CV 2/5] END best_model__learning_rate=0.001, best_model__max_depth=5, best_model__n_estimators=10;, score=-0.001 total time=   0.1s\n",
      "[CV 4/5] END best_model__learning_rate=0.001, best_model__max_depth=5, best_model__n_estimators=10;, score=-0.005 total time=   0.1s\n",
      "[CV 2/5] END best_model__learning_rate=0.001, best_model__max_depth=5, best_model__n_estimators=100;, score=-0.002 total time=   0.2s\n",
      "[CV 2/5] END best_model__learning_rate=0.001, best_model__max_depth=5, best_model__n_estimators=250;, score=0.009 total time=   0.4s\n",
      "[CV 5/5] END best_model__learning_rate=0.001, best_model__max_depth=5, best_model__n_estimators=250;, score=0.035 total time=   0.4s\n",
      "[CV 2/5] END best_model__learning_rate=0.01, best_model__max_depth=3, best_model__n_estimators=250;, score=-0.010 total time=   0.3s\n",
      "[CV 1/5] END best_model__learning_rate=0.01, best_model__max_depth=4, best_model__n_estimators=10;, score=0.005 total time=   0.1s\n",
      "[CV 2/5] END best_model__learning_rate=0.01, best_model__max_depth=4, best_model__n_estimators=10;, score=0.003 total time=   0.1s\n",
      "[CV 5/5] END best_model__learning_rate=0.01, best_model__max_depth=4, best_model__n_estimators=10;, score=0.007 total time=   0.1s\n",
      "[CV 3/5] END best_model__learning_rate=0.01, best_model__max_depth=4, best_model__n_estimators=100;, score=-0.018 total time=   0.2s\n",
      "[CV 1/5] END best_model__learning_rate=0.01, best_model__max_depth=4, best_model__n_estimators=250;, score=-0.114 total time=   0.5s\n",
      "[CV 2/5] END best_model__learning_rate=0.01, best_model__max_depth=5, best_model__n_estimators=10;, score=-0.001 total time=   0.1s\n",
      "[CV 5/5] END best_model__learning_rate=0.01, best_model__max_depth=5, best_model__n_estimators=10;, score=0.019 total time=   0.1s\n",
      "[CV 3/5] END best_model__learning_rate=0.01, best_model__max_depth=5, best_model__n_estimators=100;, score=-0.029 total time=   0.2s\n",
      "[CV 2/5] END best_model__learning_rate=0.01, best_model__max_depth=5, best_model__n_estimators=250;, score=-0.059 total time=   0.4s\n",
      "[CV 1/5] END best_model__learning_rate=0.1, best_model__max_depth=3, best_model__n_estimators=10;, score=-0.040 total time=   0.1s\n",
      "[CV 3/5] END best_model__learning_rate=0.1, best_model__max_depth=3, best_model__n_estimators=10;, score=-0.011 total time=   0.1s\n",
      "[CV 5/5] END best_model__learning_rate=0.1, best_model__max_depth=3, best_model__n_estimators=10;, score=0.049 total time=   0.1s\n",
      "[CV 2/5] END best_model__learning_rate=0.1, best_model__max_depth=3, best_model__n_estimators=100;, score=-0.170 total time=   0.2s\n",
      "[CV 2/5] END best_model__learning_rate=0.1, best_model__max_depth=3, best_model__n_estimators=250;, score=-0.288 total time=   0.3s\n",
      "[CV 5/5] END best_model__learning_rate=0.1, best_model__max_depth=3, best_model__n_estimators=250;, score=-0.059 total time=   0.3s\n",
      "[CV 4/5] END best_model__learning_rate=0.1, best_model__max_depth=4, best_model__n_estimators=100;, score=-0.148 total time=   0.2s\n",
      "[CV 3/5] END best_model__learning_rate=0.1, best_model__max_depth=4, best_model__n_estimators=250;, score=-0.158 total time=   0.4s\n",
      "[CV 2/5] END best_model__learning_rate=0.1, best_model__max_depth=5, best_model__n_estimators=10;, score=-0.017 total time=   0.1s\n",
      "[CV 4/5] END best_model__learning_rate=0.1, best_model__max_depth=5, best_model__n_estimators=10;, score=-0.070 total time=   0.1s\n",
      "[CV 2/5] END best_model__learning_rate=0.1, best_model__max_depth=5, best_model__n_estimators=100;, score=-0.213 total time=   0.2s\n",
      "[CV 2/5] END best_model__learning_rate=0.1, best_model__max_depth=5, best_model__n_estimators=250;, score=-0.190 total time=   0.4s\n",
      "[CV 5/5] END best_model__learning_rate=0.1, best_model__max_depth=5, best_model__n_estimators=250;, score=0.057 total time=   0.4s\n",
      "[CV 2/5] END best_model__learning_rate=1.0, best_model__max_depth=3, best_model__n_estimators=250;, score=-1.170 total time=   0.3s\n",
      "[CV 5/5] END best_model__learning_rate=1.0, best_model__max_depth=3, best_model__n_estimators=250;, score=-0.628 total time=   0.3s\n",
      "[CV 4/5] END best_model__learning_rate=1.0, best_model__max_depth=4, best_model__n_estimators=100;, score=-1.409 total time=   0.2s\n",
      "[CV 3/5] END best_model__learning_rate=1.0, best_model__max_depth=4, best_model__n_estimators=250;, score=-0.986 total time=   0.4s\n",
      "[CV 2/5] END best_model__learning_rate=1.0, best_model__max_depth=5, best_model__n_estimators=10;, score=-0.646 total time=   0.1s\n",
      "[CV 4/5] END best_model__learning_rate=1.0, best_model__max_depth=5, best_model__n_estimators=10;, score=-1.019 total time=   0.1s\n",
      "[CV 2/5] END best_model__learning_rate=1.0, best_model__max_depth=5, best_model__n_estimators=100;, score=-0.508 total time=   0.2s\n",
      "[CV 1/5] END best_model__learning_rate=1.0, best_model__max_depth=5, best_model__n_estimators=250;, score=-1.509 total time=   0.4s\n",
      "[CV 5/5] END best_model__learning_rate=1.0, best_model__max_depth=5, best_model__n_estimators=250;, score=-0.379 total time=   0.3s\n"
     ]
    }
   ],
   "source": [
    "X_test"
   ]
  },
  {
   "cell_type": "code",
   "execution_count": null,
   "id": "a0aaa533-53e9-4d42-b496-b6003c0fa66b",
   "metadata": {},
   "outputs": [],
   "source": []
  }
 ],
 "metadata": {
  "kernelspec": {
   "display_name": "Python 3 (ipykernel)",
   "language": "python",
   "name": "python3"
  },
  "language_info": {
   "codemirror_mode": {
    "name": "ipython",
    "version": 3
   },
   "file_extension": ".py",
   "mimetype": "text/x-python",
   "name": "python",
   "nbconvert_exporter": "python",
   "pygments_lexer": "ipython3",
   "version": "3.9.12"
  }
 },
 "nbformat": 4,
 "nbformat_minor": 5
}
